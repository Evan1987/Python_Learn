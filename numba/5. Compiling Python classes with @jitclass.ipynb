{
 "cells": [
  {
   "cell_type": "markdown",
   "metadata": {},
   "source": [
    "Numba supports code generation for classes via the `numba.jitclass()` decorator. A class can be marked for optimization using this decorator along with a specification of the types of each field. We call the resulting class object a *jitclass*. All methods of a jitclass are compiled into nopython functions. **The data of a jitclass instance is allocated on the heap as a C-compatible structure so that any compiled functions can have direct access to the underlying data, bypassing the interpreter.**"
   ]
  },
  {
   "cell_type": "markdown",
   "metadata": {},
   "source": [
    "## 1. Basic Usage"
   ]
  },
  {
   "cell_type": "code",
   "execution_count": 17,
   "metadata": {},
   "outputs": [],
   "source": [
    "import numpy as np\n",
    "from numba import jitclass, int32, float32\n",
    "\n",
    "spec = [(\"value\", int32), (\"array\", float32[:])]\n",
    "\n",
    "\n",
    "@jitclass(spec)\n",
    "class Bag(object):\n",
    "    def __init__(self, value):\n",
    "        self.value = value\n",
    "        self.array = np.zeros(value, dtype=np.float32)\n",
    "    \n",
    "    @property\n",
    "    def size(self):\n",
    "        return self.array * value\n",
    "    \n",
    "    def increment(self, val):\n",
    "        for i in range(self.size):\n",
    "            self.array[i] = val\n",
    "        return self.array"
   ]
  },
  {
   "cell_type": "code",
   "execution_count": 23,
   "metadata": {},
   "outputs": [],
   "source": [
    "class Bag2(object):\n",
    "    def __init__(self, value):\n",
    "        self.value = value\n",
    "        self.array = np.zeros(value, dtype=np.float32)\n",
    "    \n",
    "    @property\n",
    "    def size(self):\n",
    "        return self.array * value\n",
    "    \n",
    "    def increment(self, val):\n",
    "        for i in range(self.size):\n",
    "            self.array[i] = val\n",
    "        return self.array"
   ]
  },
  {
   "cell_type": "code",
   "execution_count": 24,
   "metadata": {},
   "outputs": [],
   "source": [
    "value = 10  # must be a global variable\n",
    "mybag = Bag(value)\n",
    "mybag2 = Bag2(value)"
   ]
  },
  {
   "cell_type": "code",
   "execution_count": 27,
   "metadata": {},
   "outputs": [
    {
     "name": "stdout",
     "output_type": "stream",
     "text": [
      "1.42 µs ± 849 ns per loop (mean ± std. dev. of 10 runs, 5 loops each)\n"
     ]
    }
   ],
   "source": [
    "%timeit -r 10 -n 5 mybag.size"
   ]
  },
  {
   "cell_type": "code",
   "execution_count": 26,
   "metadata": {},
   "outputs": [
    {
     "name": "stdout",
     "output_type": "stream",
     "text": [
      "1.73 µs ± 1.16 µs per loop (mean ± std. dev. of 10 runs, 5 loops each)\n"
     ]
    }
   ],
   "source": [
    "%timeit -r 10 -n 5 mybag2.size"
   ]
  },
  {
   "cell_type": "markdown",
   "metadata": {},
   "source": [
    "In the above example, a spec is provided as a list of 2-tuples. The tuples contain the name of the field and the Numba type of the field. Alternatively, user can use a dictionary (an OrderedDict preferably for stable field ordering), which maps field names to types.   \n",
    "<br>\n",
    "The definition of the class requires at least a `__init__` method for initializing each defined fields. Uninitialized fields contains garbage data. Methods and properties (getters and setters only) can be defined. They will be automatically compiled."
   ]
  },
  {
   "cell_type": "markdown",
   "metadata": {},
   "source": [
    "## 2. Support operations"
   ]
  },
  {
   "cell_type": "markdown",
   "metadata": {},
   "source": [
    "The following operations of jitclasses work in both the interpreter and Numba compiled functions:\n",
    "\n",
    "+ calling the jitclass class object to construct a new instance (e.g. `mybag = Bag(123)`);\n",
    "+ read/write access to attributes and properties (e.g. `mybag.value`);\n",
    "+ calling methods (e.g. `mybag.increment(3)`);"
   ]
  },
  {
   "cell_type": "markdown",
   "metadata": {},
   "source": [
    "Using jitclasses in Numba compiled function is more efficient. Short methods can be inlined (at the discretion of LLVM inliner). Attributes access are simply reading from a C structure. Using jitclasses from the interpreter has the same overhead of calling any Numba compiled function from the interpreter. Arguments and return values must be unboxed or boxed between Python objects and native representation. Values encapsulated by a jitclass does not get boxed into Python object when the jitclass instance is handed to the interpreter. It is during attribute access to the field values that they are boxed."
   ]
  },
  {
   "cell_type": "markdown",
   "metadata": {},
   "source": [
    "## 3. Limitations"
   ]
  },
  {
   "cell_type": "markdown",
   "metadata": {},
   "source": [
    "+ A jitclass class object is treated as a function (the constructor) inside a Numba compiled function.\n",
    "isinstance() only works in the interpreter.\n",
    "+ Manipulating jitclass instances in the interpreter is not optimized, yet.\n",
    "+ Support for jitclasses are available on CPU only. (Note: Support for GPU devices is planned for a future release.)"
   ]
  },
  {
   "cell_type": "markdown",
   "metadata": {},
   "source": [
    "## 4. Another nested example from stackoverflow"
   ]
  },
  {
   "cell_type": "code",
   "execution_count": 33,
   "metadata": {},
   "outputs": [],
   "source": [
    "from numba import jitclass, int32, float64, deferred_type\n",
    "\n",
    "@jitclass(spec=[(\"n\", int32)])\n",
    "class toto(object):\n",
    "    def __init__(self, n):\n",
    "        self.n = 42 + n\n",
    "    \n",
    "    def work(self, y):\n",
    "        return y + self.n\n",
    "\n",
    "    \n",
    "toto_type = deferred_type()\n",
    "toto_type.define(toto.class_type.instance_type)\n",
    "\n",
    "@jitclass(spec=[(\"a\", float64), (\"b\", float64), (\"c\", toto_type)])\n",
    "class fifi(object):\n",
    "    def __init__(self, combis):\n",
    "        self.a = combis\n",
    "        self.b = 2\n",
    "        self.c = toto(combis)\n",
    "    \n",
    "    def sqrt(self, x):\n",
    "        s = x\n",
    "        for i in range(self.a):\n",
    "            s = (s + x / s) / 2.0\n",
    "        return s"
   ]
  },
  {
   "cell_type": "code",
   "execution_count": 34,
   "metadata": {},
   "outputs": [],
   "source": [
    "class toto2(object):\n",
    "    def __init__(self, n):\n",
    "        self.n = 42 + n\n",
    "    \n",
    "    def work(self, y):\n",
    "        return y + self.n\n",
    "\n",
    "class fifi2(object):\n",
    "    def __init__(self, combis):\n",
    "        self.a = combis\n",
    "        self.b = 2\n",
    "        self.c = toto(combis)\n",
    "    \n",
    "    def sqrt(self, x):\n",
    "        s = x\n",
    "        for i in range(self.a):\n",
    "            s = (s + x / s) / 2.0\n",
    "        return s"
   ]
  },
  {
   "cell_type": "code",
   "execution_count": 35,
   "metadata": {},
   "outputs": [],
   "source": [
    "obj = fifi(200)\n",
    "obj2 = fifi2(200)"
   ]
  },
  {
   "cell_type": "code",
   "execution_count": 37,
   "metadata": {},
   "outputs": [
    {
     "name": "stdout",
     "output_type": "stream",
     "text": [
      "3.94 µs ± 863 ns per loop (mean ± std. dev. of 10 runs, 5 loops each)\n"
     ]
    }
   ],
   "source": [
    "%timeit -r 10 -n 5 obj.sqrt(5)"
   ]
  },
  {
   "cell_type": "code",
   "execution_count": 38,
   "metadata": {},
   "outputs": [
    {
     "name": "stdout",
     "output_type": "stream",
     "text": [
      "21.3 µs ± 337 ns per loop (mean ± std. dev. of 10 runs, 5 loops each)\n"
     ]
    }
   ],
   "source": [
    "%timeit -r 10 -n 5 obj2.sqrt(5)"
   ]
  }
 ],
 "metadata": {
  "kernelspec": {
   "display_name": "Python [conda env:root] *",
   "language": "python",
   "name": "conda-root-py"
  },
  "language_info": {
   "codemirror_mode": {
    "name": "ipython",
    "version": 3
   },
   "file_extension": ".py",
   "mimetype": "text/x-python",
   "name": "python",
   "nbconvert_exporter": "python",
   "pygments_lexer": "ipython3",
   "version": "3.6.5"
  }
 },
 "nbformat": 4,
 "nbformat_minor": 2
}
