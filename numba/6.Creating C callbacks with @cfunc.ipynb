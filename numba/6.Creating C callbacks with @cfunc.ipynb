{
 "cells": [
  {
   "cell_type": "markdown",
   "metadata": {},
   "source": [
    "Interfacing with some native libraries (for example written in C or C++) can necessitate writing native callbacks to provide business logic to the library. The `numba.cfunc()` decorator creates a compiled function callable from foreign C code, using the signature of your choice."
   ]
  },
  {
   "cell_type": "markdown",
   "metadata": {},
   "source": [
    "## 1. Basic usage"
   ]
  },
  {
   "cell_type": "markdown",
   "metadata": {},
   "source": [
    "The `@cfunc` decorator has a similar usage to `@jit`, but with an important difference: passing a single signature is mandatory. It determines the visible signature of the C callback:"
   ]
  },
  {
   "cell_type": "code",
   "execution_count": null,
   "metadata": {},
   "outputs": [],
   "source": [
    "from numba import cfunc\n",
    "\n",
    "@cfunc(\"float64(float64, float64)\")\n",
    "def add(x, y):\n",
    "    return x + y"
   ]
  },
  {
   "cell_type": "markdown",
   "metadata": {},
   "source": [
    "The C function object exposes the address of the compiled C callback as the `address` attribute, so that you can pass it to any foreign C or C++ library. It also exposes a `ctypes` callback object pointing to that callback; that object is also callable from Python, making it easy to check the compiled code:"
   ]
  },
  {
   "cell_type": "markdown",
   "metadata": {},
   "source": [
    "## 2. Example"
   ]
  },
  {
   "cell_type": "markdown",
   "metadata": {},
   "source": [
    "In this example, we are going to be using the `scipy.integrate.quad` function. That function accepts either a regular Python callback or a C callback wrapped in a ctypes callback object.\n",
    "\n",
    "Let’s define a pure Python integrand and compile it as a C callback:"
   ]
  },
  {
   "cell_type": "code",
   "execution_count": 1,
   "metadata": {},
   "outputs": [
    {
     "name": "stdout",
     "output_type": "stream",
     "text": [
      "(0.14849550677592208, 3.8736750295955804e-10)\n",
      "(0.14849550677592208, 3.8736750295955804e-10)\n"
     ]
    }
   ],
   "source": [
    "import numpy as np\n",
    "import scipy.integrate as si\n",
    "from numba import cfunc\n",
    "\n",
    "def intergrand(t):\n",
    "    return np.exp(-t) / (t ** 2)\n",
    "\n",
    "nb_intergrand = cfunc(\"float64(float64)\")(intergrand)\n",
    "\n",
    "def do_intergrate(func):\n",
    "    return si.quad(func, 1, np.inf)\n",
    "\n",
    "print(do_intergrate(intergrand))\n",
    "print(do_intergrate(nb_intergrand.ctypes))"
   ]
  },
  {
   "cell_type": "markdown",
   "metadata": {},
   "source": [
    "Using the compiled callback, the integration function does not invoke the Python interpreter each time it evaluates the integrand"
   ]
  },
  {
   "cell_type": "code",
   "execution_count": 2,
   "metadata": {},
   "outputs": [
    {
     "name": "stdout",
     "output_type": "stream",
     "text": [
      "188 µs ± 61.3 µs per loop (mean ± std. dev. of 10 runs, 5 loops each)\n"
     ]
    }
   ],
   "source": [
    "%timeit -r 10 -n 5 do_intergrate(intergrand)"
   ]
  },
  {
   "cell_type": "code",
   "execution_count": 3,
   "metadata": {},
   "outputs": [
    {
     "name": "stdout",
     "output_type": "stream",
     "text": [
      "12.4 µs ± 3.87 µs per loop (mean ± std. dev. of 10 runs, 5 loops each)\n"
     ]
    }
   ],
   "source": [
    "%timeit -r 10 -n 5 do_intergrate(nb_intergrand.ctypes)"
   ]
  },
  {
   "cell_type": "markdown",
   "metadata": {},
   "source": [
    "## 3. Dealing with pointers and array memory"
   ]
  },
  {
   "cell_type": "markdown",
   "metadata": {},
   "source": [
    "A less trivial use case of C callbacks involves doing operation on some array of data passed by the caller. As C doesn’t have a high-level abstraction similar to Numpy arrays, the C callback’s signature will pass low-level pointer and size arguments. Nevertheless, the Python code for the callback will expect to exploit the power and expressiveness of Numpy arrays.\n",
    "\n",
    "In the following example, the C callback is expected to operate on 2-d arrays, with the signature `void(double *input, double *output, int m, int n)`. You can implement such a callback thusly:"
   ]
  },
  {
   "cell_type": "code",
   "execution_count": 4,
   "metadata": {},
   "outputs": [],
   "source": [
    "import numpy as np\n",
    "import ctypes\n",
    "from numba import cfunc, types, carray\n",
    "from scipy import ndimage, LowLevelCallable\n",
    "\n",
    "c_sig = types.intc(types.CPointer(types.intp), \n",
    "                   types.CPointer(types.double), \n",
    "                   types.intc, \n",
    "                   types.intc, \n",
    "                   types.voidptr)\n",
    "\n",
    "@cfunc(c_sig)\n",
    "def transform(output_ptr, input_ptr, output_rank, input_rank, user_data):\n",
    "    input_ = carray(input_ptr, shape=(input_rank, ))\n",
    "    output_ = carray(output_ptr, shape=(output_rank, ))\n",
    "    shift = carray(user_data, shape=(1, ), dtype=types.double)[0]\n",
    "    for i in range(input_rank):\n",
    "        input_[i] = output_[i] - shift\n",
    "    return 1\n",
    "\n",
    "shift = 0.5\n",
    "\n",
    "user_data = ctypes.c_double(shift)\n",
    "ptr = ctypes.cast(ctypes.pointer(user_data), ctypes.c_void_p)\n",
    "callback = LowLevelCallable(transform.ctypes, user_data=ptr)\n",
    "\n",
    "im = np.arange(12).reshape(4, 3).astype(np.float64)"
   ]
  },
  {
   "cell_type": "code",
   "execution_count": 5,
   "metadata": {},
   "outputs": [
    {
     "ename": "ValueError",
     "evalue": "Invalid scipy.LowLevelCallable signature \"long (longlong *, double *, long, long, void *)\". Expected one of: ['int (intptr_t *, double *, int, int, void *)', 'int (npy_intp *, double *, int, int, void *)', 'int (long long *, double *, int, int, void *)']",
     "output_type": "error",
     "traceback": [
      "\u001b[1;31m---------------------------------------------------------------------------\u001b[0m",
      "\u001b[1;31mValueError\u001b[0m                                Traceback (most recent call last)",
      "\u001b[1;32m<ipython-input-5-3fe5221e7145>\u001b[0m in \u001b[0;36m<module>\u001b[1;34m\u001b[0m\n\u001b[1;32m----> 1\u001b[1;33m \u001b[0mndimage\u001b[0m\u001b[1;33m.\u001b[0m\u001b[0mgeometric_transform\u001b[0m\u001b[1;33m(\u001b[0m\u001b[0mim\u001b[0m\u001b[1;33m,\u001b[0m \u001b[0mcallback\u001b[0m\u001b[1;33m)\u001b[0m\u001b[1;33m\u001b[0m\u001b[0m\n\u001b[0m",
      "\u001b[1;32mC:\\ProgramData\\Anaconda3\\lib\\site-packages\\scipy\\ndimage\\interpolation.py\u001b[0m in \u001b[0;36mgeometric_transform\u001b[1;34m(input, mapping, output_shape, output, order, mode, cval, prefilter, extra_arguments, extra_keywords)\u001b[0m\n\u001b[0;32m    260\u001b[0m     _nd_image.geometric_transform(filtered, mapping, None, None, None, output,\n\u001b[0;32m    261\u001b[0m                                   \u001b[0morder\u001b[0m\u001b[1;33m,\u001b[0m \u001b[0mmode\u001b[0m\u001b[1;33m,\u001b[0m \u001b[0mcval\u001b[0m\u001b[1;33m,\u001b[0m \u001b[0mextra_arguments\u001b[0m\u001b[1;33m,\u001b[0m\u001b[1;33m\u001b[0m\u001b[0m\n\u001b[1;32m--> 262\u001b[1;33m                                   extra_keywords)\n\u001b[0m\u001b[0;32m    263\u001b[0m     \u001b[1;32mreturn\u001b[0m \u001b[0moutput\u001b[0m\u001b[1;33m\u001b[0m\u001b[0m\n\u001b[0;32m    264\u001b[0m \u001b[1;33m\u001b[0m\u001b[0m\n",
      "\u001b[1;31mValueError\u001b[0m: Invalid scipy.LowLevelCallable signature \"long (longlong *, double *, long, long, void *)\". Expected one of: ['int (intptr_t *, double *, int, int, void *)', 'int (npy_intp *, double *, int, int, void *)', 'int (long long *, double *, int, int, void *)']"
     ]
    }
   ],
   "source": [
    "ndimage.geometric_transform(im, callback)"
   ]
  },
  {
   "cell_type": "markdown",
   "metadata": {},
   "source": [
    "The `numba.carray()` function takes as input a data pointer and a shape and returns an array view of the given shape over that data. The data is assumed to be laid out in C order. If the data is laid out in Fortran order, `numba.farray()` should be used instead."
   ]
  },
  {
   "cell_type": "code",
   "execution_count": null,
   "metadata": {},
   "outputs": [],
   "source": [
    "import numpy as np\n",
    "from numba import cfunc, carray\n",
    "from numba.types import intc, intp, float64, voidptr,CPointer\n",
    "from scipy import ndimage, LowLevelCallable\n",
    "\n",
    "c_sig = intc(CPointer(float64), intp, CPointer(float64), voidptr)\n",
    "\n",
    "@cfunc(c_sig)\n",
    "def nbmin(values_ptr, len_values, result, data):\n",
    "    values = carray(values_ptr, shape=(len_values, ), dtype=float64)\n",
    "    result[0] = np.inf\n",
    "    for v in values:\n",
    "        if v < result[0]:\n",
    "            result[0] = v\n",
    "    return 1        \n",
    "\n",
    "image = np.random.random((2048, 2048))\n",
    "footprint = np.array([[0, 1, 0], \n",
    "                      [1, 1, 0],\n",
    "                      [0, 1, 0]], dtype=np.bool)\n",
    "callback = LowLevelCallable(nbmin.ctypes)"
   ]
  },
  {
   "cell_type": "code",
   "execution_count": null,
   "metadata": {},
   "outputs": [],
   "source": [
    "ndimage.generic_filter(image, function=callback, footprint=footprint)"
   ]
  },
  {
   "cell_type": "markdown",
   "metadata": {},
   "source": [
    "## 4. Handling C structures"
   ]
  },
  {
   "cell_type": "markdown",
   "metadata": {},
   "source": [
    "### 4.1 With CFFI"
   ]
  },
  {
   "cell_type": "markdown",
   "metadata": {},
   "source": [
    "For applications that have a lot of state, it is useful to pass data in C structures. To simplify the interoperability with C code, numba can convert a `cffi` type into a numba `Record` type using `numba.cffi_support.map_type`:"
   ]
  },
  {
   "cell_type": "code",
   "execution_count": null,
   "metadata": {},
   "outputs": [],
   "source": [
    "from numba import cffi_support\n",
    "\n",
    "nbtype = cffi_support.map_type(cffi_type)"
   ]
  },
  {
   "cell_type": "code",
   "execution_count": null,
   "metadata": {},
   "outputs": [],
   "source": []
  }
 ],
 "metadata": {
  "kernelspec": {
   "display_name": "Python 3",
   "language": "python",
   "name": "python3"
  },
  "language_info": {
   "codemirror_mode": {
    "name": "ipython",
    "version": 3
   },
   "file_extension": ".py",
   "mimetype": "text/x-python",
   "name": "python",
   "nbconvert_exporter": "python",
   "pygments_lexer": "ipython3",
   "version": "3.6.9"
  }
 },
 "nbformat": 4,
 "nbformat_minor": 2
}
