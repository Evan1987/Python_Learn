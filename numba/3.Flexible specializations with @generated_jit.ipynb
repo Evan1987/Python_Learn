{
 "cells": [
  {
   "cell_type": "markdown",
   "metadata": {},
   "source": [
    "While the `jit()` decorator is useful for many situations, sometimes you want to write a function that has different implementations depending on its input types. The `generated_jit()` decorator allows the user to control the selection of a specialization at compile-time, while fully retaining runtime execution speed of a JIT function."
   ]
  },
  {
   "cell_type": "markdown",
   "metadata": {},
   "source": [
    "## 1. Example"
   ]
  },
  {
   "cell_type": "markdown",
   "metadata": {},
   "source": [
    "Suppose you want to write a function which returns whether a given value is a “missing” value according to certain conventions. For the sake of the example, let’s adopt the following definition:  \n",
    "\n",
    "+ for floating-point arguments, a missing value is a `NaN`\n",
    "+ for Numpy datetime64 and timedelta64 arguments, a missing value is a `NaT`\n",
    "+ other types don’t have the concept of a missing value.\n",
    "That compile-time logic is easily implemented using the `generated_jit()` decorator:"
   ]
  },
  {
   "cell_type": "code",
   "execution_count": 25,
   "metadata": {},
   "outputs": [],
   "source": [
    "import numpy as np\n",
    "from numba import generated_jit, types\n",
    "\n",
    "@generated_jit(nopython=True)\n",
    "def is_missing(x):\n",
    "    if isinstance(x, types.Float):\n",
    "        return lambda x: np.isnan(x)\n",
    "    elif isinstance(x, (types.NPDatetime, types.NPTimedelta)):\n",
    "        return lambda x: np.isnat(x)\n",
    "    else:\n",
    "        return lambda x: False"
   ]
  },
  {
   "cell_type": "markdown",
   "metadata": {},
   "source": [
    "There are several things to note here:\n",
    "\n",
    "+ The decorated function is called with the Numba types of the arguments, not their values.\n",
    "+ The decorated function doesn’t actually compute a result, it returns a callable implementing the actual definition of the function for the given types.\n",
    "+ It is possible to pre-compute some data at compile-time to have them reused inside the compiled implementation.\n",
    "+ The function definitions use the same names for arguments as in the decorated function, this is required to ensure passing arguments by name works as expected."
   ]
  }
 ],
 "metadata": {
  "kernelspec": {
   "display_name": "Python 3",
   "language": "python",
   "name": "python3"
  },
  "language_info": {
   "codemirror_mode": {
    "name": "ipython",
    "version": 3
   },
   "file_extension": ".py",
   "mimetype": "text/x-python",
   "name": "python",
   "nbconvert_exporter": "python",
   "pygments_lexer": "ipython3",
   "version": "3.6.8"
  }
 },
 "nbformat": 4,
 "nbformat_minor": 2
}
