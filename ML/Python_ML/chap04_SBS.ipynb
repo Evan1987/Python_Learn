{
 "cells": [
  {
   "cell_type": "code",
   "execution_count": 8,
   "metadata": {
    "collapsed": true
   },
   "outputs": [],
   "source": [
    "import numpy as np\n",
    "import pandas as pd\n",
    "from sklearn.model_selection import train_test_split\n",
    "from itertools import combinations\n",
    "from sklearn.metrics import accuracy_score\n",
    "class SBS():\n",
    "    # 默认评价指标为 ACC\n",
    "    def __init__(self, \n",
    "                 estimator, \n",
    "                 k_features, \n",
    "                 scoring=accuracy_score, \n",
    "                 test_size=0.25,\n",
    "                 random_state=0):\n",
    "        self.scoring = scoring\n",
    "        self.estimator = estimator\n",
    "        self.k_features = k_features\n",
    "        self.test_size = test_size\n",
    "        self.random_state = random_state\n",
    "    # 根据给定的特征子集，计算预测ACC的值\n",
    "    def _calc_score(self, X_train, y_train, X_test, y_test, indices):\n",
    "        self.estimator.fit(X_train[:, indices], y_train)\n",
    "        y_pred = self.estimator.predict(X_test[:, indices])\n",
    "        score = self.scoring(y_test, y_pred)\n",
    "        return score\n",
    "    # 贪心迭代从原始特征中删除特征，确保每次删除评价指标最优\n",
    "    def fit(self, X, y):\n",
    "        X_train, X_test, y_train, y_test = train_test_split(X, \n",
    "                                                            y, \n",
    "                                                            test_size=self.test_size,\n",
    "                                                            random_state=self.random_state)\n",
    "        dim = X_train.shape[1]\n",
    "        self.indices_ = tuple(range(dim))\n",
    "        # 保存每次迭代后的特征组合\n",
    "        self.subsets_ = [self.indices_]\n",
    "        score = self._calc_score(X_train, y_train, X_test, y_test, self.indices_)\n",
    "        # 保存每次迭代后的评价指标\n",
    "        self.scores_ = [score]\n",
    "        while dim > self.k_features:\n",
    "            scoreList = []\n",
    "            indiceList = []\n",
    "            # 从当前特征范围（个数n）中选出特征个数为（n-1）的全部子集\n",
    "            # 对各个子集进行评价，最终保留评价最好的，进入下一次迭代\n",
    "            for subIndices in combinations(self.indices_, len(self.indices_)-1):\n",
    "                tmpScore = self._calc_score(X_train, y_train, X_test, y_test, subIndices)\n",
    "                indiceList.append(subIndices)\n",
    "                scoreList.append(tmpScore)\n",
    "            best = np.argmax(scoreList)\n",
    "            self.indices_ = indiceList[best]\n",
    "            self.subsets_.append(self.indices_)\n",
    "            self.scores_.append(scoreList[best])\n",
    "            dim -= 1\n",
    "        return self\n",
    "    def transform(self, X_test):\n",
    "        return X_test[:, self.indices_]"
   ]
  },
  {
   "cell_type": "code",
   "execution_count": 4,
   "metadata": {},
   "outputs": [],
   "source": [
    "import matplotlib.pyplot as plt\n",
    "from sklearn.neighbors import KNeighborsClassifier\n",
    "from sklearn.preprocessing import StandardScaler\n",
    "df_wine = pd.read_csv(\"F:/for learn/Python_MachineLearning/wine.data\", header=None)\n",
    "df_wine.columns = ['ClassLabel',\n",
    "                   'Alcohol', \n",
    "                   'Malic acid', \n",
    "                   'Ash', \n",
    "                   'Alcalinity of ash', \n",
    "                   'Magnesium', \n",
    "                   'Total phenols', \n",
    "                   'Flavanoids', \n",
    "                   'Nonflavanoid phenols', \n",
    "                   'Proanthocyanins', \n",
    "                   'Color intensity', \n",
    "                   'Hue', \n",
    "                   'OD280/OD315 of diluted wines', \n",
    "                   'Proline']\n",
    "\n",
    "X = df_wine[df_wine.columns[1:]]\n",
    "y = df_wine[df_wine.columns[0]]\n",
    "\n",
    "X_train, X_test, y_train, y_test = train_test_split(X, y, test_size=0.3, random_state=0)\n",
    "scaler = StandardScaler()\n",
    "X_train = scaler.fit_transform(X_train)\n",
    "X_test = scaler.transform(X_test)"
   ]
  },
  {
   "cell_type": "code",
   "execution_count": 9,
   "metadata": {},
   "outputs": [
    {
     "data": {
      "text/plain": [
       "<__main__.SBS at 0x2522087b5f8>"
      ]
     },
     "execution_count": 9,
     "metadata": {},
     "output_type": "execute_result"
    }
   ],
   "source": [
    "knn = KNeighborsClassifier(n_neighbors=2)\n",
    "sbs = SBS(estimator=knn, k_features=1)\n",
    "sbs.fit(X_train, y_train)"
   ]
  },
  {
   "cell_type": "code",
   "execution_count": 15,
   "metadata": {},
   "outputs": [
    {
     "data": {
      "image/png": "[encoded data removed]",
      "text/plain": [
       "<matplotlib.figure.Figure at 0x252208b96d8>"
      ]
     },
     "metadata": {},
     "output_type": "display_data"
    }
   ],
   "source": [
    "kFeatList = [len(indices) for indices in sbs.subsets_]\n",
    "scoreList = sbs.scores_\n",
    "plt.plot(kFeatList, scoreList, marker='o')\n",
    "plt.ylim(0.5, 1.2)\n",
    "plt.ylabel('Accuracy')\n",
    "plt.xlabel('num of features')\n",
    "plt.grid()\n",
    "plt.show()"
   ]
  },
  {
   "cell_type": "code",
   "execution_count": 49,
   "metadata": {},
   "outputs": [
    {
     "name": "stdout",
     "output_type": "stream",
     "text": [
      "Index(['Alcohol', 'Ash', 'Magnesium', 'Flavanoids', 'Nonflavanoid phenols',\n",
      "       'Hue'],\n",
      "      dtype='object')\n"
     ]
    }
   ],
   "source": [
    "k6 = list(sbs.subsets_[np.where(np.array(kFeatList) == 6)[0][0]])\n",
    "print(df_wine.columns[1:][k6])"
   ]
  },
  {
   "cell_type": "code",
   "execution_count": 51,
   "metadata": {},
   "outputs": [
    {
     "name": "stdout",
     "output_type": "stream",
     "text": [
      "the ACC of train is: 0.983870967742\n",
      "the ACC of test is: 0.944444444444\n"
     ]
    }
   ],
   "source": [
    "knn.fit(X_train, y_train)\n",
    "print(\"the ACC of train is:\", knn.score(X_train, y_train))\n",
    "print(\"the ACC of test is:\", knn.score(X_test, y_test))"
   ]
  },
  {
   "cell_type": "code",
   "execution_count": 52,
   "metadata": {},
   "outputs": [
    {
     "name": "stdout",
     "output_type": "stream",
     "text": [
      "the ACC of train is: 0.951612903226\n",
      "the ACC of test is: 0.907407407407\n"
     ]
    }
   ],
   "source": [
    "knn.fit(X_train[:, k6], y_train)\n",
    "print(\"the ACC of train is:\", knn.score(X_train[:, k6], y_train))\n",
    "print(\"the ACC of test is:\", knn.score(X_test[:, k6], y_test))"
   ]
  }
 ],
 "metadata": {
  "kernelspec": {
   "display_name": "Python 3",
   "language": "python",
   "name": "python3"
  },
  "language_info": {
   "codemirror_mode": {
    "name": "ipython",
    "version": 3
   },
   "file_extension": ".py",
   "mimetype": "text/x-python",
   "name": "python",
   "nbconvert_exporter": "python",
   "pygments_lexer": "ipython3",
   "version": "3.6.1"
  }
 },
 "nbformat": 4,
 "nbformat_minor": 2
}
