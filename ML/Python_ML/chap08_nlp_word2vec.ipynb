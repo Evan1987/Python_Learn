{
 "cells": [
  {
   "cell_type": "code",
   "execution_count": 35,
   "metadata": {
    "collapsed": true
   },
   "outputs": [],
   "source": [
    "import numpy as np\n",
    "import pandas as pd\n",
    "from sklearn.feature_extraction.text import CountVectorizer, TfidfTransformer\n",
    "np.set_printoptions(precision=4)"
   ]
  },
  {
   "cell_type": "code",
   "execution_count": 32,
   "metadata": {},
   "outputs": [
    {
     "name": "stdout",
     "output_type": "stream",
     "text": [
      "{'the': 5, 'sun': 3, 'is': 1, 'shining': 2, 'weather': 6, 'sweet': 4, 'and': 0}\n",
      "[[0 1 1 1 0 1 0]\n",
      " [0 1 0 0 1 1 1]\n",
      " [1 2 1 1 1 2 1]]\n",
      "   and  is  shining  sun  sweet  the  weather\n",
      "0    0   1        1    1      0    1        0\n",
      "1    0   1        0    0      1    1        1\n",
      "2    1   2        1    1      1    2        1\n"
     ]
    }
   ],
   "source": [
    "# 测试词袋模型（1元组模型， 默认）\n",
    "docs = np.array([\"The sun is shining\", \n",
    "                 \"The weather is sweet\", \n",
    "                 \"The sun is shining and the weather is sweet\"])\n",
    "count = CountVectorizer(ngram_range=(1, 1))\n",
    "bags = count.fit_transform(docs)\n",
    "print(count.vocabulary_)\n",
    "print(bags.toarray())\n",
    "\n",
    "# 将词袋模型的 vec结果（原始词频）对应上相应的词\n",
    "vocab_index_dic = {v: k for k, v in count.vocabulary_.items()}\n",
    "names = [vocab_index_dic.get(index) for index in range(len(vocab_index_dic))]\n",
    "bags_df = pd.DataFrame(bags.toarray(), columns=names)\n",
    "print(bags_df)\n"
   ]
  },
  {
   "cell_type": "code",
   "execution_count": 53,
   "metadata": {},
   "outputs": [
    {
     "name": "stdout",
     "output_type": "stream",
     "text": [
      "        and        is   shining       sun     sweet       the   weather\n",
      "0  0.000000  0.433708  0.558478  0.558478  0.000000  0.433708  0.000000\n",
      "1  0.000000  0.433708  0.000000  0.000000  0.558478  0.433708  0.558478\n",
      "2  0.404748  0.478102  0.307822  0.307822  0.307822  0.478102  0.307822\n"
     ]
    }
   ],
   "source": [
    "# TF-IDF单词关联度\n",
    "# nd:文档总数\n",
    "# df(d, t)：包含词汇 t的文档 d的数量。\n",
    "# tf(t, d)：词频统计\n",
    "# tf-idf(t, d) = tf(t, d) * (idf(t, d) + 1)\n",
    "# idf(t, d) = log((nd + 1) / (1 + df(d, t)))\n",
    "# sklearn 还会对每个文档的结果做 L2归一化\n",
    "tfidf = TfidfTransformer()\n",
    "tfidf_df = pd.DataFrame(tfidf.fit_transform(bags).toarray(), columns=names)\n",
    "print(tfidf_df)"
   ]
  }
 ],
 "metadata": {
  "kernelspec": {
   "display_name": "Python 3",
   "language": "python",
   "name": "python3"
  },
  "language_info": {
   "codemirror_mode": {
    "name": "ipython",
    "version": 3
   },
   "file_extension": ".py",
   "mimetype": "text/x-python",
   "name": "python",
   "nbconvert_exporter": "python",
   "pygments_lexer": "ipython3",
   "version": "3.6.1"
  }
 },
 "nbformat": 4,
 "nbformat_minor": 2
}
