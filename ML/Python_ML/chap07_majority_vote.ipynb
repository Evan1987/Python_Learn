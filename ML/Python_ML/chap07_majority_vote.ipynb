{
 "cells": [
  {
   "cell_type": "code",
   "execution_count": 1,
   "metadata": {
    "collapsed": true
   },
   "outputs": [],
   "source": [
    "import numpy as np\n",
    "import operator as op\n",
    "from sklearn.preprocessing import LabelEncoder\n",
    "from sklearn.pipeline import _name_estimators\n",
    "from sklearn.externals import six\n",
    "from sklearn.base import clone, ClassifierMixin, BaseEstimator\n",
    "from sklearn.neighbors import KNeighborsClassifier\n",
    "# 模拟了 from sklearn.ensemble import VotingClassifier\n",
    "# 继承了 BaseEstimator，获得了 get_params 和 set_params方法\n",
    "# 继承了 ClassifierMixin， 获得了 score 方法\n",
    "class MajorityVoteClassifier(BaseEstimator, ClassifierMixin):\n",
    "    def __init__(self, classifiers, vote='classlabel', weights=None):\n",
    "        # 保存未训练的 classifier\n",
    "        self.classifiers = classifiers\n",
    "        # 保存全部基分类器的各种参数\n",
    "        self.named_classifiers = {key: value \n",
    "                                  for key, value in _name_estimators(classifiers)}\n",
    "        self.vote = vote\n",
    "        self.weights = weights\n",
    "\n",
    "    def fit(self, X, y):\n",
    "        \n",
    "        if self.vote not in ('probability', 'classlabel'):\n",
    "            raise ValueError(\"vote must be 'probability' or 'classlabel'\" \n",
    "                             \"; got (vote=%r)\" % self.vote)\n",
    "        \n",
    "        if self.weights and len(self.weights) != len(self.classifiers):\n",
    "            raise ValueError(\"Number of classifiers and weights must be equal\" \n",
    "                             \"; got %d weights, %d classifiers\" \n",
    "                             % (len(self.weights), len(self.classifiers)))        \n",
    "        \n",
    "        self.labelenc_ = LabelEncoder()\n",
    "        # 这个encoder是内部的，如果外部进行了encoder，此处可能会导致与外部不一致，因此最终输出时要inverse\n",
    "        self.labelenc_.fit(y)\n",
    "        transformed_y = self.labelenc_.transform(y)\n",
    "        # 保存原始类别名称\n",
    "        self.classes_ = self.labelenc_.classes_\n",
    "        # 保存已训练的 classifier\n",
    "        self.classififers_ = []\n",
    "        for clf in self.classifiers:\n",
    "            fitted_clf = clone(clf).fit(X, transformed_y)\n",
    "            self.classififers_.append(fitted_clf)\n",
    "        return self\n",
    "    \n",
    "    def predict_proba(self, X):\n",
    "        # 各个分类器输出的分类决策概率\n",
    "        probas = [clf.predict_proba(X) for clf in self.classififers_]\n",
    "        # 按实例的权重求加权平均，得到在各个样本的每个类别上的决策概率\n",
    "        avg_probas = np.average(probas, axis=0, weights=self.weights)\n",
    "        return avg_probas\n",
    "    \n",
    "    def predict(self, X):\n",
    "        if self.vote == 'probability':\n",
    "            # 各个分类器加权输出了每个样本各个类别的决策概率，则最终输出只要选择最大概率的那个就好\n",
    "            # 因为输出类别已经做了LabelEncodeer，所以直接使用 argmax输出索引即是 encode之后的类别\n",
    "            maj_vote = np.argmax(self.predict_proba(X), axis=1)\n",
    "        elif self.vote == 'classlabel':\n",
    "            predictions = np.array([clf.predict(X) for clf in self.classififers_]).T\n",
    "            # 加权计票函数\n",
    "            f = lambda x: np.argmax(np.bincount(x, weights=self.weights))\n",
    "            maj_vote = np.apply_along_axis(arr=predictions, axis=1, func1d=f)\n",
    "        # 在输出时重新转换回来\n",
    "        return self.labelenc_.inverse_transform(maj_vote)\n",
    "    \n",
    "    def get_params(self, deep=True):\n",
    "        # 如果 deep=False 则只需要到自身实例的参数即可\n",
    "        if not deep:\n",
    "            return super(MajorityVoteClassifier, self).get_params(deep=False)\n",
    "        # 如果 deep=True 则需要深入到每个基分类器的具体参数\n",
    "        else:\n",
    "            out = self.named_classifiers.copy()\n",
    "            # name: estimator的名字代号\n",
    "            # method： estimator具体的方法实例\n",
    "            for name, method in list(out.items()):\n",
    "                # key： estimator的参数名称\n",
    "                # value： estimator的参数值\n",
    "                for key, value in list(method.get_params().items()):\n",
    "                    out[\"%s__%s\" % (name, key)] = value\n",
    "        return out"
   ]
  },
  {
   "cell_type": "code",
   "execution_count": 2,
   "metadata": {
    "collapsed": true
   },
   "outputs": [],
   "source": [
    "from sklearn.datasets import load_iris\n",
    "from sklearn.model_selection import train_test_split, cross_val_score\n",
    "from sklearn.preprocessing import StandardScaler, LabelEncoder\n",
    "from sklearn.linear_model import LogisticRegression\n",
    "from sklearn.tree import DecisionTreeClassifier\n",
    "from sklearn.neighbors import KNeighborsClassifier\n",
    "from sklearn.pipeline import Pipeline\n",
    "\n",
    "clf1 = LogisticRegression(penalty='l2', C=0.001, random_state=0)\n",
    "clf2 = DecisionTreeClassifier(max_depth=1, criterion='entropy', random_state=0)\n",
    "clf3 = KNeighborsClassifier(metric='minkowski', p=2, n_neighbors=1)\n",
    "# 由于 Logisitic 和 KNN都涉及标准化，因此利用 pipeline来整合。\n",
    "pipe1 = Pipeline([('sc', StandardScaler()), ('clf', clf1)])\n",
    "pipe3 = Pipeline([('sc', StandardScaler()), ('clf', clf3)])\n",
    "\n",
    "mv_clf = MajorityVoteClassifier(classifiers=[pipe1, clf2, pipe3])\n",
    "classifiers = [pipe1, clf2, pipe3, mv_clf]\n",
    "clf_labels = ['Logistic Regression', 'Decision Tree', 'KNN', 'Majority Voting']"
   ]
  },
  {
   "cell_type": "code",
   "execution_count": 3,
   "metadata": {
    "collapsed": true
   },
   "outputs": [],
   "source": [
    "iris = load_iris()\n",
    "dat = iris.data\n",
    "labels = iris.target\n",
    "# 从 iris数据中只选出两类。\n",
    "mask = np.isin(labels, [1, 2])\n",
    "X = dat[mask][:, [1, 2]]\n",
    "y = labels[mask]\n",
    "le = LabelEncoder()\n",
    "y = le.fit_transform(y)\n",
    "X_train, X_test, y_train, y_test = train_test_split(X, y, test_size=0.5, random_state=1)"
   ]
  },
  {
   "cell_type": "code",
   "execution_count": 32,
   "metadata": {},
   "outputs": [
    {
     "name": "stdout",
     "output_type": "stream",
     "text": [
      "ROC AUC: 0.91 (+/- 0.12) [Logistic Regression] \n",
      "ROC AUC: 0.93 (+/- 0.10) [Decision Tree] \n",
      "ROC AUC: 0.89 (+/- 0.10) [KNN] \n",
      "ROC AUC: 0.96 (+/- 0.06) [Majority Voting] \n"
     ]
    }
   ],
   "source": [
    "# 输出基分类器和 mv的 auc\n",
    "for label, clf in zip(clf_labels, classifiers):\n",
    "    scores = cross_val_score(X=X_train, \n",
    "                             y=y_train, \n",
    "                             cv=5, \n",
    "                             scoring='roc_auc', \n",
    "                             estimator=clf)\n",
    "    print(\"ROC AUC: %0.2f (+/- %0.2f) [%s] \" % (scores.mean(), scores.std(), label))"
   ]
  },
  {
   "cell_type": "code",
   "execution_count": 45,
   "metadata": {},
   "outputs": [
    {
     "data": {
      "image/png": "[encoded data removed]",
      "text/plain": [
       "<matplotlib.figure.Figure at 0x1a4e4ace1d0>"
      ]
     },
     "metadata": {},
     "output_type": "display_data"
    }
   ],
   "source": [
    "# 在测试数据上描绘 MajorityVoteClassifier和其他基分类器的 ROC\n",
    "from sklearn.metrics import roc_curve, auc\n",
    "import matplotlib.pyplot as plt\n",
    "colors = ['black', 'orange', 'blue', 'red']\n",
    "linestyles = [':', '--', '-.', '-']\n",
    "for label, clf, color, linestyle in zip(clf_labels, classifiers, colors, linestyles):\n",
    "    clf.fit(X_train, y_train)\n",
    "    # 令类别序号 = 1为正类\n",
    "    y_pred_proba = clf.predict_proba(X_test)\n",
    "    fpr, tpr, thresholds = roc_curve(y_true=y_test, \n",
    "                                     y_score=y_pred_proba[:, 1], \n",
    "                                     pos_label=1)\n",
    "    roc_auc = auc(fpr,tpr)\n",
    "    plt.plot(fpr, \n",
    "             tpr, \n",
    "             color=color, \n",
    "             linestyle=linestyle, label=\"%s (auc=%0.2f)\" % (label, roc_auc))\n",
    "plt.legend(loc=\"lower right\")\n",
    "plt.plot([0, 1], [0, 1], linestyle=\"--\", color=\"gray\", linewidth=2)\n",
    "plt.xlim([-0.1, 1.1])\n",
    "plt.ylim([-0.1, 1.1])\n",
    "plt.grid()\n",
    "plt.xlabel(\"FPR\")\n",
    "plt.ylabel(\"TPR\")\n",
    "plt.show()   "
   ]
  },
  {
   "cell_type": "code",
   "execution_count": 58,
   "metadata": {
    "collapsed": true
   },
   "outputs": [],
   "source": [
    "# 描绘决策区域，为了便于在同样的尺度下进行展示，因此还是需要对整体特征做标准化\n",
    "from itertools import product\n",
    "sc = StandardScaler()\n",
    "X_train_std = sc.fit_transform(X_train)\n",
    "# 得到决策网格\n",
    "x_min = X_train_std[:, 0].min() - 1\n",
    "x_max = X_train_std[:, 0].max() + 1\n",
    "y_min = X_train_std[:, 1].min() - 1\n",
    "y_max = X_train_std[:, 1].max() + 1\n",
    "xx, yy = np.meshgrid(np.arange(x_min, x_max, 0.1), np.arange(y_min, y_max, 0.1))"
   ]
  },
  {
   "cell_type": "code",
   "execution_count": 84,
   "metadata": {},
   "outputs": [
    {
     "data": {
      "image/png": "[encoded data removed]",
      "text/plain": [
       "<matplotlib.figure.Figure at 0x1a4e5e9f828>"
      ]
     },
     "metadata": {},
     "output_type": "display_data"
    }
   ],
   "source": [
    "fig, axes = plt.subplots(nrows=2, ncols=2, sharex=\"col\", sharey=\"row\", figsize=(10, 9))\n",
    "colors = [\"blue\", \"red\"]\n",
    "markers = [\"o\", \"x\"]\n",
    "y_labels = np.unique(y)\n",
    "for idx, label, clf in zip(product([0, 1], [0, 1]), clf_labels, classifiers):\n",
    "    clf.fit(X_train_std, y_train)\n",
    "    z = clf.predict(np.array([xx.ravel(), yy.ravel()]).T).reshape(xx.shape)\n",
    "    axes[idx].contourf(xx, yy, z, alpha=0.3)\n",
    "    for index, cl in enumerate(y_labels):\n",
    "        axes[idx].scatter(x=X_train_std[y_train == cl, 0], \n",
    "                          y=X_train_std[y_train == cl, 1], \n",
    "                          c=colors[index], \n",
    "                          marker=markers[index], \n",
    "                          label=cl,\n",
    "                          s=50)\n",
    "    axes[idx].set_title(label)\n",
    "#不能这样加坐标轴标题，因为plt是加到当前绘制的图（最后一个子图）里\n",
    "#plt.xlabel(\"Sepal Width [std]\")\n",
    "#plt.ylabel(\"Petal length [std]\")\n",
    "plt.text(-3.5, -4.5, s=\"Sepal Width [std]\", ha=\"center\", va=\"center\", fontsize=12)\n",
    "plt.text(-10.5, 4.5, s=\"Petal Length [std]\", ha=\"center\", va=\"center\", fontsize=12, rotation=90)\n",
    "plt.show()"
   ]
  },
  {
   "cell_type": "code",
   "execution_count": 98,
   "metadata": {},
   "outputs": [
    {
     "data": {
      "text/plain": [
       "{'decisiontreeclassifier': DecisionTreeClassifier(class_weight=None, criterion='entropy', max_depth=1,\n",
       "             max_features=None, max_leaf_nodes=None,\n",
       "             min_impurity_decrease=0.0, min_impurity_split=None,\n",
       "             min_samples_leaf=1, min_samples_split=2,\n",
       "             min_weight_fraction_leaf=0.0, presort=False, random_state=0,\n",
       "             splitter='best'),\n",
       " 'decisiontreeclassifier__class_weight': None,\n",
       " 'decisiontreeclassifier__criterion': 'entropy',\n",
       " 'decisiontreeclassifier__max_depth': 1,\n",
       " 'decisiontreeclassifier__max_features': None,\n",
       " 'decisiontreeclassifier__max_leaf_nodes': None,\n",
       " 'decisiontreeclassifier__min_impurity_decrease': 0.0,\n",
       " 'decisiontreeclassifier__min_impurity_split': None,\n",
       " 'decisiontreeclassifier__min_samples_leaf': 1,\n",
       " 'decisiontreeclassifier__min_samples_split': 2,\n",
       " 'decisiontreeclassifier__min_weight_fraction_leaf': 0.0,\n",
       " 'decisiontreeclassifier__presort': False,\n",
       " 'decisiontreeclassifier__random_state': 0,\n",
       " 'decisiontreeclassifier__splitter': 'best',\n",
       " 'pipeline-1': Pipeline(memory=None,\n",
       "      steps=[('sc', StandardScaler(copy=True, with_mean=True, with_std=True)), ('clf', LogisticRegression(C=0.001, class_weight=None, dual=False, fit_intercept=True,\n",
       "           intercept_scaling=1, max_iter=100, multi_class='ovr', n_jobs=1,\n",
       "           penalty='l2', random_state=0, solver='liblinear', tol=0.0001,\n",
       "           verbose=0, warm_start=False))]),\n",
       " 'pipeline-1__clf': LogisticRegression(C=0.001, class_weight=None, dual=False, fit_intercept=True,\n",
       "           intercept_scaling=1, max_iter=100, multi_class='ovr', n_jobs=1,\n",
       "           penalty='l2', random_state=0, solver='liblinear', tol=0.0001,\n",
       "           verbose=0, warm_start=False),\n",
       " 'pipeline-1__clf__C': 0.001,\n",
       " 'pipeline-1__clf__class_weight': None,\n",
       " 'pipeline-1__clf__dual': False,\n",
       " 'pipeline-1__clf__fit_intercept': True,\n",
       " 'pipeline-1__clf__intercept_scaling': 1,\n",
       " 'pipeline-1__clf__max_iter': 100,\n",
       " 'pipeline-1__clf__multi_class': 'ovr',\n",
       " 'pipeline-1__clf__n_jobs': 1,\n",
       " 'pipeline-1__clf__penalty': 'l2',\n",
       " 'pipeline-1__clf__random_state': 0,\n",
       " 'pipeline-1__clf__solver': 'liblinear',\n",
       " 'pipeline-1__clf__tol': 0.0001,\n",
       " 'pipeline-1__clf__verbose': 0,\n",
       " 'pipeline-1__clf__warm_start': False,\n",
       " 'pipeline-1__memory': None,\n",
       " 'pipeline-1__sc': StandardScaler(copy=True, with_mean=True, with_std=True),\n",
       " 'pipeline-1__sc__copy': True,\n",
       " 'pipeline-1__sc__with_mean': True,\n",
       " 'pipeline-1__sc__with_std': True,\n",
       " 'pipeline-1__steps': [('sc',\n",
       "   StandardScaler(copy=True, with_mean=True, with_std=True)),\n",
       "  ('clf',\n",
       "   LogisticRegression(C=0.001, class_weight=None, dual=False, fit_intercept=True,\n",
       "             intercept_scaling=1, max_iter=100, multi_class='ovr', n_jobs=1,\n",
       "             penalty='l2', random_state=0, solver='liblinear', tol=0.0001,\n",
       "             verbose=0, warm_start=False))],\n",
       " 'pipeline-2': Pipeline(memory=None,\n",
       "      steps=[('sc', StandardScaler(copy=True, with_mean=True, with_std=True)), ('clf', KNeighborsClassifier(algorithm='auto', leaf_size=30, metric='minkowski',\n",
       "            metric_params=None, n_jobs=1, n_neighbors=1, p=2,\n",
       "            weights='uniform'))]),\n",
       " 'pipeline-2__clf': KNeighborsClassifier(algorithm='auto', leaf_size=30, metric='minkowski',\n",
       "            metric_params=None, n_jobs=1, n_neighbors=1, p=2,\n",
       "            weights='uniform'),\n",
       " 'pipeline-2__clf__algorithm': 'auto',\n",
       " 'pipeline-2__clf__leaf_size': 30,\n",
       " 'pipeline-2__clf__metric': 'minkowski',\n",
       " 'pipeline-2__clf__metric_params': None,\n",
       " 'pipeline-2__clf__n_jobs': 1,\n",
       " 'pipeline-2__clf__n_neighbors': 1,\n",
       " 'pipeline-2__clf__p': 2,\n",
       " 'pipeline-2__clf__weights': 'uniform',\n",
       " 'pipeline-2__memory': None,\n",
       " 'pipeline-2__sc': StandardScaler(copy=True, with_mean=True, with_std=True),\n",
       " 'pipeline-2__sc__copy': True,\n",
       " 'pipeline-2__sc__with_mean': True,\n",
       " 'pipeline-2__sc__with_std': True,\n",
       " 'pipeline-2__steps': [('sc',\n",
       "   StandardScaler(copy=True, with_mean=True, with_std=True)),\n",
       "  ('clf',\n",
       "   KNeighborsClassifier(algorithm='auto', leaf_size=30, metric='minkowski',\n",
       "              metric_params=None, n_jobs=1, n_neighbors=1, p=2,\n",
       "              weights='uniform'))]}"
      ]
     },
     "execution_count": 98,
     "metadata": {},
     "output_type": "execute_result"
    }
   ],
   "source": [
    "# mv_clf.get_params()\n",
    "# 获得当前 estimator的全部参数名称，便于进行 GridSearch"
   ]
  },
  {
   "cell_type": "code",
   "execution_count": 4,
   "metadata": {},
   "outputs": [
    {
     "data": {
      "text/plain": [
       "GridSearchCV(cv=5, error_score='raise',\n",
       "       estimator=MajorityVoteClassifier(classifiers=[Pipeline(memory=None,\n",
       "     steps=[('sc', StandardScaler(copy=True, with_mean=True, with_std=True)), ('clf', LogisticRegression(C=0.001, class_weight=None, dual=False, fit_intercept=True,\n",
       "          intercept_scaling=1, max_iter=100, multi_class='ovr', n_jobs=1,\n",
       "          penalty='l2', ra...ski',\n",
       "           metric_params=None, n_jobs=1, n_neighbors=1, p=2,\n",
       "           weights='uniform'))])],\n",
       "            vote='classlabel', weights=None),\n",
       "       fit_params=None, iid=True, n_jobs=1,\n",
       "       param_grid={'decisiontreeclassifier__max_depth': [1, 2], 'pipeline-1__clf__C': [0.001, 0.1, 100]},\n",
       "       pre_dispatch='2*n_jobs', refit=True, return_train_score=True,\n",
       "       scoring='roc_auc', verbose=0)"
      ]
     },
     "execution_count": 4,
     "metadata": {},
     "output_type": "execute_result"
    }
   ],
   "source": [
    "from sklearn.model_selection import GridSearchCV\n",
    "params = {'decisiontreeclassifier__max_depth': [1, 2], \n",
    "          'pipeline-1__clf__C': [0.001, 0.1, 100]\n",
    "         }\n",
    "grid = GridSearchCV(cv=5, \n",
    "                    estimator=mv_clf, \n",
    "                    n_jobs=1, \n",
    "                    scoring=\"roc_auc\", \n",
    "                    param_grid=params)\n",
    "grid.fit(X_train, y_train)"
   ]
  },
  {
   "cell_type": "code",
   "execution_count": 19,
   "metadata": {},
   "outputs": [
    {
     "data": {
      "text/html": [
       "<div>\n",
       "<style>\n",
       "    .dataframe thead tr:only-child th {\n",
       "        text-align: right;\n",
       "    }\n",
       "\n",
       "    .dataframe thead th {\n",
       "        text-align: left;\n",
       "    }\n",
       "\n",
       "    .dataframe tbody tr th {\n",
       "        vertical-align: top;\n",
       "    }\n",
       "</style>\n",
       "<table border=\"1\" class=\"dataframe\">\n",
       "  <thead>\n",
       "    <tr style=\"text-align: right;\">\n",
       "      <th></th>\n",
       "      <th>mean_test_score</th>\n",
       "      <th>params</th>\n",
       "    </tr>\n",
       "  </thead>\n",
       "  <tbody>\n",
       "    <tr>\n",
       "      <th>0</th>\n",
       "      <td>0.965667</td>\n",
       "      <td>{'decisiontreeclassifier__max_depth': 1, 'pipe...</td>\n",
       "    </tr>\n",
       "    <tr>\n",
       "      <th>1</th>\n",
       "      <td>0.965667</td>\n",
       "      <td>{'decisiontreeclassifier__max_depth': 1, 'pipe...</td>\n",
       "    </tr>\n",
       "    <tr>\n",
       "      <th>2</th>\n",
       "      <td>0.983667</td>\n",
       "      <td>{'decisiontreeclassifier__max_depth': 1, 'pipe...</td>\n",
       "    </tr>\n",
       "    <tr>\n",
       "      <th>3</th>\n",
       "      <td>0.965667</td>\n",
       "      <td>{'decisiontreeclassifier__max_depth': 2, 'pipe...</td>\n",
       "    </tr>\n",
       "    <tr>\n",
       "      <th>4</th>\n",
       "      <td>0.965667</td>\n",
       "      <td>{'decisiontreeclassifier__max_depth': 2, 'pipe...</td>\n",
       "    </tr>\n",
       "  </tbody>\n",
       "</table>\n",
       "</div>"
      ],
      "text/plain": [
       "   mean_test_score                                             params\n",
       "0         0.965667  {'decisiontreeclassifier__max_depth': 1, 'pipe...\n",
       "1         0.965667  {'decisiontreeclassifier__max_depth': 1, 'pipe...\n",
       "2         0.983667  {'decisiontreeclassifier__max_depth': 1, 'pipe...\n",
       "3         0.965667  {'decisiontreeclassifier__max_depth': 2, 'pipe...\n",
       "4         0.965667  {'decisiontreeclassifier__max_depth': 2, 'pipe..."
      ]
     },
     "execution_count": 19,
     "metadata": {},
     "output_type": "execute_result"
    }
   ],
   "source": [
    "import pandas as pd\n",
    "gridSearchResult = pd.DataFrame(grid.cv_results_)\n",
    "gridSearchResult[[\"mean_test_score\", \"params\"]].head(5)"
   ]
  },
  {
   "cell_type": "code",
   "execution_count": 20,
   "metadata": {},
   "outputs": [
    {
     "name": "stdout",
     "output_type": "stream",
     "text": [
      "best score: 0.984 ; best params: {'decisiontreeclassifier__max_depth': 1, 'pipeline-1__clf__C': 100}\n"
     ]
    }
   ],
   "source": [
    "print(\"best score: %0.3f ; best params: %s\" % (grid.best_score_, grid.best_params_))"
   ]
  }
 ],
 "metadata": {
  "kernelspec": {
   "display_name": "Python 3",
   "language": "python",
   "name": "python3"
  },
  "language_info": {
   "codemirror_mode": {
    "name": "ipython",
    "version": 3
   },
   "file_extension": ".py",
   "mimetype": "text/x-python",
   "name": "python",
   "nbconvert_exporter": "python",
   "pygments_lexer": "ipython3",
   "version": "3.6.1"
  }
 },
 "nbformat": 4,
 "nbformat_minor": 2
}
