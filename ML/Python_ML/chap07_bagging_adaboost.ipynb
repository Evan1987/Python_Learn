{
 "cells": [
  {
   "cell_type": "code",
   "execution_count": 2,
   "metadata": {
    "collapsed": true
   },
   "outputs": [],
   "source": [
    "import numpy as np\n",
    "import pandas as pd\n",
    "import matplotlib.pyplot as plt\n",
    "from sklearn.preprocessing import LabelEncoder\n",
    "from sklearn.model_selection import train_test_split\n",
    "from sklearn.tree import DecisionTreeClassifier\n",
    "from sklearn.ensemble import BaggingClassifier, AdaBoostClassifier\n",
    "from sklearn.metrics import accuracy_score"
   ]
  },
  {
   "cell_type": "code",
   "execution_count": 3,
   "metadata": {
    "collapsed": true
   },
   "outputs": [],
   "source": [
    "path = \"F:/for learn/Python_MachineLearning/\"\n",
    "colnames = [\"Class label\",\n",
    "            \"Alcohol\", \n",
    "            \"Malic acid\", \n",
    "            \"Ash\", \n",
    "            \"Alcalinity of ash\", \n",
    "            \"Magnesium\", \n",
    "            \"Total phenols\",\n",
    "            \"Flavanoids\",\n",
    "            \"Nonflavanoid phenols\",\n",
    "            \"Proanthocyanins\",\n",
    "            \"Color intensity\",\n",
    "            \"Hue\",\n",
    "            \"OD280/OD315 of diluted wines\",\n",
    "            \"Proline\"]\n",
    "df_wine = pd.read_csv(path + \"wine.data\", header=None, names=colnames)"
   ]
  },
  {
   "cell_type": "code",
   "execution_count": 4,
   "metadata": {
    "collapsed": true
   },
   "outputs": [],
   "source": [
    "# 只选取两类\n",
    "dat = df_wine[df_wine[\"Class label\"] > 1]\n",
    "X = dat[[\"Alcohol\", \"Hue\"]].values\n",
    "y = dat[\"Class label\"].values\n",
    "\n",
    "le = LabelEncoder()\n",
    "y = le.fit_transform(y)\n",
    "X_train, X_test, y_train, y_test = train_test_split(X, y, test_size=0.3, random_state=0)"
   ]
  },
  {
   "cell_type": "code",
   "execution_count": 5,
   "metadata": {
    "collapsed": true
   },
   "outputs": [],
   "source": [
    "# 比较无剪枝树与Bagging， adaboost方法的准确率与决策区域\n",
    "tree = DecisionTreeClassifier(max_depth=None, criterion=\"entropy\")\n",
    "## max_samples 和 max_features 可以是 int 或 float\n",
    "## 当为 int时，表示抽样个数\n",
    "## 当为 float时，表示抽样比例，即抽样个数 = max_samples(max_features) * total_sample(feature)_num\n",
    "bag = BaggingClassifier(base_estimator=tree, \n",
    "                        n_estimators=500, \n",
    "                        max_features=1.0,\n",
    "                        max_samples=1.0,\n",
    "                        bootstrap=True, \n",
    "                        bootstrap_features=False,\n",
    "                        n_jobs=-1, \n",
    "                        random_state=0)\n",
    "ada = AdaBoostClassifier(base_estimator=tree, \n",
    "                         n_estimators=500, \n",
    "                         learning_rate=0.1,\n",
    "                         random_state=0)"
   ]
  },
  {
   "cell_type": "code",
   "execution_count": 6,
   "metadata": {},
   "outputs": [
    {
     "name": "stdout",
     "output_type": "stream",
     "text": [
      "Decision Tree train/test acc: 1.000/0.861\n",
      "Bagging train/test acc: 1.000/0.889\n",
      "adaboost train/test acc: 1.000/0.861\n"
     ]
    }
   ],
   "source": [
    "# 准确率比较\n",
    "models = [tree, bag, ada]\n",
    "names = [\"Decision Tree\", \"Bagging\", \"adaboost\"]\n",
    "for name, model in zip(names, models):\n",
    "    model.fit(X_train, y_train)\n",
    "    y_train_pred = model.predict(X_train)\n",
    "    y_test_pred = model.predict(X_test)\n",
    "    acc_train = accuracy_score(y_true=y_train, y_pred=y_train_pred)\n",
    "    acc_test = accuracy_score(y_true=y_test, y_pred=y_test_pred)\n",
    "    print(\"%s train/test acc: %0.3f/%0.3f\" % (name, acc_train, acc_test))"
   ]
  },
  {
   "cell_type": "code",
   "execution_count": 7,
   "metadata": {
    "collapsed": true
   },
   "outputs": [],
   "source": [
    "# 决策区域比较\n",
    "x_min = X[:, 0].min() - 1.0\n",
    "x_max = X[:, 0].max() + 1.0\n",
    "y_min = X[:, 1].min() - 1.0\n",
    "y_max = X[:, 1].max() + 1.0\n",
    "xx, yy = np.meshgrid(np.arange(x_min, x_max, 0.1), \n",
    "                     np.arange(y_min, y_max, 0.1))"
   ]
  },
  {
   "cell_type": "code",
   "execution_count": 12,
   "metadata": {
    "collapsed": true
   },
   "outputs": [],
   "source": [
    "figs, axes = plt.subplots(nrows=1, ncols=3, sharex=True, sharey=True, figsize=(12, 6))\n",
    "colors = [\"blue\", \"red\"]\n",
    "markers = [\"o\", \"x\"]\n",
    "y_labels = np.unique(y)"
   ]
  },
  {
   "cell_type": "code",
   "execution_count": 13,
   "metadata": {},
   "outputs": [
    {
     "data": {
      "image/png": "[encoded data removed]",
      "text/plain": [
       "<matplotlib.figure.Figure at 0x2439fc03278>"
      ]
     },
     "metadata": {},
     "output_type": "display_data"
    }
   ],
   "source": [
    "for idx, label, clf in zip([0, 1, 2], names, models):\n",
    "    clf.fit(X_train, y_train)\n",
    "    z = clf.predict(np.array([xx.ravel(), yy.ravel()]).T).reshape(xx.shape)\n",
    "    axes[idx].contourf(xx, yy, z, alpha=0.3)\n",
    "    for index, cl in enumerate(y_labels):\n",
    "        axes[idx].scatter(x=X_train[y_train == cl, 0],\n",
    "                          y=X_train[y_train == cl, 1],\n",
    "                          c=colors[index],\n",
    "                          marker=markers[index])\n",
    "    axes[idx].set_title(label)\n",
    "\n",
    "axes[0].set_ylabel('Alcohol', fontsize=12)\n",
    "plt.text(7.2, -1.2, s=\"Hue\", ha=\"center\", va=\"center\", fontsize=12)\n",
    "plt.show()"
   ]
  }
 ],
 "metadata": {
  "kernelspec": {
   "display_name": "Python 3",
   "language": "python",
   "name": "python3"
  },
  "language_info": {
   "codemirror_mode": {
    "name": "ipython",
    "version": 3
   },
   "file_extension": ".py",
   "mimetype": "text/x-python",
   "name": "python",
   "nbconvert_exporter": "python",
   "pygments_lexer": "ipython3",
   "version": "3.6.1"
  }
 },
 "nbformat": 4,
 "nbformat_minor": 2
}
