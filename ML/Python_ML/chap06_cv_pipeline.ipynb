{
 "cells": [
  {
   "cell_type": "code",
   "execution_count": 37,
   "metadata": {
    "collapsed": true
   },
   "outputs": [],
   "source": [
    "import numpy as np\n",
    "import pandas as pd\n",
    "from sklearn.preprocessing import StandardScaler, LabelEncoder\n",
    "from sklearn.decomposition import PCA\n",
    "from sklearn.model_selection import train_test_split, StratifiedKFold, cross_val_score\n",
    "from sklearn.pipeline import Pipeline\n",
    "from sklearn.linear_model import LogisticRegression"
   ]
  },
  {
   "cell_type": "code",
   "execution_count": 2,
   "metadata": {
    "collapsed": true
   },
   "outputs": [],
   "source": [
    "path = \"F:/for learn/Python_MachineLearning/\"\n",
    "df = pd.read_csv(path + \"wdbc.data\", header=None)"
   ]
  },
  {
   "cell_type": "code",
   "execution_count": 8,
   "metadata": {
    "collapsed": true
   },
   "outputs": [],
   "source": [
    "X = df.iloc[:, 2:].values\n",
    "y = df.iloc[:, 1].values\n",
    "le = LabelEncoder()\n",
    "y = le.fit_transform(y)\n",
    "X_train, X_test, y_train, y_test = train_test_split(X, y, test_size=0.2, random_state=0)"
   ]
  },
  {
   "cell_type": "code",
   "execution_count": 14,
   "metadata": {},
   "outputs": [
    {
     "name": "stdout",
     "output_type": "stream",
     "text": [
      "the Test ACC is: 0.921\n"
     ]
    }
   ],
   "source": [
    "pipe_lr = Pipeline([(\"scaler\", StandardScaler()), \n",
    "                    ('pca', PCA(n_components=2)),\n",
    "                    ('lr', LogisticRegression(random_state=1))])\n",
    "pipe_lr.fit(X_train, y_train)\n",
    "print(\"the Test ACC is: %.3f\" % pipe_lr.score(X_test, y_test))"
   ]
  },
  {
   "cell_type": "code",
   "execution_count": 22,
   "metadata": {
    "collapsed": true
   },
   "outputs": [],
   "source": [
    "kfold = StratifiedKFold(n_splits=10, random_state=1)"
   ]
  },
  {
   "cell_type": "code",
   "execution_count": 35,
   "metadata": {},
   "outputs": [
    {
     "name": "stdout",
     "output_type": "stream",
     "text": [
      "Fold: 1, Class dist: [261 148], ACC: 0.978\n",
      "Fold: 2, Class dist: [261 148], ACC: 0.978\n",
      "Fold: 3, Class dist: [261 148], ACC: 0.957\n",
      "Fold: 4, Class dist: [261 148], ACC: 0.978\n",
      "Fold: 5, Class dist: [261 148], ACC: 0.891\n",
      "Fold: 6, Class dist: [261 149], ACC: 0.956\n",
      "Fold: 7, Class dist: [261 149], ACC: 0.956\n",
      "Fold: 8, Class dist: [261 149], ACC: 0.956\n",
      "Fold: 9, Class dist: [261 149], ACC: 1.000\n",
      "Fold: 10, Class dist: [261 149], ACC: 0.978\n"
     ]
    }
   ],
   "source": [
    "scores = []\n",
    "for k, (train, test) in enumerate(kfold.split(X_train, y_train)):\n",
    "    pipe_lr.fit(X_train[train], y_train[train])\n",
    "    score = pipe_lr.score(X_train[test], y_train[test])\n",
    "    scores.append(score)\n",
    "    print(\"Fold: %d, Class dist: %s, ACC: %.3f\" % (k+1, np.bincount(y_train[train]), score))"
   ]
  },
  {
   "cell_type": "code",
   "execution_count": 36,
   "metadata": {},
   "outputs": [
    {
     "name": "stdout",
     "output_type": "stream",
     "text": [
      "CV ACC: 0.963 +/- 0.028\n"
     ]
    }
   ],
   "source": [
    "print(\"CV ACC: %.3f +/- %.3f\" % (np.mean(scores), np.std(scores)))"
   ]
  },
  {
   "cell_type": "code",
   "execution_count": 39,
   "metadata": {},
   "outputs": [
    {
     "name": "stdout",
     "output_type": "stream",
     "text": [
      "CV ACC scores: [ 0.97826087  0.97826087  0.95652174  0.97826087  0.89130435  0.95555556\n",
      "  0.95555556  0.95555556  1.          0.97777778]\n"
     ]
    }
   ],
   "source": [
    "# 采用sklearn中的集成方法做cv\n",
    "scores = cross_val_score(estimator=pipe_lr, X=X_train, y=y_train, cv=10, n_jobs=-1)\n",
    "print(\"CV ACC scores: %s\" % scores)"
   ]
  },
  {
   "cell_type": "code",
   "execution_count": 40,
   "metadata": {},
   "outputs": [
    {
     "name": "stdout",
     "output_type": "stream",
     "text": [
      "CV ACC: 0.963 +/- 0.028\n"
     ]
    }
   ],
   "source": [
    "print(\"CV ACC: %.3f +/- %.3f\" % (np.mean(scores), np.std(scores)))"
   ]
  }
 ],
 "metadata": {
  "kernelspec": {
   "display_name": "Python 3",
   "language": "python",
   "name": "python3"
  },
  "language_info": {
   "codemirror_mode": {
    "name": "ipython",
    "version": 3
   },
   "file_extension": ".py",
   "mimetype": "text/x-python",
   "name": "python",
   "nbconvert_exporter": "python",
   "pygments_lexer": "ipython3",
   "version": "3.6.1"
  }
 },
 "nbformat": 4,
 "nbformat_minor": 2
}
