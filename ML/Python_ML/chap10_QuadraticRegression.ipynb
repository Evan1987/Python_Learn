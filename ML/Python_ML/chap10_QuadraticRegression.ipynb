{
 "cells": [
  {
   "cell_type": "code",
   "execution_count": 21,
   "metadata": {
    "collapsed": true
   },
   "outputs": [],
   "source": [
    "import numpy as np\n",
    "import pandas as pd\n",
    "import matplotlib.pyplot as plt\n",
    "from sklearn.preprocessing import PolynomialFeatures\n",
    "from sklearn.linear_model import LinearRegression\n",
    "from sklearn.metrics import r2_score, mean_squared_error"
   ]
  },
  {
   "cell_type": "code",
   "execution_count": 18,
   "metadata": {
    "collapsed": true
   },
   "outputs": [],
   "source": [
    "X = np.array([258.0, 270.0 ,294.0, 320.0, 342.0, 368.0, 396.0, 446.0, 480.0, 586.0]).reshape(-1, 1)\n",
    "y = np.array([236.4, 234.4, 252.8, 298.6, 314.2, 342.2, 360.8, 368.0, 391.2, 390.8])\n",
    "x_fit = np.arange(250, 600, 10).reshape(-1, 1)"
   ]
  },
  {
   "cell_type": "code",
   "execution_count": 9,
   "metadata": {
    "collapsed": true
   },
   "outputs": [],
   "source": [
    "lr = LinearRegression()\n",
    "pr = LinearRegression()"
   ]
  },
  {
   "cell_type": "code",
   "execution_count": 19,
   "metadata": {},
   "outputs": [],
   "source": [
    "# 处理后的特征具有 degree+1列：X^0, X^1, X^2\n",
    "quadratic = PolynomialFeatures(degree=2)\n",
    "X_quad = quadratic.fit_transform(X)\n",
    "x_quad_fit = quadratic.fit_transform(x_fit)"
   ]
  },
  {
   "cell_type": "code",
   "execution_count": 20,
   "metadata": {},
   "outputs": [
    {
     "data": {
      "image/png": "[encoded data removed]",
      "text/plain": [
       "<matplotlib.figure.Figure at 0x1d7685543c8>"
      ]
     },
     "metadata": {},
     "output_type": "display_data"
    }
   ],
   "source": [
    "lr.fit(X, y)\n",
    "pr.fit(X_quad, y)\n",
    "\n",
    "y_lin_fit = lr.predict(x_fit)\n",
    "y_quad_fit = pr.predict(x_quad_fit)\n",
    "\n",
    "plt.scatter(X, y, label='training points')\n",
    "plt.plot(x_fit, y_lin_fit, label='linear fit', linestyle='--')\n",
    "plt.plot(x_fit, y_quad_fit, label='quadratic fit')\n",
    "plt.legend(loc='upper left')\n",
    "plt.show()"
   ]
  },
  {
   "cell_type": "code",
   "execution_count": 22,
   "metadata": {},
   "outputs": [
    {
     "name": "stdout",
     "output_type": "stream",
     "text": [
      "the mse of Linear Model is 569.780\n",
      "the mse of Quadratic Model is 61.330\n",
      "the r2 of Linear Model is 0.832\n",
      "the r2 of Quadratic Model is 0.982\n"
     ]
    }
   ],
   "source": [
    "y_lr_pred = lr.predict(X)\n",
    "y_pr_pred = pr.predict(X_quad)\n",
    "print(\"the mse of Linear Model is %.3f\" % mean_squared_error(y_pred=y_lr_pred, y_true=y))\n",
    "print(\"the mse of Quadratic Model is %.3f\" % mean_squared_error(y_pred=y_pr_pred, y_true=y))\n",
    "\n",
    "print(\"the r2 of Linear Model is %.3f\" % r2_score(y_pred=y_lr_pred, y_true=y))\n",
    "print(\"the r2 of Quadratic Model is %.3f\" % r2_score(y_pred=y_pr_pred, y_true=y))"
   ]
  }
 ],
 "metadata": {
  "kernelspec": {
   "display_name": "Python 3",
   "language": "python",
   "name": "python3"
  },
  "language_info": {
   "codemirror_mode": {
    "name": "ipython",
    "version": 3
   },
   "file_extension": ".py",
   "mimetype": "text/x-python",
   "name": "python",
   "nbconvert_exporter": "python",
   "pygments_lexer": "ipython3",
   "version": "3.6.1"
  }
 },
 "nbformat": 4,
 "nbformat_minor": 2
}
