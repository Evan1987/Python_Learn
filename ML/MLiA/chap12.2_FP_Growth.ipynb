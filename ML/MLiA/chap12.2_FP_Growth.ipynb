{
 "cells": [
  {
   "cell_type": "code",
   "execution_count": 1,
   "metadata": {
    "collapsed": true
   },
   "outputs": [],
   "source": [
    "import numpy as np"
   ]
  },
  {
   "cell_type": "code",
   "execution_count": 22,
   "metadata": {
    "collapsed": true
   },
   "outputs": [],
   "source": [
    "# nameValue：节点的名字\n",
    "# numOccur：该节点的计数值\n",
    "# parentNode：父节点的名字\n",
    "class treeNode:\n",
    "    # name：节点名字\n",
    "    # count：计数值\n",
    "    # nodeLink: 虚线，连接相同元素项\n",
    "    # parent：当前节点的父节点，方便上溯\n",
    "    # children：当前节点的子节点，也是treeNode类型\n",
    "    def __init__(self, nameValue, numOccur, parentNode):\n",
    "        self.name = nameValue\n",
    "        self.count = numOccur\n",
    "        self.nodeLink = None\n",
    "        self.parent = parentNode\n",
    "        self.children = {}\n",
    "    # 对count变量进行更新\n",
    "    def inc(self, numOccur):\n",
    "        self.count += numOccur\n",
    "    # display函数，将树以文本方式展示，调试用，对于构建树不是必要的\n",
    "    def disp(self, ind=1):\n",
    "        # 通过‘-’数量缩进来控制层级\n",
    "        print('-'*ind, self.name, ' ', self.count)\n",
    "        # child：class treeNode\n",
    "        for child in self.children.values():\n",
    "            child.disp(ind + 1)"
   ]
  },
  {
   "cell_type": "code",
   "execution_count": 16,
   "metadata": {
    "collapsed": true
   },
   "outputs": [],
   "source": [
    "# 原始数据生成函数\n",
    "def loadSimpDat():\n",
    "    simpDat = [['r','z','h','j','p'],\n",
    "               ['z','y','x','w','v','u','t','s'],\n",
    "               ['z'],\n",
    "               ['r','x','n','o','s'],\n",
    "               ['y','r','x','z','q','t','p'],\n",
    "               ['y','z','x','e','q','s','t','m']]\n",
    "    return simpDat  \n",
    "\n",
    "# 遍历 rawData，生成便于生成 FP树的输入数据（字典格式）\n",
    "# return {frozenset({trans}):count}\n",
    "def createInitSet(simpDat):\n",
    "    retDict = {}\n",
    "    for trans in simpDat:\n",
    "        try:\n",
    "            retDict[frozenset(trans)] += 1\n",
    "        except KeyError:\n",
    "            retDict[frozenset(trans)] = 1\n",
    "    return retDict"
   ]
  },
  {
   "cell_type": "code",
   "execution_count": 18,
   "metadata": {},
   "outputs": [
    {
     "data": {
      "text/plain": [
       "{frozenset({'z'}): 1,\n",
       " frozenset({'h', 'j', 'p', 'r', 'z'}): 1,\n",
       " frozenset({'s', 't', 'u', 'v', 'w', 'x', 'y', 'z'}): 1,\n",
       " frozenset({'n', 'o', 'r', 's', 'x'}): 1,\n",
       " frozenset({'p', 'q', 'r', 't', 'x', 'y', 'z'}): 1,\n",
       " frozenset({'e', 'm', 'q', 's', 't', 'x', 'y', 'z'}): 1}"
      ]
     },
     "execution_count": 18,
     "metadata": {},
     "output_type": "execute_result"
    }
   ],
   "source": [
    "simpDat = loadSimpDat()\n",
    "initSet = createInitSet(simpDat)\n",
    "initSet"
   ]
  },
  {
   "cell_type": "code",
   "execution_count": 79,
   "metadata": {
    "collapsed": true
   },
   "outputs": [],
   "source": [
    "# 增长相同元素指针链，延长 nodelink 指针\n",
    "# nodeToTest：指针测试的起始点\n",
    "# targetNode：指针的终点\n",
    "# return NULL 过程函数，更新头指针表\n",
    "def updateHeader(nodeToTest, targetNode):\n",
    "    while nodeToTest.nodeLink != None:\n",
    "        nodeToTest = nodeToTest.nodeLink\n",
    "    nodeToTest.nodeLink = targetNode"
   ]
  },
  {
   "cell_type": "code",
   "execution_count": 86,
   "metadata": {
    "collapsed": true
   },
   "outputs": [],
   "source": [
    "# items：某事务中的元素（一阶频繁项）列表，按照其在头指针表的频次统计降序排列\n",
    "# inTree：FP树，treeNode类\n",
    "# headerTable：头指针表\n",
    "# count：该元素所在事务发生的次数\n",
    "# return NULL 过程函数，对树和头指针表进行更新操作，不返回值\n",
    "def updateTree(items, inTree, headerTable, count):\n",
    "    # 如果打头（频次最大）的那个元素存在树的子节点中，则把该事务的出现频次全都累加到该子节点上\n",
    "    if(items[0] in inTree.children):\n",
    "        inTree.children[items[0]].inc(count)\n",
    "    # 如果在子节点中还没有这个元素，那么在树上创建这个子节点，同时指定父节点为当前的 inTree\n",
    "    else:\n",
    "        inTree.children[items[0]] = treeNode(items[0], count, inTree)\n",
    "        # 刚生成的新节点需要与之前已经在树里的其他分支中的相同元素进行连接\n",
    "        # 这是一条串链，只会不断变长\n",
    "        # 如果最大元素的相同元素连接信息（待添加的nodelink）为空，则更新为当前节点\n",
    "        if headerTable[items[0]][1] == None:\n",
    "            headerTable[items[0]][1] = inTree.children[items[0]]\n",
    "        # 如果连接信息不为空，则不更改头指针表\n",
    "        # 沿着头指针表给出的连接节点，根据其nodelink一直追溯到串链的尾部。\n",
    "        # 则在串链的终点定位为当前（把当前节点纳入到串中）\n",
    "        else:\n",
    "            updateHeader(headerTable[items[0]][1], inTree.children[items[0]])\n",
    "    # 对剩下的元素，递归地生成树，其中指定树是以上一次迭代的 items[0]为根节点的。\n",
    "    if len(items)>1:\n",
    "        updateTree(items[1::], inTree.children[items[0]], headerTable, count)"
   ]
  },
  {
   "cell_type": "code",
   "execution_count": 83,
   "metadata": {},
   "outputs": [],
   "source": [
    "# dataSet：Dict类型 {frozenset({trans}):count}\n",
    "# 根据各元素的统计数量决定了谁趋向于在顶部，谁趋向于在底部\n",
    "def createTree(dataSet, minSup=1):\n",
    "    # 一、统计筛选部分\n",
    "    # 第一次遍历数据集，统计各个元素的发生频次\n",
    "    headerTable = {}\n",
    "    # 默认 trans是key\n",
    "    for trans in dataSet.keys():\n",
    "        for item in trans:\n",
    "            # dataSet[trans]是对该事务发生频次的统计 count\n",
    "            headerTable[item] = headerTable.get(item, 0) + dataSet[trans]\n",
    "    # 对收集到的所有键进行遍历，做两件事\n",
    "    # 1、如果某个元素的频次小于最小频次要求，则在头指针表中删除此键\n",
    "    # 2、给键值增加元素，相同元素的起始指针\n",
    "    # headerTable： {\"item“：[count,None]}\n",
    "    keys = list(headerTable.keys()) # 必须提前以列表形式缓存 headerTable的 keys\n",
    "    for key in keys:\n",
    "        if headerTable[key] < minSup:\n",
    "            del headerTable[key]\n",
    "        # 初始化头指针表中相同元素的起始指针，如果不是None的话，就treeNode类型\n",
    "        else:\n",
    "            headerTable[key] = [headerTable[key], None]\n",
    "    # 汇总满足要求的所有元素（一阶频繁项）\n",
    "    freqItemSet = set(headerTable.keys())\n",
    "    # 如果没有满足条件的元素，则退出\n",
    "    if len(freqItemSet)==0: return None, None    \n",
    "    \n",
    "    # 二、建立 FP 树部分\n",
    "    # 初始化 FP树，建立根节点\n",
    "    retTree = treeNode('Null Set', 1, None)\n",
    "    # 第二次遍历数据集\n",
    "    # 将每个事务的元素都纳入到树中，保存其相互关联的信息\n",
    "    for trans, count in dataSet.items():\n",
    "        localD = {}\n",
    "        for item in trans:\n",
    "            if item in freqItemSet:\n",
    "                localD[item] = headerTable[item][0]\n",
    "        if len(localD) > 0:\n",
    "            # 对收集的元素，按照统计频次降序排列\n",
    "            sortedItems = sorted(localD.items(), key=lambda x: x[1], reverse=True)\n",
    "            # 按照已经降序排列的统计元素，只拿其键值（形成一个单独事务的元素列表）\n",
    "            sortedKeys = [v[0] for v in sortedItems]\n",
    "            # 将该事务内的元素放入树中\n",
    "            updateTree(sortedKeys, retTree, headerTable, count)\n",
    "    return retTree, headerTable            "
   ]
  },
  {
   "cell_type": "code",
   "execution_count": 84,
   "metadata": {
    "collapsed": true
   },
   "outputs": [],
   "source": [
    "simpData = loadSimpDat()\n",
    "initSet = createInitSet(simpData)"
   ]
  },
  {
   "cell_type": "code",
   "execution_count": 87,
   "metadata": {},
   "outputs": [],
   "source": [
    "fpTree, headerTable = createTree(initSet, minSup=3)"
   ]
  },
  {
   "cell_type": "code",
   "execution_count": 111,
   "metadata": {
    "collapsed": true
   },
   "outputs": [],
   "source": [
    "# 上溯整棵树至根部\n",
    "# 在此过程中不断累加前缀（倒序的，从底部到顶部）\n",
    "def ascendTree(leafNode, prefixPath):\n",
    "    if leafNode.parent != None:\n",
    "        prefixPath.append(leafNode.name)\n",
    "        ascendTree(leafNode.parent, prefixPath)\n",
    "# 根据 basePat，获取所有前缀及事物数量\n",
    "# basePat： 模式基，即不同数量元素组成的模式\n",
    "# headerTable：已经伴随 FP树生成的头指针表\n",
    "def findPrefixPath(basePat, headerTable):\n",
    "    condPats = {}\n",
    "    # FP 树中该 basePat的串链头\n",
    "    treeNode = headerTable[basePat][1]\n",
    "    # 从串链头开始循环向下寻找前缀和数量\n",
    "    while treeNode != None:\n",
    "        prefixPath = []\n",
    "        ascendTree(treeNode, prefixPath)\n",
    "        if len(prefixPath) > 1:\n",
    "            condPats[frozenset(prefixPath[1:])] = treeNode.count\n",
    "        # 寻找在其他分支内相同的元素\n",
    "        treeNode = treeNode.nodeLink\n",
    "    return condPats"
   ]
  },
  {
   "cell_type": "code",
   "execution_count": 112,
   "metadata": {},
   "outputs": [
    {
     "data": {
      "text/plain": [
       "{frozenset({'z'}): 1, frozenset({'x'}): 1, frozenset({'t', 'x', 'z'}): 1}"
      ]
     },
     "execution_count": 112,
     "metadata": {},
     "output_type": "execute_result"
    }
   ],
   "source": [
    "findPrefixPath(\"r\", headerTable)"
   ]
  },
  {
   "cell_type": "code",
   "execution_count": 160,
   "metadata": {
    "collapsed": true
   },
   "outputs": [],
   "source": [
    "freqItemList=[]"
   ]
  },
  {
   "cell_type": "code",
   "execution_count": 204,
   "metadata": {
    "collapsed": true
   },
   "outputs": [],
   "source": [
    "def mineTree(inTree, headerTable, minSup, preFix=set([]), freqItemList=[],i=0):\n",
    "    # 从底层元素开始依次往上\n",
    "    sortedItem = sorted(headerTable.items(), key=lambda x: x[1][0])\n",
    "    bigL = [v[0] for v in sortedItem]\n",
    "    for basePat in bigL:\n",
    "        newFreqSet = preFix.copy()\n",
    "        # 随着递归的进行，这个集合不断地累加，意味着 basePat变得复杂\n",
    "        newFreqSet.add(basePat)\n",
    "        print(\"newFreqSet:\", newFreqSet)\n",
    "        # 记录多次生成的频繁集, 一个容器\n",
    "        freqItemList.append(newFreqSet)\n",
    "        # 根据当前条件基，找到所有前缀及事务频次，即生成条件事务集\n",
    "        condPattBases = findPrefixPath(basePat, headerTable)\n",
    "        print(len(condPattBases))\n",
    "        # 利用条件事务集可以生成新的 FP树（条件 FP树）\n",
    "        myCondTree, myHead = createTree(condPattBases, minSup)\n",
    "        # 如果仍然可以有树生成，则递归地\n",
    "        if myHead != None:\n",
    "            print('conditional tree for: ', newFreqSet, \"layer:\",i)\n",
    "            myCondTree.disp()\n",
    "            mineTree(myCondTree, myHead, minSup, newFreqSet, freqItemList,i=i+1)\n",
    "        else:\n",
    "            print(\"myHead is none\")"
   ]
  },
  {
   "cell_type": "code",
   "execution_count": 205,
   "metadata": {},
   "outputs": [
    {
     "name": "stdout",
     "output_type": "stream",
     "text": [
      "newFreqSet: {'r'}\n",
      "3\n",
      "myHead is none\n",
      "newFreqSet: {'t'}\n",
      "1\n",
      "conditional tree for:  {'t'} layer: 0\n",
      "- Null Set   1\n",
      "-- x   3\n",
      "--- z   3\n",
      "newFreqSet: {'t', 'x'}\n",
      "0\n",
      "myHead is none\n",
      "newFreqSet: {'t', 'z'}\n",
      "1\n",
      "conditional tree for:  {'t', 'z'} layer: 1\n",
      "- Null Set   1\n",
      "-- x   3\n",
      "newFreqSet: {'t', 'x', 'z'}\n",
      "0\n",
      "myHead is none\n",
      "newFreqSet: {'s'}\n",
      "2\n",
      "conditional tree for:  {'s'} layer: 0\n",
      "- Null Set   1\n",
      "-- x   3\n",
      "newFreqSet: {'s', 'x'}\n",
      "0\n",
      "myHead is none\n",
      "newFreqSet: {'y'}\n",
      "2\n",
      "conditional tree for:  {'y'} layer: 0\n",
      "- Null Set   1\n",
      "-- t   3\n",
      "--- x   3\n",
      "---- z   3\n",
      "newFreqSet: {'t', 'y'}\n",
      "0\n",
      "myHead is none\n",
      "newFreqSet: {'y', 'x'}\n",
      "1\n",
      "conditional tree for:  {'y', 'x'} layer: 1\n",
      "- Null Set   1\n",
      "-- t   3\n",
      "newFreqSet: {'t', 'y', 'x'}\n",
      "0\n",
      "myHead is none\n",
      "newFreqSet: {'y', 'z'}\n",
      "1\n",
      "conditional tree for:  {'y', 'z'} layer: 1\n",
      "- Null Set   1\n",
      "-- t   3\n",
      "--- x   3\n",
      "newFreqSet: {'t', 'y', 'z'}\n",
      "0\n",
      "myHead is none\n",
      "newFreqSet: {'y', 'x', 'z'}\n",
      "1\n",
      "conditional tree for:  {'y', 'x', 'z'} layer: 2\n",
      "- Null Set   1\n",
      "-- t   3\n",
      "newFreqSet: {'t', 'y', 'x', 'z'}\n",
      "0\n",
      "myHead is none\n",
      "newFreqSet: {'x'}\n",
      "1\n",
      "conditional tree for:  {'x'} layer: 0\n",
      "- Null Set   1\n",
      "-- z   3\n",
      "newFreqSet: {'x', 'z'}\n",
      "0\n",
      "myHead is none\n",
      "newFreqSet: {'z'}\n",
      "0\n",
      "myHead is none\n"
     ]
    }
   ],
   "source": [
    "mineTree(fpTree, headerTable, minSup=3)"
   ]
  },
  {
   "cell_type": "code",
   "execution_count": 181,
   "metadata": {
    "collapsed": true
   },
   "outputs": [],
   "source": [
    "basePat = 'z'\n",
    "minSup = 3\n",
    "preFix= newFreqSet\n",
    "newFreqSet = preFix.copy()\n",
    "newFreqSet.add(basePat)\n",
    "freqItemList.append(newFreqSet)"
   ]
  },
  {
   "cell_type": "code",
   "execution_count": 182,
   "metadata": {},
   "outputs": [
    {
     "data": {
      "text/plain": [
       "{'t', 'x', 'z'}"
      ]
     },
     "execution_count": 182,
     "metadata": {},
     "output_type": "execute_result"
    }
   ],
   "source": [
    "newFreqSet"
   ]
  },
  {
   "cell_type": "code",
   "execution_count": 183,
   "metadata": {},
   "outputs": [
    {
     "data": {
      "text/plain": [
       "[{'t'}, {'t', 'x'}, {'t', 'x', 'z'}]"
      ]
     },
     "execution_count": 183,
     "metadata": {},
     "output_type": "execute_result"
    }
   ],
   "source": [
    "freqItemList"
   ]
  },
  {
   "cell_type": "code",
   "execution_count": 184,
   "metadata": {},
   "outputs": [
    {
     "data": {
      "text/plain": [
       "{}"
      ]
     },
     "execution_count": 184,
     "metadata": {},
     "output_type": "execute_result"
    }
   ],
   "source": [
    "condPattBases = findPrefixPath(basePat, headerTable)\n",
    "condPattBases"
   ]
  },
  {
   "cell_type": "code",
   "execution_count": 185,
   "metadata": {
    "collapsed": true
   },
   "outputs": [],
   "source": [
    "myCondTree, myHead = createTree(condPattBases, minSup)"
   ]
  },
  {
   "cell_type": "code",
   "execution_count": 186,
   "metadata": {},
   "outputs": [
    {
     "ename": "AttributeError",
     "evalue": "'NoneType' object has no attribute 'disp'",
     "output_type": "error",
     "traceback": [
      "\u001b[1;31m---------------------------------------------------------------------------\u001b[0m",
      "\u001b[1;31mAttributeError\u001b[0m                            Traceback (most recent call last)",
      "\u001b[1;32m<ipython-input-186-8e00682bf2a0>\u001b[0m in \u001b[0;36m<module>\u001b[1;34m()\u001b[0m\n\u001b[1;32m----> 1\u001b[1;33m \u001b[0mmyCondTree\u001b[0m\u001b[1;33m.\u001b[0m\u001b[0mdisp\u001b[0m\u001b[1;33m(\u001b[0m\u001b[1;33m)\u001b[0m\u001b[1;33m\u001b[0m\u001b[0m\n\u001b[0m",
      "\u001b[1;31mAttributeError\u001b[0m: 'NoneType' object has no attribute 'disp'"
     ]
    }
   ],
   "source": [
    "myCondTree.disp()"
   ]
  },
  {
   "cell_type": "code",
   "execution_count": 188,
   "metadata": {},
   "outputs": [
    {
     "data": {
      "text/plain": [
       "True"
      ]
     },
     "execution_count": 188,
     "metadata": {},
     "output_type": "execute_result"
    }
   ],
   "source": [
    "myHead == None"
   ]
  },
  {
   "cell_type": "code",
   "execution_count": 180,
   "metadata": {},
   "outputs": [
    {
     "data": {
      "text/plain": [
       "['z']"
      ]
     },
     "execution_count": 180,
     "metadata": {},
     "output_type": "execute_result"
    }
   ],
   "source": [
    "sortedItem = sorted(myHead.items(), key=lambda x: x[1][0])\n",
    "bigL = [v[0] for v in sortedItem]\n",
    "bigL"
   ]
  }
 ],
 "metadata": {
  "kernelspec": {
   "display_name": "Python 3",
   "language": "python",
   "name": "python3"
  },
  "language_info": {
   "codemirror_mode": {
    "name": "ipython",
    "version": 3
   },
   "file_extension": ".py",
   "mimetype": "text/x-python",
   "name": "python",
   "nbconvert_exporter": "python",
   "pygments_lexer": "ipython3",
   "version": "3.6.1"
  }
 },
 "nbformat": 4,
 "nbformat_minor": 2
}
