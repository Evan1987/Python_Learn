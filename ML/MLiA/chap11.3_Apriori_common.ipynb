{
 "cells": [
  {
   "cell_type": "code",
   "execution_count": 1,
   "metadata": {
    "collapsed": true
   },
   "outputs": [],
   "source": [
    "import numpy as np\n",
    "\n",
    "def loadDataSet():\n",
    "    return [[1,3,4],[2,3,5],[1,2,3,5],[2,5]]\n",
    "\n",
    "# 大小为1的所有候选项集\n",
    "def createC1(dataSet):\n",
    "    C1 = []\n",
    "    for transaction in dataSet:\n",
    "        for item in transaction:\n",
    "            if not [item] in C1:\n",
    "                # C1的元素都是长度为1的列表（项）\n",
    "                C1.append([item])\n",
    "    C1.sort()\n",
    "    # 每一项都是不可修改的集合\n",
    "    return list(map(frozenset,C1))\n",
    "\n",
    "# 输出满足最低支持度的频繁项集\n",
    "# D：实际项集\n",
    "# Ck：长度为k的候选项集\n",
    "def scanD(D,Ck,minSupport):\n",
    "    # 频繁子集的收集容器\n",
    "    ssCnt = {}\n",
    "    # 遍历所有实际项集\n",
    "    for actualSet in D:\n",
    "        # 遍历所有已有的频繁子集\n",
    "        for kSet in Ck:\n",
    "            # 如果当前子集包含于该实际项集中\n",
    "            if kSet.issubset(actualSet):\n",
    "                # 若容器里还未收集此子集，则收集，且计数为1\n",
    "                if not kSet in ssCnt.keys():\n",
    "                    ssCnt[kSet] = 1\n",
    "                # 若容器已收集，则计数+1\n",
    "                else:\n",
    "                    ssCnt[kSet] += 1\n",
    "    # 已经全部遍历完毕，需要根据最小支持度阈值来筛选频繁项集\n",
    "    numItems = len(D)\n",
    "    retList = []\n",
    "    supportData = {}\n",
    "    for key in ssCnt:\n",
    "        support = ssCnt[key]/numItems\n",
    "        if support>=minSupport:\n",
    "            retList.insert(0,key)\n",
    "        supportData[key] = support\n",
    "    return retList, supportData"
   ]
  },
  {
   "cell_type": "code",
   "execution_count": 2,
   "metadata": {},
   "outputs": [
    {
     "data": {
      "text/plain": [
       "[frozenset({5}), frozenset({2}), frozenset({3}), frozenset({1})]"
      ]
     },
     "execution_count": 2,
     "metadata": {},
     "output_type": "execute_result"
    }
   ],
   "source": [
    "dataSet = loadDataSet()\n",
    "C1 = createC1(dataSet)\n",
    "D = list(map(set,dataSet))\n",
    "L1, supportData0 = scanD(D, C1, minSupport=0.5)\n",
    "L1"
   ]
  },
  {
   "cell_type": "code",
   "execution_count": 3,
   "metadata": {},
   "outputs": [
    {
     "data": {
      "text/plain": [
       "{frozenset({1}): 0.5,\n",
       " frozenset({3}): 0.75,\n",
       " frozenset({4}): 0.25,\n",
       " frozenset({2}): 0.75,\n",
       " frozenset({5}): 0.75}"
      ]
     },
     "execution_count": 3,
     "metadata": {},
     "output_type": "execute_result"
    }
   ],
   "source": [
    "supportData0"
   ]
  },
  {
   "cell_type": "code",
   "execution_count": 4,
   "metadata": {
    "collapsed": true
   },
   "outputs": [],
   "source": [
    "# Lk: 项长度为 k 的频繁项集, [frozenset]\n",
    "# 生成 项长度为 k+1 的候选项集： Cnew\n",
    "def aprioriGen(Lk):\n",
    "    # 最后生成候选项的容器\n",
    "    retList = []\n",
    "    # 当前频繁项的项长度\n",
    "    k = len(Lk[0])\n",
    "    # 生成的候选集的项长度： 在当前频繁项长度基础上 +1\n",
    "    genLen = k + 1\n",
    "    # 当前频繁项集的元素数量\n",
    "    lenLk = len(Lk)\n",
    "    # 遍历所有频繁项交叉组合\n",
    "    # 若要生成长度为 k+1的候选项，则只需组合频繁项前 k-1个元素相同的两项即可\n",
    "    # 如若要在 L2：｛0,1｝，｛0,2｝，｛1,2｝，生成 C3，只需组合｛0,1｝和｛0,2｝即可\n",
    "    for i in range(lenLk):\n",
    "        for j in range(i+1,lenLk):\n",
    "            # 一定要对齐比较\n",
    "            Lk_i_sub = list(Lk[i])[:(k-1)].sort()\n",
    "            Lk_j_sub = list(Lk[j])[:(k-1)].sort()\n",
    "            if Lk_i_sub==Lk_j_sub:\n",
    "                retList.append(Lk[i]|Lk[j])\n",
    "    return retList"
   ]
  },
  {
   "cell_type": "code",
   "execution_count": 5,
   "metadata": {},
   "outputs": [
    {
     "data": {
      "text/plain": [
       "[frozenset({1}),\n",
       " frozenset({2}),\n",
       " frozenset({3}),\n",
       " frozenset({4}),\n",
       " frozenset({5})]"
      ]
     },
     "execution_count": 5,
     "metadata": {},
     "output_type": "execute_result"
    }
   ],
   "source": [
    "C1"
   ]
  },
  {
   "cell_type": "code",
   "execution_count": 6,
   "metadata": {},
   "outputs": [
    {
     "data": {
      "text/plain": [
       "[frozenset({2, 5}),\n",
       " frozenset({3, 5}),\n",
       " frozenset({1, 5}),\n",
       " frozenset({2, 3}),\n",
       " frozenset({1, 2}),\n",
       " frozenset({1, 3})]"
      ]
     },
     "execution_count": 6,
     "metadata": {},
     "output_type": "execute_result"
    }
   ],
   "source": [
    "aprioriGen(L1)"
   ]
  },
  {
   "cell_type": "code",
   "execution_count": 7,
   "metadata": {
    "collapsed": true
   },
   "outputs": [],
   "source": [
    "def apriori(dataSet, minSupport = 0.5):\n",
    "    # 长度为1的候选集\n",
    "    C1 = createC1(dataSet)\n",
    "    # 实际项集，用来算支持度\n",
    "    D = list(map(set,dataSet))\n",
    "    # 生成 L1频繁项集 和支持度数据    \n",
    "    L1,supportData = scanD(D, C1, minSupport = minSupport)\n",
    "    # 一个包含不同阶频繁项的集合：[L1,L2,...Lk...]\n",
    "    L = []\n",
    "    # 表示最新的频繁项集\n",
    "    Lk = L1\n",
    "    # 当最新的频繁项集为空时，循环停止\n",
    "    while(len(Lk)>0):\n",
    "        # 收集生成的新频繁项集\n",
    "        L.append(Lk)\n",
    "        Ck = aprioriGen(Lk)\n",
    "        Lk,supk = scanD(D, Ck, minSupport = minSupport)\n",
    "        # 记录各阶项集的支持度\n",
    "        supportData.update(supk)\n",
    "    return L, supportData\n",
    "    "
   ]
  },
  {
   "cell_type": "code",
   "execution_count": 8,
   "metadata": {
    "collapsed": true
   },
   "outputs": [],
   "source": [
    "L, supportData = apriori(dataSet)"
   ]
  },
  {
   "cell_type": "code",
   "execution_count": 9,
   "metadata": {},
   "outputs": [
    {
     "data": {
      "text/plain": [
       "[[frozenset({5}), frozenset({2}), frozenset({3}), frozenset({1})],\n",
       " [frozenset({2, 3}), frozenset({3, 5}), frozenset({2, 5}), frozenset({1, 3})],\n",
       " [frozenset({2, 3, 5})]]"
      ]
     },
     "execution_count": 9,
     "metadata": {},
     "output_type": "execute_result"
    }
   ],
   "source": [
    "L"
   ]
  },
  {
   "cell_type": "code",
   "execution_count": 10,
   "metadata": {},
   "outputs": [
    {
     "data": {
      "text/plain": [
       "{frozenset({1}): 0.5,\n",
       " frozenset({3}): 0.75,\n",
       " frozenset({4}): 0.25,\n",
       " frozenset({2}): 0.75,\n",
       " frozenset({5}): 0.75,\n",
       " frozenset({1, 3}): 0.5,\n",
       " frozenset({2, 5}): 0.75,\n",
       " frozenset({3, 5}): 0.5,\n",
       " frozenset({2, 3}): 0.5,\n",
       " frozenset({1, 5}): 0.25,\n",
       " frozenset({1, 2}): 0.25,\n",
       " frozenset({2, 3, 5}): 1.5,\n",
       " frozenset({1, 2, 3}): 0.25,\n",
       " frozenset({1, 3, 5}): 0.25,\n",
       " frozenset({1, 2, 3, 5}): 0.25}"
      ]
     },
     "execution_count": 10,
     "metadata": {},
     "output_type": "execute_result"
    }
   ],
   "source": [
    "supportData"
   ]
  },
  {
   "cell_type": "code",
   "execution_count": null,
   "metadata": {
    "collapsed": true
   },
   "outputs": [],
   "source": [
    "# 计算规则的可信度，并输出有效的候选后件 y 集，过程中不断累加 bigRulesList\n",
    "# 对于n阶频繁项生成的规则是 n-1 -> 1\n",
    "# freqSet：某阶频繁项集 L[i] 的元素，频繁项，set\n",
    "# H：后件 y 集，每个元素都是freqSet的真子集，元素长度都为 1\n",
    "# supportData：记录所有项支持度的dict\n",
    "# bigRuleList：包含关联规则的元组列表 List[(x, y, conf)]\n",
    "# minConf：最小可信度阈值\n",
    "def calcConf(freqSet, H, supportData, bigRuleList, minConf=0.7):\n",
    "    # 记录后件集 H中最终满足有效关联规则的 后件\n",
    "    prunedH = []\n",
    "    # y：后件 set\n",
    "    for y in H:\n",
    "        # freqSet-y : 前件 x set\n",
    "        x = freqSet - y\n",
    "        # conf(x->y) = supp(x | y) / supp(x)\n",
    "        conf = supportData[freqSet]/supportData[x]\n",
    "        if conf >= minConf:\n",
    "            print(x, \"-->\", y, \"conf:\", conf)\n",
    "            # 经过此函数，bigRuleList会改变\n",
    "            bigRuleList.append((x, y, conf))\n",
    "            prunedH.append(y)\n",
    "    return prunedH"
   ]
  },
  {
   "cell_type": "code",
   "execution_count": 41,
   "metadata": {
    "collapsed": true
   },
   "outputs": [],
   "source": [
    "# 递归地产生更多的关联规则\n",
    "# freqSet：某阶频繁项集 L[i] 的元素，set\n",
    "# H：后件 y 集，每个元素都是freqSet的真子集，元素长度都为 1\n",
    "# supportData：记录所有项支持度的dict\n",
    "# bigRuleList：包含关联规则的元组列表 List[(x, y, conf)]\n",
    "# minConf：最小可信度阈值\n",
    "def rulesFromConseq(freqSet, H, supportData, bigRuleList, minConf=0.7):\n",
    "    # 后件集每项的长度\n",
    "    m = len(H[0])\n",
    "    # 如果当前频繁项元素的数量比后件集的元素长度（初始 H 中的元素长度都为 1）大 2以上\n",
    "    # 例如 freqSet = ｛A，B，C｝长度为3，而 H = [A,B,C] 元素长度为 1\n",
    "    # 则 freqSet完全可以支撑 项｛A，B｝的关联规则挖掘\n",
    "    if(len(freqSet) > (m+1)):\n",
    "        # 生成长度为 len(H[0])+1 (m+1)的候选项集\n",
    "        Hmp1 = aprioriGen(H)\n",
    "        # 产生满足条件的有效后件\n",
    "        Hmp1 = calConf(freqSet, Hmp1, supportData, bigRuleList, minConf)\n",
    "        if(len(Hmp1) > 1):\n",
    "            rulesFromConseq(freqSet, Hmp1, supportData, bigRuleList, minConf)"
   ]
  },
  {
   "cell_type": "code",
   "execution_count": null,
   "metadata": {
    "collapsed": true
   },
   "outputs": [],
   "source": [
    "# 关联规则生成函数，包含关联规则(x--conf-->y)的元组列表 List[(x, y, conf)]\n",
    "# L：频繁项集\n",
    "# supportData:各项集的支持度信息 dict\n",
    "# minConf ： 最小置信度阈值\n",
    "def generateRules(L, supportData, minConf=0.7):\n",
    "    bigRuleList = []\n",
    "    # 从2阶频繁项集遍历，因为 1阶不存在关联\n",
    "    for i in range(1, len(L)):\n",
    "        # freqSet 为该阶频繁项集的一个元素，frozenSet[item]\n",
    "        for freqSet in L[i]:\n",
    "            # 将freqSet的每一个item形成一个独立的freqSet，并以列表形式容纳\n",
    "            # H1中的每个元素都是该freqSet的真子集\n",
    "            H1 = [frozenset([item]) for item in freqSet]\n",
    "            # 如果频繁项集是 2阶的，那么只能生成 1->1的关联规则\n",
    "            if(i == 1):\n",
    "                calConf(freqSet, H1, supportData, bigRuleList, minConf)\n",
    "            # 如果频繁项集是更高阶的，那么就可以生成多层规则\n",
    "            # 如 3阶的可生成 1->2 或 2->1，所以调用方式不同\n",
    "            else:\n",
    "                rulesFromConseq(freqSet, H1, supportData, bigRuleList, minConf)\n",
    "            return bigRuleList\n",
    "    "
   ]
  },
  {
   "cell_type": "code",
   "execution_count": null,
   "metadata": {
    "collapsed": true
   },
   "outputs": [],
   "source": []
  },
  {
   "cell_type": "code",
   "execution_count": 38,
   "metadata": {},
   "outputs": [
    {
     "data": {
      "text/plain": [
       "[frozenset({2}), frozenset({3}), frozenset({5})]"
      ]
     },
     "execution_count": 38,
     "metadata": {},
     "output_type": "execute_result"
    }
   ],
   "source": [
    "freqSet = L[2][0]\n",
    "H1 = [frozenset([item]) for item in freqSet]\n",
    "H1"
   ]
  },
  {
   "cell_type": "code",
   "execution_count": 40,
   "metadata": {},
   "outputs": [
    {
     "data": {
      "text/plain": [
       "[[frozenset({5}), frozenset({2}), frozenset({3}), frozenset({1})],\n",
       " [frozenset({2, 3}), frozenset({3, 5}), frozenset({2, 5}), frozenset({1, 3})],\n",
       " [frozenset({2, 3, 5})]]"
      ]
     },
     "execution_count": 40,
     "metadata": {},
     "output_type": "execute_result"
    }
   ],
   "source": [
    "L"
   ]
  },
  {
   "cell_type": "code",
   "execution_count": 36,
   "metadata": {},
   "outputs": [
    {
     "data": {
      "text/plain": [
       "2"
      ]
     },
     "execution_count": 36,
     "metadata": {},
     "output_type": "execute_result"
    }
   ],
   "source": [
    "len(freqSet)"
   ]
  }
 ],
 "metadata": {
  "kernelspec": {
   "display_name": "Python 3",
   "language": "python",
   "name": "python3"
  },
  "language_info": {
   "codemirror_mode": {
    "name": "ipython",
    "version": 3
   },
   "file_extension": ".py",
   "mimetype": "text/x-python",
   "name": "python",
   "nbconvert_exporter": "python",
   "pygments_lexer": "ipython3",
   "version": "3.6.1"
  }
 },
 "nbformat": 4,
 "nbformat_minor": 2
}
