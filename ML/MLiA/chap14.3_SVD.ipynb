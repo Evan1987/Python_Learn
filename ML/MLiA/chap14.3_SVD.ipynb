{
 "cells": [
  {
   "cell_type": "code",
   "execution_count": 1,
   "metadata": {
    "collapsed": true
   },
   "outputs": [],
   "source": [
    "import numpy as np"
   ]
  },
  {
   "cell_type": "code",
   "execution_count": 8,
   "metadata": {
    "collapsed": true
   },
   "outputs": [],
   "source": [
    "def loadData():\n",
    "    x = [[1, 1, 1, 0, 0],\n",
    "         [2, 2, 2, 0, 0],\n",
    "         [1, 1, 1, 0, 0],\n",
    "         [5, 5, 5, 0, 0],\n",
    "         [1, 1, 0, 2, 2],\n",
    "         [0, 0, 0, 3, 3],\n",
    "         [0, 0, 0, 1, 1]]\n",
    "    return np.mat(x)"
   ]
  },
  {
   "cell_type": "code",
   "execution_count": 54,
   "metadata": {
    "collapsed": true
   },
   "outputs": [],
   "source": [
    "def slimDatBySVD(dat, threhold=0.9):\n",
    "    U,Sigma,Vt = np.linalg.svd(dat)\n",
    "    index = np.argwhere(np.cumsum(Sigma)/np.sum(Sigma)>=threhold).flatten()[0]+1\n",
    "    newSigma = np.mat(np.diag(Sigma[:index]))\n",
    "    newDat = U[:,:index] * newSigma * Vt[:index,:]\n",
    "    return np.mat(np.around(newDat, decimals=2))"
   ]
  },
  {
   "cell_type": "code",
   "execution_count": 55,
   "metadata": {},
   "outputs": [
    {
     "data": {
      "text/plain": [
       "matrix([[1, 1, 1, 0, 0],\n",
       "        [2, 2, 2, 0, 0],\n",
       "        [1, 1, 1, 0, 0],\n",
       "        [5, 5, 5, 0, 0],\n",
       "        [1, 1, 0, 2, 2],\n",
       "        [0, 0, 0, 3, 3],\n",
       "        [0, 0, 0, 1, 1]])"
      ]
     },
     "execution_count": 55,
     "metadata": {},
     "output_type": "execute_result"
    }
   ],
   "source": [
    "dat = loadData()\n",
    "newDat = slimDatBySVD(dat)\n",
    "newDat"
   ]
  },
  {
   "cell_type": "code",
   "execution_count": 56,
   "metadata": {},
   "outputs": [
    {
     "data": {
      "text/plain": [
       "matrix([[ 1.  ,  1.  ,  0.99, -0.  , -0.  ],\n",
       "        [ 2.01,  2.01,  1.98, -0.  , -0.  ],\n",
       "        [ 1.  ,  1.  ,  0.99, -0.  , -0.  ],\n",
       "        [ 5.02,  5.02,  4.95, -0.  , -0.  ],\n",
       "        [ 0.77,  0.77,  0.47,  2.03,  2.03],\n",
       "        [ 0.14,  0.14, -0.29,  2.98,  2.98],\n",
       "        [ 0.05,  0.05, -0.1 ,  0.99,  0.99]])"
      ]
     },
     "execution_count": 56,
     "metadata": {},
     "output_type": "execute_result"
    }
   ],
   "source": []
  }
 ],
 "metadata": {
  "kernelspec": {
   "display_name": "Python 3",
   "language": "python",
   "name": "python3"
  },
  "language_info": {
   "codemirror_mode": {
    "name": "ipython",
    "version": 3
   },
   "file_extension": ".py",
   "mimetype": "text/x-python",
   "name": "python",
   "nbconvert_exporter": "python",
   "pygments_lexer": "ipython3",
   "version": "3.6.1"
  }
 },
 "nbformat": 4,
 "nbformat_minor": 2
}
