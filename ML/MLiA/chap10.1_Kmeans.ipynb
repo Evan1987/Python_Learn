{
 "cells": [
  {
   "cell_type": "code",
   "execution_count": 1,
   "metadata": {
    "collapsed": true
   },
   "outputs": [],
   "source": [
    "import numpy as np\n",
    "import random"
   ]
  },
  {
   "cell_type": "code",
   "execution_count": 2,
   "metadata": {
    "collapsed": true
   },
   "outputs": [],
   "source": [
    "# return matrix shape m*n：m-样本数，n-特征数\n",
    "def loadDataSet(fileName):\n",
    "    dataMat = []\n",
    "    fr = open(fileName)\n",
    "    for line in fr.readlines():\n",
    "        curLine = line.strip().split('\\t')\n",
    "        fltLine = list(map(float, curLine))\n",
    "        dataMat.append(fltLine)\n",
    "    return np.mat(dataMat)"
   ]
  },
  {
   "cell_type": "code",
   "execution_count": 3,
   "metadata": {
    "collapsed": true
   },
   "outputs": [],
   "source": [
    "# 用欧式距离计算向量间的距离\n",
    "# return double\n",
    "def distEclud(vecA, vecB):\n",
    "    dist = np.sum(np.power(vecA-vecB,2))**0.5\n",
    "    return dist"
   ]
  },
  {
   "cell_type": "code",
   "execution_count": 4,
   "metadata": {
    "collapsed": true
   },
   "outputs": [],
   "source": [
    "# 随机生成簇质点\n",
    "# return matrix shape k*n：k-质点数，n-特征数\n",
    "def randCent(dataSet, k):\n",
    "    # 数据集的维数\n",
    "    n = np.shape(dataSet)[1]\n",
    "    # 生成多组 k*n 的随机组合，便于之后生成簇质点\n",
    "    # 用 set来当容器，方便保证组合没有重复\n",
    "    rand = set()\n",
    "    while len(rand)<k:\n",
    "        rand.add(tuple([random.random() for _ in range(n)]))\n",
    "    randMat = np.mat(list(map(list,list(rand))))\n",
    "    # 各维度的统计性数据\n",
    "    minMat = np.apply_along_axis(arr=dataSet, axis=0, func1d=np.min)\n",
    "    maxMat = np.apply_along_axis(arr=dataSet, axis=0, func1d=np.max)\n",
    "    rangeMat = maxMat - minMat\n",
    "    \n",
    "    centroids = minMat + np.multiply(randMat, rangeMat)\n",
    "    return centroids\n",
    "    "
   ]
  },
  {
   "cell_type": "code",
   "execution_count": 5,
   "metadata": {
    "collapsed": true,
    "scrolled": true
   },
   "outputs": [],
   "source": [
    "path = \"F:/for learn/MLiA/Ch10/\"\n",
    "fileName = path + \"testSet.txt\"\n",
    "dataSet = loadDataSet(fileName)"
   ]
  },
  {
   "cell_type": "code",
   "execution_count": 6,
   "metadata": {},
   "outputs": [
    {
     "data": {
      "text/plain": [
       "matrix([[-0.21492701,  4.83478898],\n",
       "        [ 1.5062499 , -3.48224949],\n",
       "        [ 1.71389623, -1.02928711],\n",
       "        [ 2.4093189 , -3.36526945],\n",
       "        [ 1.00531852,  4.84027164]])"
      ]
     },
     "execution_count": 6,
     "metadata": {},
     "output_type": "execute_result"
    }
   ],
   "source": [
    "centroids = randCent(dataSet, 5)\n",
    "centroids"
   ]
  },
  {
   "cell_type": "code",
   "execution_count": 8,
   "metadata": {},
   "outputs": [
    {
     "data": {
      "text/plain": [
       "matrix([[ 1.658985,  4.285136],\n",
       "        [-3.453687,  3.424321],\n",
       "        [ 4.838138, -1.151539],\n",
       "        [-5.379713, -3.362104],\n",
       "        [ 0.972564,  2.924086],\n",
       "        [-3.567919,  1.531611],\n",
       "        [ 0.450614, -3.302219],\n",
       "        [-3.487105, -1.724432],\n",
       "        [ 2.668759,  1.594842],\n",
       "        [-3.156485,  3.191137]])"
      ]
     },
     "execution_count": 8,
     "metadata": {},
     "output_type": "execute_result"
    }
   ],
   "source": [
    "dataSet[:10,]"
   ]
  },
  {
   "cell_type": "code",
   "execution_count": 41,
   "metadata": {
    "collapsed": true
   },
   "outputs": [],
   "source": [
    "def kMeans(dataSet, k, distFun=distEclud, createCentFun=randCent):\n",
    "    centroids = createCentFun(dataSet, k)\n",
    "    totalSSE = changeSSE = np.inf    \n",
    "    # 给出每个样本最近的簇质点序号以及 SE\n",
    "    # return (index:Int, dist^2:Double)\n",
    "    def getIndex(vecA, centroids, distFun):\n",
    "        distEval = np.array([distFun(vecA, x) for x in centroids])\n",
    "        index = distEval.argmin()\n",
    "        dist = distEval[index]\n",
    "        return index,dist**2\n",
    "    \n",
    "    # 根据生成的簇，计算新的簇质心\n",
    "    # return matrix shape k*n: k-质点数，n-特征数\n",
    "    def generateNewCentroids(dataSet, index, k):\n",
    "        newCentroids = np.mat([np.apply_along_axis(\n",
    "                               arr = dataSet[index==i],\n",
    "                               axis = 0,\n",
    "                               func1d=np.mean) for i in range(k)])\n",
    "        return newCentroids\n",
    "        \n",
    "    # 收敛条件：改变的 SSE≤1\n",
    "    while changeSSE>1:\n",
    "        clusterAssment = np.array([getIndex(x, centroids,distFun) for x in dataSet])\n",
    "        index = clusterAssment[:,0]\n",
    "        sse = np.sum(clusterAssment[:,1])\n",
    "        changeSSE = totalSSE - sse\n",
    "        print(\"now SSE is:\", sse, \"\\t\", \"change SSE is:\", changeSSE)\n",
    "        totalSSE = sse\n",
    "        centroids = generateNewCentroids(dataSet, index, k)\n",
    "    \n",
    "    return centroids, clusterAssment\n",
    "    "
   ]
  },
  {
   "cell_type": "code",
   "execution_count": 59,
   "metadata": {},
   "outputs": [
    {
     "name": "stdout",
     "output_type": "stream",
     "text": [
      "now SSE is: 441.458289833 \t change SSE is: inf\n",
      "now SSE is: 184.017208876 \t change SSE is: 257.441080957\n",
      "now SSE is: 140.233228481 \t change SSE is: 43.7839803954\n",
      "now SSE is: 135.825506074 \t change SSE is: 4.40772240752\n",
      "now SSE is: 135.134888793 \t change SSE is: 0.690617280683\n"
     ]
    }
   ],
   "source": [
    "result = kMeans(dataSet, k=5)"
   ]
  },
  {
   "cell_type": "code",
   "execution_count": null,
   "metadata": {
    "collapsed": true
   },
   "outputs": [],
   "source": [
    "def biKmeans(dataSet, k, distFun=distEclud):\n",
    "    m = dataSet.shape[0]\n",
    "    # 最开始将所有数据看成是一个簇，初始化簇类别（0）和距离矩阵 clusterAssment\n",
    "    centroids = np.mean(dataSet, axis=0)\n",
    "    clusterAssment = np.mat([(0,distFun(x, centroids)) for x in dataSet])\n",
    "    \n",
    "    \n",
    "    "
   ]
  },
  {
   "cell_type": "code",
   "execution_count": 69,
   "metadata": {},
   "outputs": [
    {
     "data": {
      "text/plain": [
       "array([ 4.58330836,  4.75184468,  5.08674313,  6.28562276,  3.06493429,\n",
       "        3.76614642,  3.40196938,  3.82255261,  3.1716421 ,  4.37718688,\n",
       "        5.20799242,  4.14068002,  5.21346225,  3.5250503 ,  0.96823758,\n",
       "        4.02836769,  3.30536066,  3.35973568,  4.57409687,  3.87678203,\n",
       "        3.72972168,  3.0135229 ,  3.01728091,  4.34878565,  4.2641849 ,\n",
       "        2.69187763,  3.423168  ,  5.08674265,  4.08492369,  2.67708207,\n",
       "        4.20916698,  4.2557841 ,  3.43650877,  3.53574277,  4.56127559,\n",
       "        4.32954223,  5.50909737,  2.24178376,  4.00049716,  4.98882339,\n",
       "        4.41852373,  3.87591797,  4.74732748,  4.73805701,  3.96090665,\n",
       "        4.52556189,  5.01811579,  4.4234735 ,  4.55126049,  4.49401392,\n",
       "        3.76899068,  5.80943401,  6.40297196,  5.73124909,  4.2929766 ,\n",
       "        4.944687  ,  3.22350258,  3.53629097,  3.78283225,  4.75008729,\n",
       "        3.86204421,  3.74913194,  5.37922984,  3.21435622,  5.21971538,\n",
       "        3.83044563,  3.53782534,  4.05711072,  3.93635838,  3.29067121,\n",
       "        4.82992924,  5.02317413,  4.4315439 ,  3.65510248,  5.44293372,\n",
       "        3.4773187 ,  4.22627483,  4.00141623,  4.93076202,  5.64377329])"
      ]
     },
     "execution_count": 69,
     "metadata": {},
     "output_type": "execute_result"
    }
   ],
   "source": [
    "distEval"
   ]
  },
  {
   "cell_type": "code",
   "execution_count": 62,
   "metadata": {
    "scrolled": true
   },
   "outputs": [
    {
     "data": {
      "text/plain": [
       "12.668953910823756"
      ]
     },
     "execution_count": 62,
     "metadata": {},
     "output_type": "execute_result"
    }
   ],
   "source": [
    "distEclud(vecA, centroids)"
   ]
  }
 ],
 "metadata": {
  "kernelspec": {
   "display_name": "Python 3",
   "language": "python",
   "name": "python3"
  },
  "language_info": {
   "codemirror_mode": {
    "name": "ipython",
    "version": 3
   },
   "file_extension": ".py",
   "mimetype": "text/x-python",
   "name": "python",
   "nbconvert_exporter": "python",
   "pygments_lexer": "ipython3",
   "version": "3.6.1"
  }
 },
 "nbformat": 4,
 "nbformat_minor": 2
}
