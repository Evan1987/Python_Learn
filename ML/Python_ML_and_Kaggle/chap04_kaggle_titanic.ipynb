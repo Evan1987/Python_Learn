{
 "cells": [
  {
   "cell_type": "code",
   "execution_count": 50,
   "metadata": {
    "collapsed": true
   },
   "outputs": [],
   "source": [
    "import numpy as np\n",
    "import pandas as pd\n",
    "from sklearn.feature_extraction import DictVectorizer\n",
    "from sklearn.ensemble import RandomForestClassifier\n",
    "from xgboost import XGBClassifier\n",
    "from sklearn.model_selection import cross_val_score\n",
    "from sklearn.grid_search import GridSearchCV"
   ]
  },
  {
   "cell_type": "code",
   "execution_count": 2,
   "metadata": {
    "collapsed": true
   },
   "outputs": [],
   "source": [
    "path = \"F:/for learn/Python_ML_and_Kaggle/Datasets/Titanic/\""
   ]
  },
  {
   "cell_type": "code",
   "execution_count": 3,
   "metadata": {
    "collapsed": true
   },
   "outputs": [],
   "source": [
    "train = pd.read_csv(path + \"train.csv\")\n",
    "test = pd.read_csv(path + \"test.csv\")"
   ]
  },
  {
   "cell_type": "code",
   "execution_count": 11,
   "metadata": {
    "collapsed": true
   },
   "outputs": [],
   "source": [
    "# 0. Data Preparation\n",
    "## 0.1 initial features \n",
    "selected_features = [\"Sex\", \"Pclass\", \"Age\", \"Embarked\", \"SibSp\", \"Parch\", \"Fare\"]\n",
    "x_train = train[selected_features]\n",
    "x_test = test[selected_features]\n",
    "y_train = train[\"Survived\"]"
   ]
  },
  {
   "cell_type": "code",
   "execution_count": 30,
   "metadata": {},
   "outputs": [],
   "source": [
    "## 0.2 NA fill\n",
    "def fillNA(df, na_features, fill_values):\n",
    "    zipList = list(zip(na_features, fill_values))\n",
    "    for feature, value in zipList:\n",
    "        df[feature].fillna(value, inplace=True)\n",
    "    return df\n",
    "\n",
    "fillna_Embarked = x_train[\"Embarked\"].value_counts().argmax()\n",
    "fillna_Ages = x_train[\"Age\"].mean()\n",
    "fillna_Fare = x_train[\"Fare\"].mean()\n",
    "na_features = [\"Embarked\", \"Age\", \"Fare\"]\n",
    "fill_values = [fillna_Embarked, fillna_Ages, fillna_Fare]\n",
    "\n",
    "x_train = fillNA(x_train, na_features, fill_values)\n",
    "x_test = fillNA(x_test, na_features, fill_values)"
   ]
  },
  {
   "cell_type": "code",
   "execution_count": 37,
   "metadata": {
    "collapsed": true
   },
   "outputs": [],
   "source": [
    "## 0.3 feature ETL\n",
    "vec = DictVectorizer(sparse=False)\n",
    "x_train = vec.fit_transform(x_train.to_dict(orient=\"record\"))\n",
    "x_test = vec.transform(x_test.to_dict(orient=\"record\"))"
   ]
  },
  {
   "cell_type": "code",
   "execution_count": 49,
   "metadata": {
    "collapsed": true
   },
   "outputs": [],
   "source": [
    "# 1. Train\n",
    "rfc = RandomForestClassifier()\n",
    "rfc.fit(x_train, y_train)\n",
    "rfc_y_predict = rfc.predict(x_test)\n",
    "\n",
    "xgb = XGBClassifier()\n",
    "xgb.fit(x_train, y_train)\n",
    "xgb_y_predict = xgb.predict(x_test)\n",
    "\n",
    "#cross_val_score(rfc, x_train, y_train, cv=5).mean()\n",
    "#cross_val_score(xgb, x_train, y_train, cv=5).mean()\n",
    "## 1.1 Single Model with default params\n",
    "def subMission(y_predict, fileName):\n",
    "    df = pd.DataFrame({\"PassengerID\": test[\"PassengerId\"], \"Survived\": y_predict})\n",
    "    df.to_csv(fileName, index=False)\n",
    "subMission(rfc_y_predict, path + \"rfc_sub.csv\")\n",
    "subMission(xgb_y_predict, path + \"xgb_sub.csv\")"
   ]
  },
  {
   "cell_type": "code",
   "execution_count": 55,
   "metadata": {},
   "outputs": [
    {
     "name": "stdout",
     "output_type": "stream",
     "text": [
      "Fitting 5 folds for each of 125 candidates, totalling 625 fits\n"
     ]
    },
    {
     "name": "stderr",
     "output_type": "stream",
     "text": [
      "[Parallel(n_jobs=-1)]: Done  34 tasks      | elapsed:   18.6s\n",
      "[Parallel(n_jobs=-1)]: Done 184 tasks      | elapsed:   59.3s\n",
      "[Parallel(n_jobs=-1)]: Done 434 tasks      | elapsed:  2.1min\n",
      "[Parallel(n_jobs=-1)]: Done 625 out of 625 | elapsed:  3.0min finished\n"
     ]
    },
    {
     "data": {
      "text/plain": [
       "GridSearchCV(cv=5, error_score='raise',\n",
       "       estimator=XGBClassifier(base_score=0.5, colsample_bylevel=1, colsample_bytree=1,\n",
       "       gamma=0, learning_rate=0.1, max_delta_step=0, max_depth=3,\n",
       "       min_child_weight=1, missing=None, n_estimators=100, nthread=-1,\n",
       "       objective='binary:logistic', reg_alpha=0, reg_lambda=1,\n",
       "       scale_pos_weight=1, seed=0, silent=True, subsample=1),\n",
       "       fit_params={}, iid=True, n_jobs=-1,\n",
       "       param_grid={'max_depth': [2, 3, 4, 5, 6], 'n_estimators': [100, 300, 500, 700, 900], 'learning_rate': [0.05, 0.1, 0.25, 0.5, 1.0]},\n",
       "       pre_dispatch='2*n_jobs', refit=True, scoring=None, verbose=1)"
      ]
     },
     "execution_count": 55,
     "metadata": {},
     "output_type": "execute_result"
    }
   ],
   "source": [
    "params = {'max_depth': [2, 3, 4, 5, 6], \n",
    "          'n_estimators': [100, 300, 500, 700, 900], \n",
    "          'learning_rate': [0.05, 0.1, 0.25, 0.5 ,1.0]\n",
    "         }\n",
    "xgb_best = XGBClassifier()\n",
    "gs = GridSearchCV(estimator=xgb_best, param_grid=params, n_jobs=-1, cv=5, verbose=1)\n",
    "gs.fit(x_train, y_train)"
   ]
  },
  {
   "cell_type": "code",
   "execution_count": 56,
   "metadata": {},
   "outputs": [
    {
     "data": {
      "text/plain": [
       "{'learning_rate': 0.1, 'max_depth': 5, 'n_estimators': 100}"
      ]
     },
     "execution_count": 56,
     "metadata": {},
     "output_type": "execute_result"
    }
   ],
   "source": [
    "gs.best_params_"
   ]
  },
  {
   "cell_type": "code",
   "execution_count": 58,
   "metadata": {
    "collapsed": true
   },
   "outputs": [],
   "source": [
    "xgb_best_y_predict = gs.predict(x_test)\n",
    "subMission(xgb_best_y_predict, path + \"xgb_best_sub.csv\")"
   ]
  }
 ],
 "metadata": {
  "kernelspec": {
   "display_name": "Python 3",
   "language": "python",
   "name": "python3"
  },
  "language_info": {
   "codemirror_mode": {
    "name": "ipython",
    "version": 3
   },
   "file_extension": ".py",
   "mimetype": "text/x-python",
   "name": "python",
   "nbconvert_exporter": "python",
   "pygments_lexer": "ipython3",
   "version": "3.6.1"
  }
 },
 "nbformat": 4,
 "nbformat_minor": 2
}
