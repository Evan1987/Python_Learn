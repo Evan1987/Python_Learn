{
 "cells": [
  {
   "cell_type": "code",
   "execution_count": 26,
   "metadata": {
    "collapsed": true
   },
   "outputs": [],
   "source": [
    "import numpy as np\n",
    "import pandas as pd\n",
    "from sklearn.datasets import load_boston\n",
    "from sklearn.model_selection import train_test_split\n",
    "from sklearn.preprocessing import StandardScaler\n",
    "from sklearn.linear_model import LinearRegression\n",
    "from sklearn.linear_model import SGDRegressor\n",
    "from sklearn.svm import SVR\n",
    "from sklearn.neighbors import KNeighborsRegressor\n",
    "from sklearn.tree import DecisionTreeRegressor\n",
    "from sklearn.ensemble import RandomForestRegressor, ExtraTreesRegressor, GradientBoostingRegressor\n",
    "from sklearn.metrics import r2_score, mean_squared_error, mean_absolute_error"
   ]
  },
  {
   "cell_type": "code",
   "execution_count": 3,
   "metadata": {
    "collapsed": true
   },
   "outputs": [],
   "source": [
    "# Data prepared\n",
    "boston = load_boston()\n",
    "data = pd.DataFrame(boston.data, columns=boston.feature_names)\n",
    "x = data.copy(deep=True)\n",
    "y = data[\"y\"] = boston.target\n",
    "x_train, x_test, y_train, y_test = train_test_split(x, y, test_size=0.25, random_state=33)\n",
    "ss_x = StandardScaler()\n",
    "ss_y = StandardScaler()\n",
    "x_train = ss_x.fit_transform(x_train)\n",
    "x_test = ss_x.transform(x_test)\n",
    "# reshape make y to a column-like array\n",
    "y_train = ss_y.fit_transform(y_train.reshape(-1, 1))\n",
    "y_test = ss_y.transform(y_test.reshape(-1, 1))\n",
    "ori_y_test = ss_y.inverse_transform(y_test)"
   ]
  },
  {
   "cell_type": "code",
   "execution_count": 4,
   "metadata": {},
   "outputs": [
    {
     "name": "stderr",
     "output_type": "stream",
     "text": [
      "C:\\ProgramData\\Anaconda3\\lib\\site-packages\\sklearn\\linear_model\\stochastic_gradient.py:84: FutureWarning: max_iter and tol parameters have been added in <class 'sklearn.linear_model.stochastic_gradient.SGDRegressor'> in 0.19. If both are left unset, they default to max_iter=5 and tol=None. If tol is not None, max_iter defaults to max_iter=1000. From 0.21, default max_iter will be 1000, and default tol will be 1e-3.\n",
      "  \"and default tol will be 1e-3.\" % type(self), FutureWarning)\n",
      "C:\\ProgramData\\Anaconda3\\lib\\site-packages\\sklearn\\utils\\validation.py:547: DataConversionWarning: A column-vector y was passed when a 1d array was expected. Please change the shape of y to (n_samples, ), for example using ravel().\n",
      "  y = column_or_1d(y, warn=True)\n"
     ]
    }
   ],
   "source": [
    "# Linear regression\n",
    "lr = LinearRegression()\n",
    "lr.fit(x_train, y_train)\n",
    "lr_y_predict = lr.predict(x_test)\n",
    "\n",
    "# SGD regression\n",
    "sgdr = SGDRegressor()\n",
    "sgdr.fit(x_train, y_train)\n",
    "sgdr_y_predict = sgdr.predict(x_test)\n",
    "\n",
    "for model, result in [(lr, lr_y_predict), (sgdr, sgdr_y_predict)]:\n",
    "    modelName = model.__class__.__name__\n",
    "    ori_result = ss_y.inverse_transform(result)\n",
    "    # default score is precisely the r2_score\n",
    "    modelScore = model.score(x_test, y_test)\n",
    "    mse = mean_squared_error(y_true=ori_y_test, y_pred=ori_result)\n",
    "    mae = mean_absolute_error(y_true=ori_y_test, y_pred=ori_result)\n",
    "    r2 = r2_score(y_true=ori_y_test, y_pred=ori_result)\n",
    "    print(\"the default measure score of %s is %f\" % (modelName, modelScore))\n",
    "    print(\"the mae of %s is %f\" % (modelName, mae))\n",
    "    print(\"the mse of %s is %f\" % (modelName, mse))\n",
    "    print(\"the r2_score of %s is %f\" % (modelName, r2))\n",
    "    print(\"\\n\")"
   ]
  },
  {
   "cell_type": "code",
   "execution_count": 7,
   "metadata": {},
   "outputs": [
    {
     "name": "stdout",
     "output_type": "stream",
     "text": [
      "R2 value of kernel linear is 0.651717\n",
      "mae value of kernel linear is 3.426673\n",
      "mse value of kernel linear is 27.006307\n",
      "\n",
      "\n",
      "R2 value of kernel poly is 0.404454\n",
      "mae value of kernel poly is 3.752059\n",
      "mse value of kernel poly is 46.179403\n",
      "\n",
      "\n",
      "R2 value of kernel rbf is 0.756407\n",
      "mae value of kernel rbf is 2.607563\n",
      "mse value of kernel rbf is 18.888525\n",
      "\n",
      "\n"
     ]
    },
    {
     "name": "stderr",
     "output_type": "stream",
     "text": [
      "C:\\ProgramData\\Anaconda3\\lib\\site-packages\\sklearn\\utils\\validation.py:547: DataConversionWarning: A column-vector y was passed when a 1d array was expected. Please change the shape of y to (n_samples, ), for example using ravel().\n",
      "  y = column_or_1d(y, warn=True)\n"
     ]
    }
   ],
   "source": [
    "# SVR regression\n",
    "# ****实践了一些反射技巧\n",
    "for kernel in ['linear', 'poly', 'rbf']:\n",
    "    var = kernel + \"_svr\"\n",
    "    locals()[var] = SVR(kernel=kernel)\n",
    "    obj = eval(var)\n",
    "    obj.fit(x_train, y_train)\n",
    "    result = obj.predict(x_test)\n",
    "    ori_result = ss_y.inverse_transform(result)\n",
    "    r2 = r2_score(y_true=ori_y_test, y_pred=ori_result)\n",
    "    #r2 score doesn't shift wherever result is standarized back.\n",
    "    #r2_s = r2_score(y_true=y_test, y_pred=result)\n",
    "    mae = mean_absolute_error(y_true=ori_y_test, y_pred=ori_result)\n",
    "    mse = mean_squared_error(y_true=ori_y_test, y_pred=ori_result)\n",
    "    print(\"R2 value of kernel %s is %f\" % (kernel, r2))\n",
    "    #print(\"R2-s value of kernel %s is %f\" % (kernel, r2_s))\n",
    "    print(\"mae value of kernel %s is %f\" % (kernel, mae))\n",
    "    print(\"mse value of kernel %s is %f\" % (kernel, mse))\n",
    "    print(\"\\n\")"
   ]
  },
  {
   "cell_type": "code",
   "execution_count": 8,
   "metadata": {},
   "outputs": [
    {
     "name": "stdout",
     "output_type": "stream",
     "text": [
      "R2 value of weights uniform is 0.690345\n",
      "mae value of weights uniform is 2.968031\n",
      "mse value of weights uniform is 24.011014\n",
      "\n",
      "\n",
      "R2 value of weights distance is 0.719759\n",
      "mae value of weights distance is 2.805057\n",
      "mse value of weights distance is 21.730250\n",
      "\n",
      "\n"
     ]
    }
   ],
   "source": [
    "# KNN regression \n",
    "## 平均回归 和 按距离加权回归\n",
    "for weights in [\"uniform\", \"distance\"]:\n",
    "    knr = KNeighborsRegressor(weights=weights)\n",
    "    knr.fit(x_train, y_train)\n",
    "    result = knr.predict(x_test)\n",
    "    ori_result = ss_y.inverse_transform(result)\n",
    "    r2 = r2_score(y_true=ori_y_test, y_pred=ori_result) \n",
    "    mae = mean_absolute_error(y_true=ori_y_test, y_pred=ori_result)\n",
    "    mse = mean_squared_error(y_true=ori_y_test, y_pred=ori_result)\n",
    "    print(\"R2 value of weights %s is %f\" % (weights, r2))\n",
    "    print(\"mae value of weights %s is %f\" % (weights, mae))\n",
    "    print(\"mse value of weights %s is %f\" % (weights, mse))\n",
    "    print(\"\\n\")"
   ]
  },
  {
   "cell_type": "code",
   "execution_count": 10,
   "metadata": {},
   "outputs": [
    {
     "name": "stdout",
     "output_type": "stream",
     "text": [
      "R2 value of DecisionTreeRegressor is 0.687423\n",
      "mae value of DecisionTreeRegressor is 3.166929\n",
      "mse value of DecisionTreeregressor is 24.237638\n"
     ]
    }
   ],
   "source": [
    "# Tree regression\n",
    "dtr = DecisionTreeRegressor()\n",
    "dtr.fit(x_train, y_train)\n",
    "result = dtr.predict(x_test)\n",
    "ori_result = ss_y.inverse_transform(result)\n",
    "r2 = r2_score(y_true=ori_y_test, y_pred=ori_result) \n",
    "mae = mean_absolute_error(y_true=ori_y_test, y_pred=ori_result)\n",
    "mse = mean_squared_error(y_true=ori_y_test, y_pred=ori_result)\n",
    "print(\"R2 value of DecisionTreeRegressor is %f\" % r2)\n",
    "print(\"mae value of DecisionTreeRegressor is %f\" % mae)\n",
    "print(\"mse value of DecisionTreeregressor is %f\" % mse)"
   ]
  },
  {
   "cell_type": "code",
   "execution_count": 59,
   "metadata": {},
   "outputs": [
    {
     "name": "stdout",
     "output_type": "stream",
     "text": [
      "R2 value of RandomForestRegressor is 0.876303\n",
      "MAE value of RandomForestRegressor is 2.006378\n",
      "MSE value of RandomForestRegressor is 9.591661\n",
      "[['0.00109016252986' 'AGE']\n",
      " ['0.00136835861722' 'B']\n",
      " ['0.00243582853636' 'CHAS']\n",
      " ['0.00990893338272' 'CRIM']\n",
      " ['0.0114319784677' 'DIS']\n",
      " ['0.0116363054894' 'INDUS']\n",
      " ['0.0144954544645' 'LSTAT']\n",
      " ['0.0146451700992' 'NOX']\n",
      " ['0.0207787785061' 'PTRATIO']\n",
      " ['0.0289121968839' 'RAD']\n",
      " ['0.0704169568404' 'RM']\n",
      " ['0.374746984909' 'TAX']\n",
      " ['0.438132891274' 'ZN']]\n",
      "\n",
      "\n",
      "R2 value of ExtraTreesRegressor is 0.752318\n",
      "MAE value of ExtraTreesRegressor is 2.552362\n",
      "MSE value of ExtraTreesRegressor is 19.205609\n",
      "[['0.0030758558381' 'AGE']\n",
      " ['0.01231499201' 'B']\n",
      " ['0.0145772379232' 'CHAS']\n",
      " ['0.016167974625' 'CRIM']\n",
      " ['0.020712304012' 'DIS']\n",
      " ['0.0259257135341' 'INDUS']\n",
      " ['0.0269976396145' 'LSTAT']\n",
      " ['0.0278202744685' 'NOX']\n",
      " ['0.029000402234' 'PTRATIO']\n",
      " ['0.0440690602255' 'RAD']\n",
      " ['0.0602057888861' 'RM']\n",
      " ['0.358774348297' 'TAX']\n",
      " ['0.360358408332' 'ZN']]\n",
      "\n",
      "\n",
      "R2 value of GradientBoostingRegressor is 0.844894\n",
      "MAE value of GradientBoostingRegressor is 2.279776\n",
      "MSE value of GradientBoostingRegressor is 12.027110\n",
      "[['0.0154512137038' 'AGE']\n",
      " ['0.0224881337593' 'B']\n",
      " ['0.025910712026' 'CHAS']\n",
      " ['0.0417689649483' 'CRIM']\n",
      " ['0.0434238310664' 'DIS']\n",
      " ['0.0449343572903' 'INDUS']\n",
      " ['0.0475668488141' 'LSTAT']\n",
      " ['0.0798058661478' 'NOX']\n",
      " ['0.096708359356' 'PTRATIO']\n",
      " ['0.103448443443' 'RAD']\n",
      " ['0.110160139366' 'RM']\n",
      " ['0.157503586578' 'TAX']\n",
      " ['0.210829543502' 'ZN']]\n",
      "\n",
      "\n"
     ]
    },
    {
     "name": "stderr",
     "output_type": "stream",
     "text": [
      "C:\\ProgramData\\Anaconda3\\lib\\site-packages\\ipykernel_launcher.py:5: DataConversionWarning: A column-vector y was passed when a 1d array was expected. Please change the shape of y to (n_samples,), for example using ravel().\n",
      "  \"\"\"\n",
      "C:\\ProgramData\\Anaconda3\\lib\\site-packages\\ipykernel_launcher.py:5: DataConversionWarning: A column-vector y was passed when a 1d array was expected. Please change the shape of y to (n_samples,), for example using ravel().\n",
      "  \"\"\"\n",
      "C:\\ProgramData\\Anaconda3\\lib\\site-packages\\sklearn\\utils\\validation.py:547: DataConversionWarning: A column-vector y was passed when a 1d array was expected. Please change the shape of y to (n_samples, ), for example using ravel().\n",
      "  y = column_or_1d(y, warn=True)\n"
     ]
    }
   ],
   "source": [
    "# Ensemble regression\n",
    "ensembleList = [RandomForestRegressor(), ExtraTreesRegressor(), GradientBoostingRegressor()]\n",
    "for model in ensembleList:\n",
    "    modelName = model.__class__.__name__\n",
    "    model.fit(x_train, y_train)\n",
    "    result = model.predict(x_test)\n",
    "    ori_result = ss_y.inverse_transform(result)\n",
    "    r2 = r2_score(y_true=ori_y_test, y_pred=ori_result) \n",
    "    mae = mean_absolute_error(y_true=ori_y_test, y_pred=ori_result)\n",
    "    mse = mean_squared_error(y_true=ori_y_test, y_pred=ori_result)\n",
    "    for metric in [\"r2\", \"mae\", \"mse\"]:\n",
    "        print(\"%s value of %s is %f\" % (metric.upper(), modelName, eval(metric)))\n",
    "    feature_importance = list(zip(model.feature_importances_, x.columns))\n",
    "    print(np.sort(feature_importance, axis=0))\n",
    "    print(\"\\n\")"
   ]
  }
 ],
 "metadata": {
  "kernelspec": {
   "display_name": "Python 3",
   "language": "python",
   "name": "python3"
  },
  "language_info": {
   "codemirror_mode": {
    "name": "ipython",
    "version": 3
   },
   "file_extension": ".py",
   "mimetype": "text/x-python",
   "name": "python",
   "nbconvert_exporter": "python",
   "pygments_lexer": "ipython3",
   "version": "3.6.1"
  }
 },
 "nbformat": 4,
 "nbformat_minor": 2
}
