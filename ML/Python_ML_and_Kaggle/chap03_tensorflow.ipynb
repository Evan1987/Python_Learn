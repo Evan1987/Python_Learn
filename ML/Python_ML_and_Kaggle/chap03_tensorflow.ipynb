{
 "cells": [
  {
   "cell_type": "code",
   "execution_count": 23,
   "metadata": {
    "collapsed": true
   },
   "outputs": [],
   "source": [
    "import numpy as np\n",
    "import pandas as pd\n",
    "import tensorflow as tf"
   ]
  },
  {
   "cell_type": "code",
   "execution_count": 3,
   "metadata": {
    "collapsed": true
   },
   "outputs": [],
   "source": [
    "# tensorflow 是一个完整的编程框架\n",
    "greeting = tf.constant(\"Hello Google Tensorflow !\")\n",
    "sess = tf.Session()\n",
    "result = sess.run(greeting)\n",
    "print(result)\n",
    "sess.close()"
   ]
  },
  {
   "cell_type": "code",
   "execution_count": 11,
   "metadata": {
    "collapsed": true
   },
   "outputs": [],
   "source": [
    "matrix1 = tf.constant([[3, 3]])\n",
    "matrix2 = tf.constant([[2], [2]])\n",
    "product = tf.matmul(matrix1, matrix2)\n",
    "linear = tf.add(product, tf.constant(2))\n",
    "with tf.Session() as sess:\n",
    "    result = sess.run(linear)\n",
    "    print(result)"
   ]
  },
  {
   "cell_type": "code",
   "execution_count": 28,
   "metadata": {
    "collapsed": true
   },
   "outputs": [],
   "source": [
    "# 进行肿瘤预测\n",
    "from sklearn.model_selection import train_test_split\n",
    "path = \"F:/for learn/Python_ML_and_Kaggle/Datasets/Breast-Cancer/\"\n",
    "colnames = [\"Sample code number\", \n",
    "            \"Clump Thickness\", \n",
    "            \"Uniformity of Cell Size\", \n",
    "            \"Uniformity of Cell Shape\", \n",
    "            \"Marginal Adhesion\", \n",
    "            \"Single Epithelial\", \n",
    "            \"Bare Nuclei\", \n",
    "            \"Bland Chromatin\", \n",
    "            \"Normal Nucleoli\", \n",
    "            \"Mitoses\", \n",
    "            \"Class\"]\n",
    "data = pd.read_csv(path + \"breast-cancer-wisconsin.data\", names=colnames)"
   ]
  },
  {
   "cell_type": "code",
   "execution_count": 127,
   "metadata": {
    "collapsed": true
   },
   "outputs": [],
   "source": [
    "x = np.float32(np.mat(data[[\"Clump Thickness\", \"Uniformity of Cell Size\"]]))\n",
    "y = np.float32(np.mat(data[[\"Class\"]]))\n",
    "# 替代了原有的标签｛2,4｝=>｛-1，+1｝\n",
    "y = np.mat(list(map(lambda t: -1 if t==2 else 1, y))).reshape(-1, 1)\n",
    "featureNum = x.shape[1]\n",
    "x_train, x_test, y_train, y_test = train_test_split(x, y, test_size=0.25, random_state=33)"
   ]
  },
  {
   "cell_type": "code",
   "execution_count": 141,
   "metadata": {},
   "outputs": [
    {
     "name": "stdout",
     "output_type": "stream",
     "text": [
      "0 [[ 0.4844211 ]\n",
      " [-0.44934753]] [-0.06566215]\n",
      "200 [[ 0.05090662]\n",
      " [ 0.18555444]] [-0.99854571]\n",
      "400 [[ 0.09392229]\n",
      " [ 0.1861534 ]] [-1.26733387]\n",
      "600 [[ 0.10763254]\n",
      " [ 0.18634421]] [-1.3530035]\n",
      "800 [[ 0.11200245]\n",
      " [ 0.18640502]] [-1.3803091]\n"
     ]
    }
   ],
   "source": [
    "# 线性模型的截距\n",
    "b = tf.Variable(tf.zeros([1]))\n",
    "#  线性模型的系数矩阵（向量）\n",
    "W = tf.Variable(tf.random_uniform([featureNum, 1], -1, 1))\n",
    "y = tf.matmul(x_train, W) + b\n",
    "loss = tf.reduce_mean(tf.square(y - y_train))\n",
    "optimizer = tf.train.GradientDescentOptimizer(0.01)\n",
    "train = optimizer.minimize(loss)\n",
    "init = tf.global_variables_initializer()\n",
    "sess = tf.Session()\n",
    "sess.run(init)\n",
    "for step in range(1000):\n",
    "    sess.run(train)\n",
    "    if step%200 == 0:\n",
    "        print(step, sess.run(W), sess.run(b))"
   ]
  },
  {
   "cell_type": "code",
   "execution_count": 142,
   "metadata": {},
   "outputs": [],
   "source": [
    "W = sess.run(W)\n",
    "b = sess.run(b)\n",
    "test_negative = x_test[(y_test == -1).A1]\n",
    "test_positive = x_test[(y_test == 1).A1]"
   ]
  },
  {
   "cell_type": "code",
   "execution_count": 148,
   "metadata": {},
   "outputs": [
    {
     "data": {
      "image/png": "[encoded data removed]",
      "text/plain": [
       "<matplotlib.figure.Figure at 0x21bd995dc88>"
      ]
     },
     "metadata": {},
     "output_type": "display_data"
    }
   ],
   "source": [
    "import matplotlib.pyplot as plt\n",
    "# 直线方程 WX+b=0, w1x + w2y + b = 0\n",
    "# y = (-b-w1x)/w2\n",
    "lx = np.arange(0, 12)\n",
    "ly = (-b - W[0]*lx)/W[1]\n",
    "plt.scatter(test_negative[:, 0].A1, test_negative[:, 1].A1, marker=\"o\", s=200, c=\"blue\")\n",
    "plt.scatter(test_positive[:, 0].A1, test_positive[:, 1].A1, marker=\"x\", s=150, c=\"red\")\n",
    "plt.plot(lx, ly, \"green\")\n",
    "plt.show()"
   ]
  }
 ],
 "metadata": {
  "kernelspec": {
   "display_name": "Python 3",
   "language": "python",
   "name": "python3"
  },
  "language_info": {
   "codemirror_mode": {
    "name": "ipython",
    "version": 3
   },
   "file_extension": ".py",
   "mimetype": "text/x-python",
   "name": "python",
   "nbconvert_exporter": "python",
   "pygments_lexer": "ipython3",
   "version": "3.6.1"
  }
 },
 "nbformat": 4,
 "nbformat_minor": 2
}
