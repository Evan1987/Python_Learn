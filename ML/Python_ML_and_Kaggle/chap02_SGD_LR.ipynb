{
 "cells": [
  {
   "cell_type": "code",
   "execution_count": 2,
   "metadata": {},
   "outputs": [],
   "source": [
    "import pandas as pd\n",
    "import numpy as np\n",
    "from sklearn.model_selection import train_test_split\n",
    "from sklearn.preprocessing import StandardScaler\n",
    "from sklearn.linear_model import SGDClassifier\n",
    "from sklearn.linear_model import LogisticRegression\n",
    "from sklearn.metrics import classification_report,roc_curve,auc"
   ]
  },
  {
   "cell_type": "code",
   "execution_count": 4,
   "metadata": {},
   "outputs": [],
   "source": [
    "path = \"F:/for learn/Python/Python_ML_and_Kaggle/Datasets/Breast-Cancer/\"\n",
    "\n",
    "colnames = [\"Sample code number\", \n",
    "            \"Clump Thickness\", \n",
    "            \"Uniformity of Cell Size\", \n",
    "            \"Uniformity of Cell Shape\", \n",
    "            \"Marginal Adhesion\", \n",
    "            \"Single Epithelial\", \n",
    "            \"Bare Nuclei\", \n",
    "            \"Bland Chromatin\", \n",
    "            \"Normal Nucleoli\", \n",
    "            \"Mitoses\", \n",
    "            \"Class\"]\n",
    "\n",
    "data = pd.read_csv(path + \"breast-cancer-wisconsin.data\", names=colnames)\n",
    "# data.apply(lambda x: np.sum(x == \"?\"), axis=0)"
   ]
  },
  {
   "cell_type": "code",
   "execution_count": 5,
   "metadata": {},
   "outputs": [
    {
     "data": {
      "text/plain": [
       "2    100\n",
       "4     71\n",
       "Name: Class, dtype: int64"
      ]
     },
     "execution_count": 5,
     "metadata": {},
     "output_type": "execute_result"
    }
   ],
   "source": [
    "data = data.replace(to_replace=\"?\", value=np.nan)\n",
    "data = data.dropna(how=\"any\")\n",
    "# data.shape\n",
    "x_train, x_test, y_train, y_test = train_test_split(data[colnames[1:10]],\n",
    "                                                    data[colnames[10]],\n",
    "                                                    test_size=0.25,\n",
    "                                                    random_state=33)\n",
    "\n",
    "y_train.value_counts()\n",
    "y_test.value_counts()"
   ]
  },
  {
   "cell_type": "code",
   "execution_count": 6,
   "metadata": {
    "collapsed": true
   },
   "outputs": [],
   "source": [
    "# 特征标准化，根据训练集fit的信息才能transform测试集。\n",
    "ss = StandardScaler()\n",
    "x_train = ss.fit_transform(x_train)\n",
    "x_test = ss.transform(x_test)"
   ]
  },
  {
   "cell_type": "code",
   "execution_count": 7,
   "metadata": {},
   "outputs": [
    {
     "name": "stderr",
     "output_type": "stream",
     "text": [
      "C:\\ProgramData\\Anaconda3\\lib\\site-packages\\sklearn\\linear_model\\stochastic_gradient.py:84: FutureWarning: max_iter and tol parameters have been added in <class 'sklearn.linear_model.stochastic_gradient.SGDClassifier'> in 0.19. If both are left unset, they default to max_iter=5 and tol=None. If tol is not None, max_iter defaults to max_iter=1000. From 0.21, default max_iter will be 1000, and default tol will be 1e-3.\n",
      "  \"and default tol will be 1e-3.\" % type(self), FutureWarning)\n"
     ]
    }
   ],
   "source": [
    "lr = LogisticRegression()\n",
    "sgd = SGDClassifier()\n",
    "\n",
    "lr.fit(x_train, y_train)\n",
    "lr_y_predict = lr.predict(x_test)\n",
    "sgd.fit(x_train, y_train)\n",
    "sgd_y_predict = sgd.predict(x_test)\n",
    "# lr.score(x_test,y_test)\n",
    "# sgd.score(x_test,y_test)"
   ]
  },
  {
   "cell_type": "code",
   "execution_count": null,
   "metadata": {
    "collapsed": true
   },
   "outputs": [],
   "source": [
    "print(classification_report(y_pred=lr_y_predict, y_true=y_test, target_names=[\"Benign\", \"Maglignant\"]))"
   ]
  },
  {
   "cell_type": "code",
   "execution_count": 10,
   "metadata": {},
   "outputs": [
    {
     "name": "stdout",
     "output_type": "stream",
     "text": [
      "             precision    recall  f1-score   support\n",
      "\n",
      "     Benign       0.99      0.98      0.98       100\n",
      " Maglignant       0.97      0.99      0.98        71\n",
      "\n",
      "avg / total       0.98      0.98      0.98       171\n",
      "\n"
     ]
    }
   ],
   "source": [
    "print(classification_report(y_pred=sgd_y_predict, y_true=y_test,target_names=[\"Benign\", \"Maglignant\"]))"
   ]
  },
  {
   "cell_type": "code",
   "execution_count": 12,
   "metadata": {},
   "outputs": [
    {
     "data": {
      "text/plain": [
       "array([[  6.81480111e-01,   3.18519889e-01],\n",
       "       [  9.92292118e-01,   7.70788204e-03],\n",
       "       [  4.00669014e-05,   9.99959933e-01],\n",
       "       [  5.05352024e-02,   9.49464798e-01],\n",
       "       [  9.73544598e-01,   2.64554023e-02],\n",
       "       [  9.94645605e-01,   5.35439484e-03],\n",
       "       [  9.75199036e-01,   2.48009641e-02],\n",
       "       [  1.65156707e-01,   8.34843293e-01],\n",
       "       [  9.86712728e-01,   1.32872723e-02],\n",
       "       [  9.70527841e-01,   2.94721594e-02],\n",
       "       [  9.91557685e-01,   8.44231494e-03],\n",
       "       [  9.58156704e-01,   4.18432958e-02],\n",
       "       [  2.23091553e-01,   7.76908447e-01],\n",
       "       [  9.92963113e-01,   7.03688717e-03],\n",
       "       [  4.68821459e-03,   9.95311785e-01],\n",
       "       [  2.39314519e-01,   7.60685481e-01],\n",
       "       [  2.83439447e-03,   9.97165606e-01],\n",
       "       [  1.51939755e-01,   8.48060245e-01],\n",
       "       [  8.23081444e-04,   9.99176919e-01],\n",
       "       [  7.89107567e-01,   2.10892433e-01],\n",
       "       [  9.80362944e-01,   1.96370563e-02],\n",
       "       [  2.03525058e-02,   9.79647494e-01],\n",
       "       [  1.76689552e-05,   9.99982331e-01],\n",
       "       [  9.86582395e-01,   1.34176045e-02],\n",
       "       [  3.73154043e-02,   9.62684596e-01],\n",
       "       [  3.19739454e-05,   9.99968026e-01],\n",
       "       [  9.92500931e-01,   7.49906942e-03],\n",
       "       [  9.97852638e-01,   2.14736246e-03],\n",
       "       [  1.13949126e-03,   9.98860509e-01],\n",
       "       [  1.72983792e-02,   9.82701621e-01],\n",
       "       [  3.81591252e-03,   9.96184087e-01],\n",
       "       [  8.73699174e-05,   9.99912630e-01],\n",
       "       [  1.88227778e-05,   9.99981177e-01],\n",
       "       [  2.70699661e-04,   9.99729300e-01],\n",
       "       [  8.15504987e-02,   9.18449501e-01],\n",
       "       [  2.79139212e-03,   9.97208608e-01],\n",
       "       [  9.32172992e-01,   6.78270081e-02],\n",
       "       [  1.31549340e-03,   9.98684507e-01],\n",
       "       [  1.34562097e-05,   9.99986544e-01],\n",
       "       [  3.14099372e-03,   9.96859006e-01],\n",
       "       [  7.75390831e-05,   9.99922461e-01],\n",
       "       [  2.35684603e-02,   9.76431540e-01],\n",
       "       [  9.74696315e-01,   2.53036846e-02],\n",
       "       [  1.26220315e-04,   9.99873780e-01],\n",
       "       [  9.92292118e-01,   7.70788204e-03],\n",
       "       [  9.94645605e-01,   5.35439484e-03],\n",
       "       [  2.98243298e-01,   7.01756702e-01],\n",
       "       [  9.93003681e-01,   6.99631877e-03],\n",
       "       [  9.95539286e-01,   4.46071356e-03],\n",
       "       [  1.17409063e-04,   9.99882591e-01],\n",
       "       [  4.09159020e-02,   9.59084098e-01],\n",
       "       [  9.82581170e-01,   1.74188303e-02],\n",
       "       [  9.95412329e-01,   4.58767138e-03],\n",
       "       [  9.96015148e-01,   3.98485201e-03],\n",
       "       [  2.04047559e-02,   9.79595244e-01],\n",
       "       [  9.91557685e-01,   8.44231494e-03],\n",
       "       [  9.97852638e-01,   2.14736246e-03],\n",
       "       [  9.82531096e-01,   1.74689037e-02],\n",
       "       [  9.82581170e-01,   1.74188303e-02],\n",
       "       [  9.91557685e-01,   8.44231494e-03],\n",
       "       [  1.14085254e-06,   9.99998859e-01],\n",
       "       [  4.60004945e-05,   9.99954000e-01],\n",
       "       [  9.87863485e-01,   1.21365148e-02],\n",
       "       [  9.94645605e-01,   5.35439484e-03],\n",
       "       [  9.96904392e-01,   3.09560792e-03],\n",
       "       [  9.32936464e-04,   9.99067064e-01],\n",
       "       [  9.96244435e-01,   3.75556462e-03],\n",
       "       [  9.92963113e-01,   7.03688717e-03],\n",
       "       [  9.92292118e-01,   7.70788204e-03],\n",
       "       [  9.59734278e-01,   4.02657220e-02],\n",
       "       [  1.29411662e-03,   9.98705883e-01],\n",
       "       [  9.92292118e-01,   7.70788204e-03],\n",
       "       [  9.95821772e-01,   4.17822845e-03],\n",
       "       [  5.50976055e-01,   4.49023945e-01],\n",
       "       [  9.96904392e-01,   3.09560792e-03],\n",
       "       [  9.88979343e-01,   1.10206571e-02],\n",
       "       [  9.98079593e-01,   1.92040727e-03],\n",
       "       [  2.52506940e-01,   7.47493060e-01],\n",
       "       [  1.46942091e-03,   9.98530579e-01],\n",
       "       [  9.72726380e-01,   2.72736199e-02],\n",
       "       [  9.87863485e-01,   1.21365148e-02],\n",
       "       [  9.94894205e-01,   5.10579515e-03],\n",
       "       [  1.24976245e-01,   8.75023755e-01],\n",
       "       [  9.95627999e-01,   4.37200147e-03],\n",
       "       [  9.96607930e-01,   3.39207015e-03],\n",
       "       [  9.57537139e-01,   4.24628613e-02],\n",
       "       [  9.25102830e-03,   9.90748972e-01],\n",
       "       [  9.94076120e-01,   5.92387976e-03],\n",
       "       [  1.16975848e-02,   9.88302415e-01],\n",
       "       [  9.72064647e-01,   2.79353527e-02],\n",
       "       [  2.17090066e-02,   9.78290993e-01],\n",
       "       [  1.97787089e-03,   9.98022129e-01],\n",
       "       [  9.95539286e-01,   4.46071356e-03],\n",
       "       [  9.80385485e-01,   1.96145151e-02],\n",
       "       [  9.93463041e-01,   6.53695904e-03],\n",
       "       [  9.92292118e-01,   7.70788204e-03],\n",
       "       [  3.19359369e-02,   9.68064063e-01],\n",
       "       [  2.00292683e-02,   9.79970732e-01],\n",
       "       [  9.94645605e-01,   5.35439484e-03],\n",
       "       [  9.80939219e-01,   1.90607811e-02],\n",
       "       [  9.87863485e-01,   1.21365148e-02],\n",
       "       [  1.77782195e-03,   9.98222178e-01],\n",
       "       [  9.96904392e-01,   3.09560792e-03],\n",
       "       [  9.88915700e-01,   1.10843003e-02],\n",
       "       [  2.11377489e-03,   9.97886225e-01],\n",
       "       [  9.80939219e-01,   1.90607811e-02],\n",
       "       [  9.88915700e-01,   1.10843003e-02],\n",
       "       [  9.97231289e-01,   2.76871055e-03],\n",
       "       [  9.96607930e-01,   3.39207015e-03],\n",
       "       [  9.90358982e-01,   9.64101836e-03],\n",
       "       [  2.30158530e-02,   9.76984147e-01],\n",
       "       [  9.85029901e-01,   1.49700989e-02],\n",
       "       [  9.96904392e-01,   3.09560792e-03],\n",
       "       [  9.80013500e-01,   1.99864998e-02],\n",
       "       [  9.76965933e-01,   2.30340673e-02],\n",
       "       [  9.40856683e-01,   5.91433169e-02],\n",
       "       [  9.91557685e-01,   8.44231494e-03],\n",
       "       [  1.91162325e-02,   9.80883767e-01],\n",
       "       [  9.95112731e-01,   4.88726920e-03],\n",
       "       [  9.70011284e-01,   2.99887162e-02],\n",
       "       [  3.23656918e-01,   6.76343082e-01],\n",
       "       [  4.42327728e-01,   5.57672272e-01],\n",
       "       [  9.77452714e-01,   2.25472858e-02],\n",
       "       [  6.82685405e-04,   9.99317315e-01],\n",
       "       [  9.95539286e-01,   4.46071356e-03],\n",
       "       [  9.90567250e-01,   9.43274972e-03],\n",
       "       [  9.78942807e-01,   2.10571933e-02],\n",
       "       [  5.12848399e-02,   9.48715160e-01],\n",
       "       [  9.93770341e-01,   6.22965948e-03],\n",
       "       [  9.80939219e-01,   1.90607811e-02],\n",
       "       [  1.76594022e-03,   9.98234060e-01],\n",
       "       [  9.25235976e-04,   9.99074764e-01],\n",
       "       [  9.88915700e-01,   1.10843003e-02],\n",
       "       [  3.39095410e-02,   9.66090459e-01],\n",
       "       [  7.68153191e-02,   9.23184681e-01],\n",
       "       [  9.86712728e-01,   1.32872723e-02],\n",
       "       [  9.80939219e-01,   1.90607811e-02],\n",
       "       [  9.95539286e-01,   4.46071356e-03],\n",
       "       [  9.95539286e-01,   4.46071356e-03],\n",
       "       [  1.16912107e-01,   8.83087893e-01],\n",
       "       [  9.95539286e-01,   4.46071356e-03],\n",
       "       [  1.70331029e-03,   9.98296690e-01],\n",
       "       [  9.96009762e-01,   3.99023751e-03],\n",
       "       [  4.39105796e-02,   9.56089420e-01],\n",
       "       [  9.83122838e-01,   1.68771622e-02],\n",
       "       [  9.65134667e-01,   3.48653330e-02],\n",
       "       [  9.76965933e-01,   2.30340673e-02],\n",
       "       [  9.64800416e-01,   3.51995842e-02],\n",
       "       [  9.89149264e-01,   1.08507363e-02],\n",
       "       [  4.58603243e-06,   9.99995414e-01],\n",
       "       [  2.13578309e-02,   9.78642169e-01],\n",
       "       [  9.96966038e-01,   3.03396153e-03],\n",
       "       [  7.80404546e-03,   9.92195955e-01],\n",
       "       [  1.39287470e-02,   9.86071253e-01],\n",
       "       [  9.92862101e-01,   7.13789901e-03],\n",
       "       [  1.75992055e-03,   9.98240079e-01],\n",
       "       [  9.88915700e-01,   1.10843003e-02],\n",
       "       [  9.27077607e-01,   7.29223929e-02],\n",
       "       [  9.96327225e-01,   3.67277526e-03],\n",
       "       [  9.97231289e-01,   2.76871055e-03],\n",
       "       [  9.66113699e-05,   9.99903389e-01],\n",
       "       [  3.61140366e-03,   9.96388596e-01],\n",
       "       [  8.12340470e-06,   9.99991877e-01],\n",
       "       [  9.96607930e-01,   3.39207015e-03],\n",
       "       [  8.13545481e-03,   9.91864545e-01],\n",
       "       [  9.03115925e-01,   9.68840751e-02],\n",
       "       [  9.95449106e-01,   4.55089410e-03],\n",
       "       [  4.39680542e-04,   9.99560319e-01],\n",
       "       [  9.87863485e-01,   1.21365148e-02],\n",
       "       [  3.53455750e-04,   9.99646544e-01],\n",
       "       [  2.19454279e-02,   9.78054572e-01]])"
      ]
     },
     "execution_count": 12,
     "metadata": {},
     "output_type": "execute_result"
    }
   ],
   "source": [
    "lr.predict_proba(x_test)"
   ]
  },
  {
   "cell_type": "code",
   "execution_count": 43,
   "metadata": {},
   "outputs": [
    {
     "data": {
      "text/plain": [
       "0.99929577464788732"
      ]
     },
     "execution_count": 43,
     "metadata": {},
     "output_type": "execute_result"
    }
   ],
   "source": [
    "fpr, tpr, threhold = roc_curve(y_true=y_test, y_score=lr.predict_proba(x_test)[:,0], pos_label=2)\n",
    "auc(fpr,tpr)"
   ]
  },
  {
   "cell_type": "code",
   "execution_count": 50,
   "metadata": {},
   "outputs": [
    {
     "data": {
      "text/plain": [
       "[<matplotlib.lines.Line2D at 0x16c86cd3dd8>]"
      ]
     },
     "execution_count": 50,
     "metadata": {},
     "output_type": "execute_result"
    },
    {
     "data": {
      "image/png": "[encoded data removed]",
      "text/plain": [
       "<matplotlib.figure.Figure at 0x16c86a2e4a8>"
      ]
     },
     "metadata": {},
     "output_type": "display_data"
    }
   ],
   "source": [
    "import matplotlib.pyplot as plt\n",
    "%matplotlib inline\n",
    "plt.plot(fpr,tpr,\"red\")"
   ]
  },
  {
   "cell_type": "code",
   "execution_count": 1,
   "metadata": {},
   "outputs": [
    {
     "data": {
      "image/png": "[encoded data removed]",
      "text/plain": [
       "<matplotlib.figure.Figure at 0x1c03fd505c0>"
      ]
     },
     "metadata": {},
     "output_type": "display_data"
    }
   ],
   "source": [
    "import matplotlib.pyplot as plt\n",
    "%matplotlib inline\n",
    "from sklearn.datasets.samples_generator import make_blobs\n",
    "X, y = make_blobs(n_samples=300, centers=4,\n",
    "                  random_state=0, cluster_std=0.60)\n",
    "plt.scatter(X[:, 0], X[:, 1], s=50);"
   ]
  },
  {
   "cell_type": "code",
   "execution_count": 4,
   "metadata": {
    "collapsed": true
   },
   "outputs": [],
   "source": [
    "import pandas as pd"
   ]
  },
  {
   "cell_type": "code",
   "execution_count": 11,
   "metadata": {
    "collapsed": true
   },
   "outputs": [],
   "source": [
    "from xgboost.sklearn import XGBClassifier"
   ]
  },
  {
   "cell_type": "code",
   "execution_count": 13,
   "metadata": {
    "collapsed": true
   },
   "outputs": [],
   "source": [
    "xgb = XGBClassifier()"
   ]
  },
  {
   "cell_type": "code",
   "execution_count": 14,
   "metadata": {},
   "outputs": [
    {
     "data": {
      "text/plain": [
       "XGBClassifier(base_score=0.5, colsample_bylevel=1, colsample_bytree=1,\n",
       "       gamma=0, learning_rate=0.1, max_delta_step=0, max_depth=3,\n",
       "       min_child_weight=1, missing=None, n_estimators=100, nthread=-1,\n",
       "       objective='binary:logistic', reg_alpha=0, reg_lambda=1,\n",
       "       scale_pos_weight=1, seed=0, silent=True, subsample=1)"
      ]
     },
     "execution_count": 14,
     "metadata": {},
     "output_type": "execute_result"
    }
   ],
   "source": [
    "xgb.fit(x_train, y_train)"
   ]
  },
  {
   "cell_type": "code",
   "execution_count": 15,
   "metadata": {},
   "outputs": [
    {
     "data": {
      "text/plain": [
       "array([[  7.22312927e-01,   2.77687103e-01],\n",
       "       [  9.99290109e-01,   7.09909480e-04],\n",
       "       [  9.93978977e-03,   9.90060210e-01],\n",
       "       [  1.64968967e-02,   9.83503103e-01],\n",
       "       [  9.91392076e-01,   8.60790629e-03],\n",
       "       [  9.99290109e-01,   7.09909480e-04],\n",
       "       [  9.97631431e-01,   2.36855191e-03],\n",
       "       [  1.57485902e-01,   8.42514098e-01],\n",
       "       [  9.98767972e-01,   1.23204233e-03],\n",
       "       [  9.95429039e-01,   4.57095820e-03],\n",
       "       [  9.98767972e-01,   1.23204233e-03],\n",
       "       [  9.98654485e-01,   1.34553609e-03],\n",
       "       [  2.48602331e-01,   7.51397669e-01],\n",
       "       [  9.99290109e-01,   7.09909480e-04],\n",
       "       [  1.96355581e-03,   9.98036444e-01],\n",
       "       [  5.13225794e-02,   9.48677421e-01],\n",
       "       [  5.18977642e-03,   9.94810224e-01],\n",
       "       [  1.14839256e-01,   8.85160744e-01],\n",
       "       [  7.87985325e-03,   9.92120147e-01],\n",
       "       [  4.35044587e-01,   5.64955413e-01],\n",
       "       [  9.98953104e-01,   1.04691216e-03],\n",
       "       [  8.58891010e-03,   9.91411090e-01],\n",
       "       [  3.09389830e-03,   9.96906102e-01],\n",
       "       [  9.99290109e-01,   7.09909480e-04],\n",
       "       [  1.45964622e-01,   8.54035378e-01],\n",
       "       [  1.24931335e-03,   9.98750687e-01],\n",
       "       [  9.98634577e-01,   1.36543170e-03],\n",
       "       [  9.99290109e-01,   7.09909480e-04],\n",
       "       [  1.05956793e-02,   9.89404321e-01],\n",
       "       [  2.57545710e-02,   9.74245429e-01],\n",
       "       [  8.15880299e-03,   9.91841197e-01],\n",
       "       [  2.37482786e-03,   9.97625172e-01],\n",
       "       [  3.89993191e-03,   9.96100068e-01],\n",
       "       [  8.49640369e-03,   9.91503596e-01],\n",
       "       [  9.88726616e-02,   9.01127338e-01],\n",
       "       [  6.90615177e-03,   9.93093848e-01],\n",
       "       [  9.93578911e-01,   6.42111106e-03],\n",
       "       [  1.12790465e-02,   9.88720953e-01],\n",
       "       [  1.67506933e-03,   9.98324931e-01],\n",
       "       [  6.91947937e-02,   9.30805206e-01],\n",
       "       [  2.77251005e-03,   9.97227490e-01],\n",
       "       [  3.81389260e-02,   9.61861074e-01],\n",
       "       [  9.96963680e-01,   3.03632207e-03],\n",
       "       [  3.14331055e-03,   9.96856689e-01],\n",
       "       [  9.99290109e-01,   7.09909480e-04],\n",
       "       [  9.99290109e-01,   7.09909480e-04],\n",
       "       [  3.95107210e-01,   6.04892790e-01],\n",
       "       [  9.98634577e-01,   1.36543170e-03],\n",
       "       [  9.99290109e-01,   7.09909480e-04],\n",
       "       [  1.68132782e-03,   9.98318672e-01],\n",
       "       [  2.02722549e-02,   9.79727745e-01],\n",
       "       [  9.98767972e-01,   1.23204233e-03],\n",
       "       [  9.98954177e-01,   1.04579329e-03],\n",
       "       [  9.99290109e-01,   7.09909480e-04],\n",
       "       [  1.99965835e-02,   9.80003417e-01],\n",
       "       [  9.98767972e-01,   1.23204233e-03],\n",
       "       [  9.99290109e-01,   7.09909480e-04],\n",
       "       [  9.92541552e-01,   7.45847588e-03],\n",
       "       [  9.98767972e-01,   1.23204233e-03],\n",
       "       [  9.98767972e-01,   1.23204233e-03],\n",
       "       [  1.53326988e-03,   9.98466730e-01],\n",
       "       [  2.09343433e-03,   9.97906566e-01],\n",
       "       [  9.98767972e-01,   1.23204233e-03],\n",
       "       [  9.99290109e-01,   7.09909480e-04],\n",
       "       [  9.99290109e-01,   7.09909480e-04],\n",
       "       [  3.31705809e-03,   9.96682942e-01],\n",
       "       [  9.98385489e-01,   1.61452487e-03],\n",
       "       [  9.99290109e-01,   7.09909480e-04],\n",
       "       [  9.99290109e-01,   7.09909480e-04],\n",
       "       [  9.96345997e-01,   3.65400873e-03],\n",
       "       [  4.96071577e-03,   9.95039284e-01],\n",
       "       [  9.99290109e-01,   7.09909480e-04],\n",
       "       [  9.98576999e-01,   1.42300525e-03],\n",
       "       [  6.59207463e-01,   3.40792507e-01],\n",
       "       [  9.99290109e-01,   7.09909480e-04],\n",
       "       [  9.97631431e-01,   2.36855191e-03],\n",
       "       [  9.99290109e-01,   7.09909480e-04],\n",
       "       [  8.43464732e-02,   9.15653527e-01],\n",
       "       [  1.83683634e-03,   9.98163164e-01],\n",
       "       [  9.98767972e-01,   1.23204233e-03],\n",
       "       [  9.98767972e-01,   1.23204233e-03],\n",
       "       [  9.89044666e-01,   1.09553132e-02],\n",
       "       [  4.33847308e-02,   9.56615269e-01],\n",
       "       [  9.99290109e-01,   7.09909480e-04],\n",
       "       [  9.99290109e-01,   7.09909480e-04],\n",
       "       [  9.96916234e-01,   3.08374641e-03],\n",
       "       [  5.38617373e-03,   9.94613826e-01],\n",
       "       [  9.99290109e-01,   7.09909480e-04],\n",
       "       [  7.13360310e-03,   9.92866397e-01],\n",
       "       [  9.96963680e-01,   3.03632207e-03],\n",
       "       [  1.87007785e-02,   9.81299222e-01],\n",
       "       [  3.16900015e-03,   9.96831000e-01],\n",
       "       [  9.99290109e-01,   7.09909480e-04],\n",
       "       [  9.95957553e-01,   4.04245593e-03],\n",
       "       [  9.85115707e-01,   1.48842754e-02],\n",
       "       [  9.99290109e-01,   7.09909480e-04],\n",
       "       [  1.39770508e-02,   9.86022949e-01],\n",
       "       [  7.14402199e-02,   9.28559780e-01],\n",
       "       [  9.99290109e-01,   7.09909480e-04],\n",
       "       [  9.98767972e-01,   1.23204233e-03],\n",
       "       [  9.98767972e-01,   1.23204233e-03],\n",
       "       [  8.89611244e-03,   9.91103888e-01],\n",
       "       [  9.99290109e-01,   7.09909480e-04],\n",
       "       [  9.99290109e-01,   7.09909480e-04],\n",
       "       [  1.33233070e-02,   9.86676693e-01],\n",
       "       [  9.98767972e-01,   1.23204233e-03],\n",
       "       [  9.99290109e-01,   7.09909480e-04],\n",
       "       [  9.99290109e-01,   7.09909480e-04],\n",
       "       [  9.99290109e-01,   7.09909480e-04],\n",
       "       [  9.97688711e-01,   2.31126370e-03],\n",
       "       [  5.65481186e-02,   9.43451881e-01],\n",
       "       [  9.84036803e-01,   1.59631893e-02],\n",
       "       [  9.99290109e-01,   7.09909480e-04],\n",
       "       [  9.98443305e-01,   1.55667029e-03],\n",
       "       [  9.98767972e-01,   1.23204233e-03],\n",
       "       [  9.95516837e-01,   4.48319130e-03],\n",
       "       [  9.98767972e-01,   1.23204233e-03],\n",
       "       [  6.13975525e-03,   9.93860245e-01],\n",
       "       [  9.99290109e-01,   7.09909480e-04],\n",
       "       [  9.96345997e-01,   3.65400873e-03],\n",
       "       [  1.33097947e-01,   8.66902053e-01],\n",
       "       [  3.90622616e-02,   9.60937738e-01],\n",
       "       [  9.95429039e-01,   4.57095820e-03],\n",
       "       [  1.02555752e-03,   9.98974442e-01],\n",
       "       [  9.99290109e-01,   7.09909480e-04],\n",
       "       [  9.98767972e-01,   1.23204233e-03],\n",
       "       [  9.98767972e-01,   1.23204233e-03],\n",
       "       [  9.02640224e-02,   9.09735978e-01],\n",
       "       [  9.94992554e-01,   5.00741834e-03],\n",
       "       [  9.98767972e-01,   1.23204233e-03],\n",
       "       [  1.05162263e-02,   9.89483774e-01],\n",
       "       [  2.70253420e-03,   9.97297466e-01],\n",
       "       [  9.99290109e-01,   7.09909480e-04],\n",
       "       [  3.37550640e-02,   9.66244936e-01],\n",
       "       [  8.25937390e-02,   9.17406261e-01],\n",
       "       [  9.98767972e-01,   1.23204233e-03],\n",
       "       [  9.98767972e-01,   1.23204233e-03],\n",
       "       [  9.99290109e-01,   7.09909480e-04],\n",
       "       [  9.99290109e-01,   7.09909480e-04],\n",
       "       [  2.05699205e-02,   9.79430079e-01],\n",
       "       [  9.99290109e-01,   7.09909480e-04],\n",
       "       [  3.41212749e-03,   9.96587873e-01],\n",
       "       [  9.99290109e-01,   7.09909480e-04],\n",
       "       [  1.43890381e-02,   9.85610962e-01],\n",
       "       [  9.97362435e-01,   2.63754907e-03],\n",
       "       [  9.98767972e-01,   1.23204233e-03],\n",
       "       [  9.98767972e-01,   1.23204233e-03],\n",
       "       [  9.91231024e-01,   8.76895245e-03],\n",
       "       [  9.98767972e-01,   1.23204233e-03],\n",
       "       [  2.80636549e-03,   9.97193635e-01],\n",
       "       [  1.27803087e-02,   9.87219691e-01],\n",
       "       [  9.99290109e-01,   7.09909480e-04],\n",
       "       [  4.36806679e-03,   9.95631933e-01],\n",
       "       [  1.44589543e-02,   9.85541046e-01],\n",
       "       [  9.98634577e-01,   1.36543170e-03],\n",
       "       [  5.96368313e-03,   9.94036317e-01],\n",
       "       [  9.99290109e-01,   7.09909480e-04],\n",
       "       [  8.74744892e-01,   1.25255138e-01],\n",
       "       [  9.97362435e-01,   2.63754907e-03],\n",
       "       [  9.99290109e-01,   7.09909480e-04],\n",
       "       [  1.04236603e-02,   9.89576340e-01],\n",
       "       [  6.25480413e-02,   9.37451959e-01],\n",
       "       [  1.77842379e-03,   9.98221576e-01],\n",
       "       [  9.99290109e-01,   7.09909480e-04],\n",
       "       [  2.65949368e-02,   9.73405063e-01],\n",
       "       [  9.71818864e-01,   2.81811357e-02],\n",
       "       [  9.96027350e-01,   3.97266587e-03],\n",
       "       [  3.74919176e-03,   9.96250808e-01],\n",
       "       [  9.98767972e-01,   1.23204233e-03],\n",
       "       [  2.63851881e-03,   9.97361481e-01],\n",
       "       [  1.00771785e-02,   9.89922822e-01]], dtype=float32)"
      ]
     },
     "execution_count": 15,
     "metadata": {},
     "output_type": "execute_result"
    }
   ],
   "source": [
    "xgb.predict_proba(x_test)"
   ]
  }
 ],
 "metadata": {
  "kernelspec": {
   "display_name": "Python 3",
   "language": "python",
   "name": "python3"
  },
  "language_info": {
   "codemirror_mode": {
    "name": "ipython",
    "version": 3
   },
   "file_extension": ".py",
   "mimetype": "text/x-python",
   "name": "python",
   "nbconvert_exporter": "python",
   "pygments_lexer": "ipython3",
   "version": "3.6.1"
  }
 },
 "nbformat": 4,
 "nbformat_minor": 2
}
