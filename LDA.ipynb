{
 "cells": [
  {
   "cell_type": "code",
   "execution_count": 36,
   "metadata": {},
   "outputs": [],
   "source": [
    "# -*- coding: utf-8 -*-\n",
    "import jieba\n",
    "path = \"F:/for learn/Python/LDA/\"\n",
    "texts = [\"01.txt\", \"02.txt\", \"03.txt\"]"
   ]
  },
  {
   "cell_type": "code",
   "execution_count": 37,
   "metadata": {},
   "outputs": [],
   "source": [
    "suggest_words = [\"沙瑞金\", \"易学习\", \"李达康\", \"王大路\", \"毛娅\", \"欧阳菁\", \"京州\", \"孙盛\", \"李福\", \"彭模\", \"桓温\"]\n",
    "for word in suggest_words:\n",
    "    jieba.suggest_freq(word, tune=True)"
   ]
  },
  {
   "cell_type": "code",
   "execution_count": 53,
   "metadata": {},
   "outputs": [
    {
     "name": "stdout",
     "output_type": "stream",
     "text": [
      "1892\n"
     ]
    }
   ],
   "source": [
    "# 加载停用词表\n",
    "with open(path + \"stopwords.txt\", encoding=\"UTF-8\") as f:\n",
    "    stop_words = f.read().replace(\"\\n\", \" \").split()\n",
    "    print(len(stop_words))"
   ]
  },
  {
   "cell_type": "code",
   "execution_count": 25,
   "metadata": {},
   "outputs": [],
   "source": [
    "def split_words(text_path):\n",
    "    with open(text_path, encoding=\"UTF-8\") as f:\n",
    "        document = f.read()\n",
    "    cut_doc = jieba.cut(document)\n",
    "    result = ' '.join(cut_doc)\n",
    "    return result"
   ]
  },
  {
   "cell_type": "code",
   "execution_count": 38,
   "metadata": {},
   "outputs": [],
   "source": [
    "res1, res2, res3 = [split_words(path + text) for text in texts]"
   ]
  },
  {
   "cell_type": "code",
   "execution_count": 41,
   "metadata": {},
   "outputs": [],
   "source": [
    "corpus = [res1, res2, res3]"
   ]
  },
  {
   "cell_type": "code",
   "execution_count": 43,
   "metadata": {},
   "outputs": [],
   "source": [
    "from sklearn.feature_extraction.text import CountVectorizer\n",
    "from sklearn.decomposition import LatentDirichletAllocation"
   ]
  },
  {
   "cell_type": "code",
   "execution_count": 54,
   "metadata": {},
   "outputs": [
    {
     "name": "stderr",
     "output_type": "stream",
     "text": [
      "C:\\ProgramData\\Anaconda3\\lib\\site-packages\\sklearn\\feature_extraction\\text.py:286: UserWarning: Your stop_words may be inconsistent with your preprocessing. Tokenizing the stop words generated tokens ['lex', '①①', '①②', '①③', '①④', '①⑤', '①⑥', '①⑦', '①⑧', '①⑨', '①ａ', '①ｂ', '①ｃ', '①ｄ', '①ｅ', '①ｆ', '①ｇ', '①ｈ', '①ｉ', '①ｏ', '②①', '②②', '②③', '②④', '②⑤', '②⑥', '②⑦', '②⑧', '②⑩', '②ａ', '②ｂ', '②ｄ', '②ｅ', '②ｆ', '②ｇ', '②ｈ', '②ｉ', '②ｊ', '③①', '③⑩', '③ａ', '③ｂ', '③ｃ', '③ｄ', '③ｅ', '③ｆ', '③ｇ', '③ｈ', '④ａ', '④ｂ', '④ｃ', '④ｄ', '④ｅ', '⑤ａ', '⑤ｂ', '⑤ｄ', '⑤ｅ', '⑤ｆ', '１２', 'ｌｉ', 'ｚｘｆｉｔｌ'] not in stop_words.\n",
      "  sorted(inconsistent))\n"
     ]
    }
   ],
   "source": [
    "cv = CountVectorizer(stop_words=stop_words)\n",
    "cntTf = cv.fit_transform(corpus)  # shape 3 * 79 sparse"
   ]
  },
  {
   "cell_type": "code",
   "execution_count": 67,
   "metadata": {},
   "outputs": [
    {
     "data": {
      "text/plain": [
       "array([[0.98884971, 0.01115029],\n",
       "       [0.9831501 , 0.0168499 ],\n",
       "       [0.01548236, 0.98451764]])"
      ]
     },
     "execution_count": 67,
     "metadata": {},
     "output_type": "execute_result"
    }
   ],
   "source": [
    "lda = LatentDirichletAllocation(n_topics=2, learning_method=\"batch\", random_state=0)\n",
    "# 各文档的主题分布 shape: n_doc * n_topic\n",
    "doc_res = lda.fit_transform(cntTf)\n",
    "doc_res"
   ]
  },
  {
   "cell_type": "code",
   "execution_count": 70,
   "metadata": {
    "scrolled": true
   },
   "outputs": [
    {
     "data": {
      "text/plain": [
       "array([[0.5003876 , 2.49922748, 2.49922748, 1.49885324, 0.5003876 ,\n",
       "        0.5003876 , 2.49922748, 1.49885324, 0.5003876 , 1.49924777,\n",
       "        1.49885324, 2.49882221, 0.5003876 , 1.49924777, 1.49885324,\n",
       "        0.5003876 , 0.5003876 , 1.49924777, 2.49882221, 1.49924777,\n",
       "        1.49924777, 1.49924777, 0.5003876 , 0.5003876 , 1.49885324,\n",
       "        0.5003876 , 1.49924777, 0.5003876 , 1.49924777, 1.49924777,\n",
       "        1.49885324, 1.49885324, 0.50039803, 1.49885324, 2.49922748,\n",
       "        0.5003876 , 1.49885324, 0.5003876 , 0.50039803, 1.49924777,\n",
       "        0.5003876 , 0.50039803, 0.5003876 , 2.49882221, 1.49885324,\n",
       "        1.49924777, 5.49913936, 1.49924777, 0.5003876 , 3.49908758,\n",
       "        0.50039803, 2.49882221, 0.5003876 , 3.49881571, 0.5003876 ,\n",
       "        3.49908758, 1.49924777, 1.49885324, 8.49906696, 0.5003876 ,\n",
       "        1.49924777, 0.5003876 , 1.49924777, 0.5003876 , 1.49885324,\n",
       "        1.49924777, 0.5003876 , 1.49924777, 1.49924777, 1.49924777,\n",
       "        1.49924777, 1.49885324, 0.5003876 , 1.49924777, 0.5003876 ,\n",
       "        1.49924777, 1.49924777, 1.49924777, 1.49924777],\n",
       "       [1.4996124 , 0.50077252, 0.50077252, 0.50114676, 1.4996124 ,\n",
       "        1.4996124 , 0.50077252, 0.50114676, 1.4996124 , 0.50075223,\n",
       "        0.50114676, 0.50117779, 1.4996124 , 0.50075223, 0.50114676,\n",
       "        1.4996124 , 1.4996124 , 0.50075223, 0.50117779, 0.50075223,\n",
       "        0.50075223, 0.50075223, 1.4996124 , 1.4996124 , 0.50114676,\n",
       "        1.4996124 , 0.50075223, 1.4996124 , 0.50075223, 0.50075223,\n",
       "        0.50114676, 0.50114676, 2.49960197, 0.50114676, 0.50077252,\n",
       "        1.4996124 , 0.50114676, 1.4996124 , 2.49960197, 0.50075223,\n",
       "        1.4996124 , 2.49960197, 1.4996124 , 0.50117779, 0.50114676,\n",
       "        0.50075223, 0.50086064, 0.50075223, 1.4996124 , 0.50091242,\n",
       "        2.49960197, 0.50117779, 1.4996124 , 0.50118429, 1.4996124 ,\n",
       "        0.50091242, 0.50075223, 0.50114676, 0.50093304, 1.4996124 ,\n",
       "        0.50075223, 1.4996124 , 0.50075223, 1.4996124 , 0.50114676,\n",
       "        0.50075223, 1.4996124 , 0.50075223, 0.50075223, 0.50075223,\n",
       "        0.50075223, 0.50114676, 1.4996124 , 0.50075223, 1.4996124 ,\n",
       "        0.50075223, 0.50075223, 0.50075223, 0.50075223]])"
      ]
     },
     "execution_count": 70,
     "metadata": {},
     "output_type": "execute_result"
    }
   ],
   "source": [
    "# 各主题的词分布 shape: n_topic * n_words\n",
    "lda.components_"
   ]
  }
 ],
 "metadata": {
  "kernelspec": {
   "display_name": "Python 3",
   "language": "python",
   "name": "python3"
  },
  "language_info": {
   "codemirror_mode": {
    "name": "ipython",
    "version": 3
   },
   "file_extension": ".py",
   "mimetype": "text/x-python",
   "name": "python",
   "nbconvert_exporter": "python",
   "pygments_lexer": "ipython3",
   "version": "3.6.5"
  }
 },
 "nbformat": 4,
 "nbformat_minor": 2
}
