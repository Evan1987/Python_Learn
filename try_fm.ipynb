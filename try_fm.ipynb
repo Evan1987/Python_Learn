{
 "cells": [
  {
   "cell_type": "code",
   "execution_count": 116,
   "metadata": {},
   "outputs": [],
   "source": [
    "import numpy as np\n",
    "import math\n",
    "from sklearn.preprocessing import StandardScaler\n",
    "from sklearn.linear_model import LogisticRegression, SGDClassifier\n",
    "from sklearn.metrics import roc_curve, accuracy_score, auc\n",
    "np.set_printoptions(suppress=True)"
   ]
  },
  {
   "cell_type": "code",
   "execution_count": 27,
   "metadata": {},
   "outputs": [],
   "source": [
    "path = \"F:/for learn/Python/fm_python-master/\""
   ]
  },
  {
   "cell_type": "code",
   "execution_count": 28,
   "metadata": {},
   "outputs": [],
   "source": [
    "train_data = pd.read_table(path + \"diabetes_train.txt\", header=None, delimiter=\",\").values\n",
    "test_data = pd.read_table(path + \"diabetes_test.txt\", header=None, delimiter=\",\").values"
   ]
  },
  {
   "cell_type": "code",
   "execution_count": 29,
   "metadata": {},
   "outputs": [],
   "source": [
    "feature_num = 8\n",
    "X_train = train_data[:, :feature_num]\n",
    "y_train = train_data[:, feature_num]\n",
    "X_test = test_data[:, :feature_num]\n",
    "y_test = test_data[:, feature_num]"
   ]
  },
  {
   "cell_type": "code",
   "execution_count": 51,
   "metadata": {},
   "outputs": [],
   "source": [
    "ss = StandardScaler(with_mean=True, with_std=True)\n",
    "X_train_ss = ss.fit_transform(X_train)\n",
    "X_test_ss = ss.transform(X_test)"
   ]
  },
  {
   "cell_type": "code",
   "execution_count": 151,
   "metadata": {},
   "outputs": [],
   "source": [
    "# Plain SGD Logistic Regression\n",
    "class logistic_regression():\n",
    "    def __init__(self, max_iter=100, alpha=0.01):\n",
    "        self.max_iter = max_iter\n",
    "        self.alpha = alpha\n",
    "        \n",
    "    def sigmoid(self, x):\n",
    "        sign = 1 if x > 0 else -1\n",
    "        x = sign * 50 if abs(x) > 50 else x\n",
    "        return np.asscalar(1 / (1 + np.exp(-x)))    \n",
    "    \n",
    "        \n",
    "    def fit(self, dat, labels):\n",
    "        dat = np.mat(np.c_[np.ones((dat.shape[0], 1)), dat])\n",
    "        m, n = dat.shape  # m * n\n",
    "        # 参数初始化\n",
    "        W = np.mat(np.ones((n, 1)))  # n * 1\n",
    "\n",
    "        i = 0\n",
    "        while i < self.max_iter:\n",
    "            dataIndex = np.arange(m).tolist()\n",
    "            for j in range(m):\n",
    "                randIndex = math.floor(np.random.randint(0, len(dataIndex)))\n",
    "                x = dat[randIndex, :]  # 1 * n\n",
    "                y = labels[randIndex]\n",
    "                yHat = self.sigmoid(x * W)\n",
    "                err = yHat - y\n",
    "                #print(\"iter %d, sample %d, err: %.4f\" % (i, randIndex, err))\n",
    "                W -= self.alpha * err * x.T\n",
    "\n",
    "                del dataIndex[randIndex]\n",
    "            i += 1\n",
    "\n",
    "        self.w0 = W[0, 0]\n",
    "        self.W = W[1::]\n",
    "        return self  \n",
    "    \n",
    "    def predict_proba(self, dat):\n",
    "        n = self.W.shape[0]\n",
    "        dat = np.mat(dat).reshape(-1, n)\n",
    "        Z = dat * self.W + self.w0\n",
    "        pos_proba = np.array([self.sigmoid(z) for z in Z]).reshape(-1, 1)\n",
    "        neg_proba = 1 - pos_proba\n",
    "        y_pred_proba = np.c_[neg_proba, pos_proba]\n",
    "        return y_pred_proba\n",
    "    \n",
    "    def predict(self, dat):\n",
    "        y_pred_proba = self.predict_proba(dat)\n",
    "        y_pred = y_pred_proba[:, 1] >= y_pred_proba[:, 0]\n",
    "        return y_pred.astype(int)"
   ]
  },
  {
   "cell_type": "code",
   "execution_count": 194,
   "metadata": {},
   "outputs": [],
   "source": [
    "# User Defined FM with lr\n",
    "class FMRegression():\n",
    "    def __init__(self, max_iter=100, alpha=0.01, k=5):\n",
    "        self.max_iter = max_iter\n",
    "        self.alpha = alpha\n",
    "        self.k = k\n",
    "    \n",
    "    def sigmoid(self, x):\n",
    "        sign = 1 if x>0 else -1\n",
    "        x = sign*50 if abs(x)>50 else x\n",
    "        return np.asscalar(1 / (1 + np.exp(-x))) \n",
    "    \n",
    "    def fit(self, dat, labels):\n",
    "        dat = np.mat(dat) # m * n\n",
    "        m, n = dat.shape\n",
    "        # 参数初始化\n",
    "        self.W = np.mat(np.ones((n, 1)))  # n * 1\n",
    "        self.V = np.mat(np.random.normal(loc=0.0, scale=0.5, size=(n, self.k)))  # n * k\n",
    "        self.w0 = 1.0\n",
    "\n",
    "        i = 0\n",
    "        while i < self.max_iter:\n",
    "            dataIndex = np.arange(m).tolist()\n",
    "            for j in range(m):\n",
    "                randIndex = math.floor(np.random.randint(0, len(dataIndex)))\n",
    "                x = dat[randIndex, :]  # 1 * n\n",
    "                y = labels[randIndex]\n",
    "                inter_1 = np.power(x * self.V, 2)  # 1 * k\n",
    "                inter_2 = np.power(x, 2) * np.power(self.V, 2)  # 1 * k\n",
    "                interaction = 0.5 * np.sum(inter_1 - inter_2, axis=1) \n",
    "                yHat = self.sigmoid(self.w0 + x * self.W + interaction)\n",
    "                err = yHat - y\n",
    "                if abs(err) <= 1e-8:\n",
    "                    #print(\"iter: %d, sample: %d. Err too small\" % (i, j))\n",
    "                    continue\n",
    "                self.w0 -= self.alpha * err\n",
    "                self.W -= self.alpha * x.T * err \n",
    "                for s in range(n):\n",
    "                    for l in range(self.k):\n",
    "                        dv = x[0, s] * (np.asscalar(x * self.V[:, l]) - self.V[s, l] * x[0, s])\n",
    "                        self.V[s, l] -= self.alpha * err * dv\n",
    "\n",
    "                del dataIndex[randIndex]\n",
    "\n",
    "            i += 1\n",
    "            return self\n",
    "    def predict_proba(self, dat):\n",
    "        n = self.W.shape[0]\n",
    "        dat = np.mat(dat).reshape(-1, n)  # m * n\n",
    "        inter_1 = np.power(dat * self.V, 2)  # m * k\n",
    "        inter_2 = np.power(dat, 2) * np.power(self.V, 2)  # m * k\n",
    "        interaction = 0.5 * np.sum(inter_1 - inter_2, axis=1)  # m * 1        \n",
    "        Z = dat * self.W + self.w0 + interaction\n",
    "        pos_proba = np.array([self.sigmoid(z) for z in Z]).reshape(-1, 1)\n",
    "        neg_proba = 1 - pos_proba\n",
    "        y_pred_proba = np.c_[neg_proba, pos_proba]\n",
    "        return y_pred_proba\n",
    "    \n",
    "    def predict(self, dat):\n",
    "        y_pred_proba = self.predict_proba(dat)\n",
    "        y_pred = y_pred_proba[:, 1] >= y_pred_proba[:, 0]\n",
    "        return y_pred.astype(int)"
   ]
  },
  {
   "cell_type": "code",
   "execution_count": 196,
   "metadata": {},
   "outputs": [],
   "source": [
    "lr = logistic_regression(max_iter=100, alpha=0.01)\n",
    "fm_lr = FMRegression(max_iter=100, alpha=0.01, k=5)\n",
    "sk_lr = LogisticRegression(max_iter=100, random_state=0)\n",
    "sgd_lr = SGDClassifier(alpha=0.01, max_iter=100, loss='log', random_state=0)"
   ]
  },
  {
   "cell_type": "code",
   "execution_count": 127,
   "metadata": {},
   "outputs": [],
   "source": [
    "def evaluation(model, X_train, X_test, y_train, y_test):\n",
    "    model.fit(X_train, y_train)\n",
    "    y_test_proba = model.predict_proba(X_test)\n",
    "    y_test_pred = model.predict(X_test)\n",
    "    y_train_proba = model.predict_proba(X_train)\n",
    "    y_train_pred = model.predict(X_train)\n",
    "    \n",
    "    fpr, tpr, thresh = roc_curve(y_true=y_test, y_score=y_test_proba[:, 1], pos_label=1)\n",
    "    print(\"the test auc: \",auc(fpr, tpr))\n",
    "\n",
    "    fpr, tpr, thresh = roc_curve(y_true=y_train, y_score=y_train_proba[:, 1], pos_label=1)\n",
    "    print(\"the train auc: \",auc(fpr, tpr))\n",
    "\n",
    "    print(\"the test acc:\", accuracy_score(y_true=y_test, y_pred=y_test_pred))\n",
    "    print(\"the train acc:\", accuracy_score(y_true=y_train, y_pred=y_train_pred))"
   ]
  },
  {
   "cell_type": "code",
   "execution_count": 199,
   "metadata": {},
   "outputs": [
    {
     "name": "stdout",
     "output_type": "stream",
     "text": [
      "logistic_regression\n",
      "the test auc:  0.874009711219\n",
      "the train auc:  0.811441702951\n",
      "the test acc: 0.824626865672\n",
      "the train acc: 0.736\n",
      "\n",
      "\n",
      "FMRegression\n",
      "the test auc:  0.802517250192\n",
      "the train auc:  0.768245905038\n",
      "the test acc: 0.720149253731\n",
      "the train acc: 0.69\n",
      "\n",
      "\n",
      "LogisticRegression\n",
      "the test auc:  0.875095834398\n",
      "the train auc:  0.820530098832\n",
      "the test acc: 0.809701492537\n",
      "the train acc: 0.77\n",
      "\n",
      "\n",
      "SGDClassifier\n",
      "the test auc:  0.877012522361\n",
      "the train auc:  0.820633768747\n",
      "the test acc: 0.809701492537\n",
      "the train acc: 0.768\n",
      "\n",
      "\n"
     ]
    }
   ],
   "source": [
    "for model in [lr, fm_lr, sk_lr, sgd_lr]:\n",
    "    print(model.__class__.__name__)\n",
    "    evaluation(model, X_train_ss, X_test_ss, y_train, y_test)\n",
    "    print(\"\\n\")"
   ]
  }
 ],
 "metadata": {
  "kernelspec": {
   "display_name": "Python 3",
   "language": "python",
   "name": "python3"
  },
  "language_info": {
   "codemirror_mode": {
    "name": "ipython",
    "version": 3
   },
   "file_extension": ".py",
   "mimetype": "text/x-python",
   "name": "python",
   "nbconvert_exporter": "python",
   "pygments_lexer": "ipython3",
   "version": "3.6.5"
  }
 },
 "nbformat": 4,
 "nbformat_minor": 2
}
